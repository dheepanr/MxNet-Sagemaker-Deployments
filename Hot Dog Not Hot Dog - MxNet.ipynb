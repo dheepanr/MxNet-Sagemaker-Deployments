{
 "cells": [
  {
   "cell_type": "markdown",
   "metadata": {},
   "source": [
    "# Overview\n",
    "\n",
    "* This notebook covers how to utilize Sagemaker NEO and Sagemaker Elastic Inference (EI)\n",
    "* In this example, we build a ResNet transfer learning model to predict hot dog/not hot dog [a la Silicon Valley](https://www.google.com/url?sa=t&rct=j&q=&esrc=s&source=web&cd=1&cad=rja&uact=8&ved=2ahUKEwieq5LR5_jkAhXFY98KHdvcBXEQwqsBMAB6BAgJEAQ&url=https%3A%2F%2Fwww.youtube.com%2Fwatch%3Fv%3DACmydtFDTGs&usg=AOvVaw1OQiCPPVe3B2B6ndhvDGnq)\n",
    "* Note to run through this notebook Sagemaker P2 instances and a notebook with at least 10 gb of disk space is needed\n",
    "* We utilize the Food101 dataset to create the hot dog/not hot dog dataset\n",
    "* By the end of the notebook we show how inference speed are measured against cost for a ResNet Model\n"
   ]
  },
  {
   "cell_type": "markdown",
   "metadata": {},
   "source": [
    "# Data Prep"
   ]
  },
  {
   "cell_type": "markdown",
   "metadata": {},
   "source": [
    "* Download and unzip the Food101 dataset in a terminal using the code below \n",
    "\n",
    "`cd Sagemaker`\n",
    "\n",
    " `wget http://data.vision.ee.ethz.ch/cvl/food-101.tar.gz`\n",
    " \n",
    " `tar -zxvf food-101.tar.gz`"
   ]
  },
  {
   "cell_type": "code",
   "execution_count": 1,
   "metadata": {},
   "outputs": [],
   "source": [
    "# load necessary packages\n",
    "import json\n",
    "from glob import glob\n",
    "import shutil\n",
    "import os\n",
    "import numpy as np\n",
    "from mxnet import gluon\n",
    "import sys"
   ]
  },
  {
   "cell_type": "code",
   "execution_count": 21,
   "metadata": {},
   "outputs": [
    {
     "name": "stdout",
     "output_type": "stream",
     "text": [
      "Collecting tqdm\n",
      "\u001b[?25l  Downloading https://files.pythonhosted.org/packages/7f/32/5144caf0478b1f26bd9d97f510a47336cf4ac0f96c6bc3b5af20d4173920/tqdm-4.40.2-py2.py3-none-any.whl (55kB)\n",
      "\u001b[K    100% |████████████████████████████████| 61kB 26.1MB/s ta 0:00:01\n",
      "\u001b[?25hInstalling collected packages: tqdm\n",
      "Successfully installed tqdm-4.40.2\n",
      "\u001b[33mYou are using pip version 10.0.1, however version 19.3.1 is available.\n",
      "You should consider upgrading via the 'pip install --upgrade pip' command.\u001b[0m\n"
     ]
    }
   ],
   "source": [
    "!{sys.executable} -m pip install tqdm"
   ]
  },
  {
   "cell_type": "code",
   "execution_count": 2,
   "metadata": {},
   "outputs": [],
   "source": [
    "# need to create food101 folder with contents first\n",
    "os.chdir('food-101')"
   ]
  },
  {
   "cell_type": "code",
   "execution_count": 3,
   "metadata": {},
   "outputs": [],
   "source": [
    "train_json = json.load(open('meta/train.json'))\n",
    "test_json = json.load(open('meta/test.json'))"
   ]
  },
  {
   "cell_type": "code",
   "execution_count": 87,
   "metadata": {},
   "outputs": [],
   "source": [
    "# make directories for the hot dog/not hot dog dataset\n",
    "os.makedirs('../hotdog_not_hotdog/train/hot_dog/', exist_ok=True)\n",
    "os.makedirs('../hotdog_not_hotdog/test/hot_dog/', exist_ok=True)\n",
    "\n",
    "os.makedirs('../hotdog_not_hotdog/train/not_hotdog/', exist_ok=True)\n",
    "os.makedirs('../hotdog_not_hotdog/test/not_hotdog/', exist_ok=True)"
   ]
  },
  {
   "cell_type": "code",
   "execution_count": 5,
   "metadata": {},
   "outputs": [],
   "source": [
    "import random\n",
    "import copy\n",
    "from tqdm import tqdm\n",
    "\n",
    "def move_and_rename(json, dest, n_images):\n",
    "    '''\n",
    "    This function takes a json of file names, copies and renames these files into new directories\n",
    "    All images are copied for hot dog files, the function randomly copies other images for number of n_images\n",
    "    json : dict, dict of filenames\n",
    "    dest, string, local folder where to deposit files\n",
    "    n_images, int, number of images to randomly sample for not hot dog images\n",
    "    '''\n",
    "    json_copy = copy.deepcopy(json)\n",
    "    hotdog_images = json_copy['hot_dog']\n",
    "    for i in hotdog_images:\n",
    "        shutil.copyfile('images/{}.jpg'.format(i), '../hotdog_not_hotdog/{}/{}.jpg'.format(dest,i))\n",
    "    json_copy.pop('hot_dog')\n",
    "    other_foods = list(json_copy.keys())\n",
    "    cnt = 0\n",
    "    for i in tqdm(list(range(n_images))):\n",
    "        random_indexer = random.randint(0, len(other_foods)-1)\n",
    "        other_class_imgs = json_copy[other_foods[random_indexer]]\n",
    "        img_indexer = random.randint(0, len(other_class_imgs)-1)\n",
    "        selected_image = other_class_imgs[img_indexer]\n",
    "        destination_name = 'not_hotdog/{}'.format(cnt)\n",
    "        shutil.copyfile('images/{}.jpg'.format(selected_image), '../hotdog_not_hotdog/{}/{}.jpg'.format(dest,destination_name))\n",
    "        other_class_imgs.pop(img_indexer)\n",
    "        # delete used image from list of possibilities\n",
    "        json_copy[other_foods[random_indexer]] = other_class_imgs\n",
    "        cnt += 1"
   ]
  },
  {
   "cell_type": "code",
   "execution_count": 6,
   "metadata": {},
   "outputs": [
    {
     "name": "stderr",
     "output_type": "stream",
     "text": [
      "100%|██████████| 750/750 [00:01<00:00, 739.61it/s]\n",
      "100%|██████████| 250/250 [00:00<00:00, 915.15it/s]\n"
     ]
    }
   ],
   "source": [
    "# create dataset folders\n",
    "move_and_rename(train_json, 'train', 750)\n",
    "move_and_rename(test_json, 'test', 250)"
   ]
  },
  {
   "cell_type": "code",
   "execution_count": 7,
   "metadata": {},
   "outputs": [
    {
     "data": {
      "text/plain": [
       "750"
      ]
     },
     "execution_count": 7,
     "metadata": {},
     "output_type": "execute_result"
    }
   ],
   "source": [
    "#validate the number of images in the folders\n",
    "len(glob('../hotdog_not_hotdog/train/hot_dog/*'))"
   ]
  },
  {
   "cell_type": "code",
   "execution_count": 8,
   "metadata": {},
   "outputs": [
    {
     "data": {
      "text/plain": [
       "250"
      ]
     },
     "execution_count": 8,
     "metadata": {},
     "output_type": "execute_result"
    }
   ],
   "source": [
    "len(glob('../hotdog_not_hotdog/test/not_hotdog/*'))"
   ]
  },
  {
   "cell_type": "markdown",
   "metadata": {},
   "source": [
    "# Model Training"
   ]
  },
  {
   "cell_type": "markdown",
   "metadata": {},
   "source": [
    "## Setup\n",
    "\n",
    "Create Sagemaker session and role"
   ]
  },
  {
   "cell_type": "code",
   "execution_count": 9,
   "metadata": {},
   "outputs": [],
   "source": [
    "import sagemaker\n",
    "from sagemaker.mxnet import MXNet\n",
    "\n",
    "sagemaker_session = sagemaker.Session()\n",
    "role = sagemaker.get_execution_role()"
   ]
  },
  {
   "cell_type": "markdown",
   "metadata": {},
   "source": [
    "## Upload Data\n",
    "\n",
    "* Sagemaker expects the data to be in an s3 path"
   ]
  },
  {
   "cell_type": "code",
   "execution_count": 10,
   "metadata": {},
   "outputs": [
    {
     "name": "stdout",
     "output_type": "stream",
     "text": [
      "input spec (in this case, just an S3 path): s3://sagemaker-us-east-1-178197730631/data/DEMO-hotdog_not_hotdog\n"
     ]
    }
   ],
   "source": [
    "inputs = sagemaker_session.upload_data(path='../hotdog_not_hotdog', key_prefix='data/DEMO-hotdog_not_hotdog')\n",
    "print('input spec (in this case, just an S3 path): {}'.format(inputs))"
   ]
  },
  {
   "cell_type": "markdown",
   "metadata": {},
   "source": [
    "## Notes on the MxNet Script\n",
    "\n",
    "* The 'hotdog-not-hotdog.py' file has functions for training and deploying the model\n",
    "    * The model_fn and transform_fn's automatically deploy on the correct context based on environment\n",
    "    * For elastic inference data must be placed on `mxnet.eia()` for both data and model\n",
    "* Note that the model has the following hyperparameters for training\n",
    "    * batch_size, int, number for batch size\n",
    "    * epochs, int, number of epochs to run training\n",
    "    * learning rate, float, the learning rate for the model\n",
    "    * momentum, float, momentum for the SGD algorithm\n",
    "    * wd, float, weight decay parameter for model params\n",
    "    * resnet_size, str, size of resnet to use one of 18, 34, 50, 101, 152\n",
    "    \n",
    "\n",
    "* As a opposed to a standard MxNet script to use Sagemaker Neo special functions need to be added\n",
    "    * These are seen at the bottom of the script (neo_postprocess and neo_preprocess)"
   ]
  },
  {
   "cell_type": "markdown",
   "metadata": {},
   "source": [
    "## Training Job\n",
    "\n",
    "* Instantiate the Sagemaker MxNet estimator with the role, instance type, number of instances and hyperparameters"
   ]
  },
  {
   "cell_type": "code",
   "execution_count": 11,
   "metadata": {},
   "outputs": [],
   "source": [
    "m = MXNet('../hotdog-not-hotdog-mxnet.py',\n",
    "          role=role, \n",
    "          framework_version='1.4.1',\n",
    "          train_instance_count=1,\n",
    "          train_instance_type='ml.p3.2xlarge',\n",
    "          py_version='py3',\n",
    "          hyperparameters={'batch_size': 32,\n",
    "                           'epochs': 6,\n",
    "                           'learning_rate': 0.01,\n",
    "                           'momentum': 0.9,\n",
    "                           'resnet_size':'101'})"
   ]
  },
  {
   "cell_type": "markdown",
   "metadata": {},
   "source": [
    "* Fit the model against the s3 path specified earlier"
   ]
  },
  {
   "cell_type": "code",
   "execution_count": 12,
   "metadata": {},
   "outputs": [
    {
     "name": "stdout",
     "output_type": "stream",
     "text": [
      "2019-12-12 02:34:27 Starting - Starting the training job...\n",
      "2019-12-12 02:34:30 Starting - Launching requested ML instances......\n",
      "2019-12-12 02:35:35 Starting - Preparing the instances for training......\n",
      "2019-12-12 02:36:40 Downloading - Downloading input data...\n",
      "2019-12-12 02:37:26 Training - Training image download completed. Training in progress..\u001b[34m2019-12-12 02:37:27,498 sagemaker-containers INFO     Imported framework sagemaker_mxnet_container.training\u001b[0m\n",
      "\u001b[34m2019-12-12 02:37:27,524 sagemaker_mxnet_container.training INFO     MXNet training environment: {'SM_HOSTS': '[\"algo-1\"]', 'SM_NETWORK_INTERFACE_NAME': 'eth0', 'SM_HPS': '{\"batch_size\":32,\"epochs\":6,\"learning_rate\":0.01,\"momentum\":0.9,\"resnet_size\":\"101\"}', 'SM_USER_ENTRY_POINT': 'hotdog-not-hotdog-mxnet.py', 'SM_FRAMEWORK_PARAMS': '{}', 'SM_RESOURCE_CONFIG': '{\"current_host\":\"algo-1\",\"hosts\":[\"algo-1\"],\"network_interface_name\":\"eth0\"}', 'SM_INPUT_DATA_CONFIG': '{\"training\":{\"RecordWrapperType\":\"None\",\"S3DistributionType\":\"FullyReplicated\",\"TrainingInputMode\":\"File\"}}', 'SM_OUTPUT_DATA_DIR': '/opt/ml/output/data', 'SM_CHANNELS': '[\"training\"]', 'SM_CURRENT_HOST': 'algo-1', 'SM_MODULE_NAME': 'hotdog-not-hotdog-mxnet', 'SM_LOG_LEVEL': '20', 'SM_FRAMEWORK_MODULE': 'sagemaker_mxnet_container.training:main', 'SM_INPUT_DIR': '/opt/ml/input', 'SM_INPUT_CONFIG_DIR': '/opt/ml/input/config', 'SM_OUTPUT_DIR': '/opt/ml/output', 'SM_NUM_CPUS': '8', 'SM_NUM_GPUS': '1', 'SM_MODEL_DIR': '/opt/ml/model', 'SM_MODULE_DIR': 's3://sagemaker-us-east-1-178197730631/mxnet-training-2019-12-12-02-34-27-273/source/sourcedir.tar.gz', 'SM_TRAINING_ENV': '{\"additional_framework_parameters\":{},\"channel_input_dirs\":{\"training\":\"/opt/ml/input/data/training\"},\"current_host\":\"algo-1\",\"framework_module\":\"sagemaker_mxnet_container.training:main\",\"hosts\":[\"algo-1\"],\"hyperparameters\":{\"batch_size\":32,\"epochs\":6,\"learning_rate\":0.01,\"momentum\":0.9,\"resnet_size\":\"101\"},\"input_config_dir\":\"/opt/ml/input/config\",\"input_data_config\":{\"training\":{\"RecordWrapperType\":\"None\",\"S3DistributionType\":\"FullyReplicated\",\"TrainingInputMode\":\"File\"}},\"input_dir\":\"/opt/ml/input\",\"is_master\":true,\"job_name\":\"mxnet-training-2019-12-12-02-34-27-273\",\"log_level\":20,\"master_hostname\":\"algo-1\",\"model_dir\":\"/opt/ml/model\",\"module_dir\":\"s3://sagemaker-us-east-1-178197730631/mxnet-training-2019-12-12-02-34-27-273/source/sourcedir.tar.gz\",\"module_name\":\"hotdog-not-hotdog-mxnet\",\"network_interface_name\":\"eth0\",\"num_cpus\":8,\"num_gpus\":1,\"output_data_dir\":\"/opt/ml/output/data\",\"output_dir\":\"/opt/ml/output\",\"output_intermediate_dir\":\"/opt/ml/output/intermediate\",\"resource_config\":{\"current_host\":\"algo-1\",\"hosts\":[\"algo-1\"],\"network_interface_name\":\"eth0\"},\"user_entry_point\":\"hotdog-not-hotdog-mxnet.py\"}', 'SM_USER_ARGS': '[\"--batch_size\",\"32\",\"--epochs\",\"6\",\"--learning_rate\",\"0.01\",\"--momentum\",\"0.9\",\"--resnet_size\",\"101\"]', 'SM_OUTPUT_INTERMEDIATE_DIR': '/opt/ml/output/intermediate', 'SM_CHANNEL_TRAINING': '/opt/ml/input/data/training', 'SM_HP_BATCH_SIZE': '32', 'SM_HP_RESNET_SIZE': '101', 'SM_HP_EPOCHS': '6', 'SM_HP_LEARNING_RATE': '0.01', 'SM_HP_MOMENTUM': '0.9'}\u001b[0m\n",
      "\u001b[34m2019-12-12 02:37:27,782 sagemaker-containers INFO     Module hotdog-not-hotdog-mxnet does not provide a setup.py. \u001b[0m\n",
      "\u001b[34mGenerating setup.py\u001b[0m\n",
      "\u001b[34m2019-12-12 02:37:27,782 sagemaker-containers INFO     Generating setup.cfg\u001b[0m\n",
      "\u001b[34m2019-12-12 02:37:27,782 sagemaker-containers INFO     Generating MANIFEST.in\u001b[0m\n",
      "\u001b[34m2019-12-12 02:37:27,783 sagemaker-containers INFO     Installing module with the following command:\u001b[0m\n",
      "\u001b[34m/usr/local/bin/python3.6 -m pip install -U . \u001b[0m\n",
      "\u001b[34mProcessing /opt/ml/code\u001b[0m\n",
      "\u001b[34mInstalling collected packages: hotdog-not-hotdog-mxnet\n",
      "  Running setup.py install for hotdog-not-hotdog-mxnet: started\n",
      "    Running setup.py install for hotdog-not-hotdog-mxnet: finished with status 'done'\u001b[0m\n",
      "\u001b[34mSuccessfully installed hotdog-not-hotdog-mxnet-1.0.0\u001b[0m\n",
      "\u001b[34mWARNING: You are using pip version 19.1.1, however version 19.3.1 is available.\u001b[0m\n",
      "\u001b[34mYou should consider upgrading via the 'pip install --upgrade pip' command.\u001b[0m\n",
      "\u001b[34m2019-12-12 02:37:29,363 sagemaker-containers INFO     Invoking user script\n",
      "\u001b[0m\n",
      "\u001b[34mTraining Env:\n",
      "\u001b[0m\n",
      "\u001b[34m{\n",
      "    \"additional_framework_parameters\": {},\n",
      "    \"channel_input_dirs\": {\n",
      "        \"training\": \"/opt/ml/input/data/training\"\n",
      "    },\n",
      "    \"current_host\": \"algo-1\",\n",
      "    \"framework_module\": \"sagemaker_mxnet_container.training:main\",\n",
      "    \"hosts\": [\n",
      "        \"algo-1\"\n",
      "    ],\n",
      "    \"hyperparameters\": {\n",
      "        \"batch_size\": 32,\n",
      "        \"resnet_size\": \"101\",\n",
      "        \"epochs\": 6,\n",
      "        \"learning_rate\": 0.01,\n",
      "        \"momentum\": 0.9\n",
      "    },\n",
      "    \"input_config_dir\": \"/opt/ml/input/config\",\n",
      "    \"input_data_config\": {\n",
      "        \"training\": {\n",
      "            \"TrainingInputMode\": \"File\",\n",
      "            \"S3DistributionType\": \"FullyReplicated\",\n",
      "            \"RecordWrapperType\": \"None\"\n",
      "        }\n",
      "    },\n",
      "    \"input_dir\": \"/opt/ml/input\",\n",
      "    \"is_master\": true,\n",
      "    \"job_name\": \"mxnet-training-2019-12-12-02-34-27-273\",\n",
      "    \"log_level\": 20,\n",
      "    \"master_hostname\": \"algo-1\",\n",
      "    \"model_dir\": \"/opt/ml/model\",\n",
      "    \"module_dir\": \"s3://sagemaker-us-east-1-178197730631/mxnet-training-2019-12-12-02-34-27-273/source/sourcedir.tar.gz\",\n",
      "    \"module_name\": \"hotdog-not-hotdog-mxnet\",\n",
      "    \"network_interface_name\": \"eth0\",\n",
      "    \"num_cpus\": 8,\n",
      "    \"num_gpus\": 1,\n",
      "    \"output_data_dir\": \"/opt/ml/output/data\",\n",
      "    \"output_dir\": \"/opt/ml/output\",\n",
      "    \"output_intermediate_dir\": \"/opt/ml/output/intermediate\",\n",
      "    \"resource_config\": {\n",
      "        \"current_host\": \"algo-1\",\n",
      "        \"hosts\": [\n",
      "            \"algo-1\"\n",
      "        ],\n",
      "        \"network_interface_name\": \"eth0\"\n",
      "    },\n",
      "    \"user_entry_point\": \"hotdog-not-hotdog-mxnet.py\"\u001b[0m\n",
      "\u001b[34m}\n",
      "\u001b[0m\n",
      "\u001b[34mEnvironment variables:\n",
      "\u001b[0m\n",
      "\u001b[34mSM_HOSTS=[\"algo-1\"]\u001b[0m\n",
      "\u001b[34mSM_NETWORK_INTERFACE_NAME=eth0\u001b[0m\n",
      "\u001b[34mSM_HPS={\"batch_size\":32,\"epochs\":6,\"learning_rate\":0.01,\"momentum\":0.9,\"resnet_size\":\"101\"}\u001b[0m\n",
      "\u001b[34mSM_USER_ENTRY_POINT=hotdog-not-hotdog-mxnet.py\u001b[0m\n",
      "\u001b[34mSM_FRAMEWORK_PARAMS={}\u001b[0m\n",
      "\u001b[34mSM_RESOURCE_CONFIG={\"current_host\":\"algo-1\",\"hosts\":[\"algo-1\"],\"network_interface_name\":\"eth0\"}\u001b[0m\n",
      "\u001b[34mSM_INPUT_DATA_CONFIG={\"training\":{\"RecordWrapperType\":\"None\",\"S3DistributionType\":\"FullyReplicated\",\"TrainingInputMode\":\"File\"}}\u001b[0m\n",
      "\u001b[34mSM_OUTPUT_DATA_DIR=/opt/ml/output/data\u001b[0m\n",
      "\u001b[34mSM_CHANNELS=[\"training\"]\u001b[0m\n",
      "\u001b[34mSM_CURRENT_HOST=algo-1\u001b[0m\n",
      "\u001b[34mSM_MODULE_NAME=hotdog-not-hotdog-mxnet\u001b[0m\n",
      "\u001b[34mSM_LOG_LEVEL=20\u001b[0m\n",
      "\u001b[34mSM_FRAMEWORK_MODULE=sagemaker_mxnet_container.training:main\u001b[0m\n",
      "\u001b[34mSM_INPUT_DIR=/opt/ml/input\u001b[0m\n",
      "\u001b[34mSM_INPUT_CONFIG_DIR=/opt/ml/input/config\u001b[0m\n",
      "\u001b[34mSM_OUTPUT_DIR=/opt/ml/output\u001b[0m\n",
      "\u001b[34mSM_NUM_CPUS=8\u001b[0m\n",
      "\u001b[34mSM_NUM_GPUS=1\u001b[0m\n",
      "\u001b[34mSM_MODEL_DIR=/opt/ml/model\u001b[0m\n",
      "\u001b[34mSM_MODULE_DIR=s3://sagemaker-us-east-1-178197730631/mxnet-training-2019-12-12-02-34-27-273/source/sourcedir.tar.gz\u001b[0m\n",
      "\u001b[34mSM_TRAINING_ENV={\"additional_framework_parameters\":{},\"channel_input_dirs\":{\"training\":\"/opt/ml/input/data/training\"},\"current_host\":\"algo-1\",\"framework_module\":\"sagemaker_mxnet_container.training:main\",\"hosts\":[\"algo-1\"],\"hyperparameters\":{\"batch_size\":32,\"epochs\":6,\"learning_rate\":0.01,\"momentum\":0.9,\"resnet_size\":\"101\"},\"input_config_dir\":\"/opt/ml/input/config\",\"input_data_config\":{\"training\":{\"RecordWrapperType\":\"None\",\"S3DistributionType\":\"FullyReplicated\",\"TrainingInputMode\":\"File\"}},\"input_dir\":\"/opt/ml/input\",\"is_master\":true,\"job_name\":\"mxnet-training-2019-12-12-02-34-27-273\",\"log_level\":20,\"master_hostname\":\"algo-1\",\"model_dir\":\"/opt/ml/model\",\"module_dir\":\"s3://sagemaker-us-east-1-178197730631/mxnet-training-2019-12-12-02-34-27-273/source/sourcedir.tar.gz\",\"module_name\":\"hotdog-not-hotdog-mxnet\",\"network_interface_name\":\"eth0\",\"num_cpus\":8,\"num_gpus\":1,\"output_data_dir\":\"/opt/ml/output/data\",\"output_dir\":\"/opt/ml/output\",\"output_intermediate_dir\":\"/opt/ml/output/intermediate\",\"resource_config\":{\"current_host\":\"algo-1\",\"hosts\":[\"algo-1\"],\"network_interface_name\":\"eth0\"},\"user_entry_point\":\"hotdog-not-hotdog-mxnet.py\"}\u001b[0m\n",
      "\u001b[34mSM_USER_ARGS=[\"--batch_size\",\"32\",\"--epochs\",\"6\",\"--learning_rate\",\"0.01\",\"--momentum\",\"0.9\",\"--resnet_size\",\"101\"]\u001b[0m\n",
      "\u001b[34mSM_OUTPUT_INTERMEDIATE_DIR=/opt/ml/output/intermediate\u001b[0m\n",
      "\u001b[34mSM_CHANNEL_TRAINING=/opt/ml/input/data/training\u001b[0m\n",
      "\u001b[34mSM_HP_BATCH_SIZE=32\u001b[0m\n",
      "\u001b[34mSM_HP_RESNET_SIZE=101\u001b[0m\n",
      "\u001b[34mSM_HP_EPOCHS=6\u001b[0m\n",
      "\u001b[34mSM_HP_LEARNING_RATE=0.01\u001b[0m\n",
      "\u001b[34mSM_HP_MOMENTUM=0.9\u001b[0m\n",
      "\u001b[34mPYTHONPATH=/usr/local/bin:/usr/local/lib/python36.zip:/usr/local/lib/python3.6:/usr/local/lib/python3.6/lib-dynload:/usr/local/lib/python3.6/site-packages\n",
      "\u001b[0m\n",
      "\u001b[34mInvoking script with the following command:\n",
      "\u001b[0m\n",
      "\u001b[34m/usr/local/bin/python3.6 -m hotdog-not-hotdog-mxnet --batch_size 32 --epochs 6 --learning_rate 0.01 --momentum 0.9 --resnet_size 101\n",
      "\n",
      "\u001b[0m\n",
      "\u001b[34mUsing Resnet 101 model\u001b[0m\n",
      "\u001b[34mgpu(0)\u001b[0m\n",
      "\u001b[34mDownloading /root/.mxnet/models/resnet101_v2-18e93e4f.zip from https://apache-mxnet.s3-accelerate.dualstack.amazonaws.com/gluon/models/resnet101_v2-18e93e4f.zip...\u001b[0m\n",
      "\u001b[34mThe data dir is: \u001b[0m\n",
      "\u001b[34m/opt/ml/input/data/training\u001b[0m\n",
      "\u001b[34m['train', 'test']\u001b[0m\n",
      "\u001b[34m['hot_dog', 'not_hotdog']\u001b[0m\n",
      "\u001b[34mLoaded Image Folders\u001b[0m\n",
      "\u001b[34mTransformed Training and Test Files\u001b[0m\n",
      "\u001b[34mInitialized Batching Operation\u001b[0m\n",
      "\u001b[34m/usr/local/lib/python3.6/site-packages/mxnet/gluon/parameter.py:813: UserWarning: Parameter 'resnetv20_batchnorm0_gamma' is already initialized, ignoring. Set force_reinit=True to re-initialize.\n",
      "  v.initialize(None, ctx, init, force_reinit=force_reinit)\u001b[0m\n",
      "\u001b[34m/usr/local/lib/python3.6/site-packages/mxnet/gluon/parameter.py:813: UserWarning: Parameter 'resnetv20_batchnorm0_beta' is already initialized, ignoring. Set force_reinit=True to re-initialize.\n",
      "  v.initialize(None, ctx, init, force_reinit=force_reinit)\u001b[0m\n",
      "\u001b[34m/usr/local/lib/python3.6/site-packages/mxnet/gluon/parameter.py:813: UserWarning: Parameter 'resnetv20_batchnorm0_running_mean' is already initialized, ignoring. Set force_reinit=True to re-initialize.\n",
      "  v.initialize(None, ctx, init, force_reinit=force_reinit)\u001b[0m\n",
      "\u001b[34m/usr/local/lib/python3.6/site-packages/mxnet/gluon/parameter.py:813: UserWarning: Parameter 'resnetv20_batchnorm0_running_var' is already initialized, ignoring. Set force_reinit=True to re-initialize.\n",
      "  v.initialize(None, ctx, init, force_reinit=force_reinit)\u001b[0m\n",
      "\u001b[34m/usr/local/lib/python3.6/site-packages/mxnet/gluon/parameter.py:813: UserWarning: Parameter 'resnetv20_conv0_weight' is already initialized, ignoring. Set force_reinit=True to re-initialize.\n",
      "  v.initialize(None, ctx, init, force_reinit=force_reinit)\u001b[0m\n",
      "\u001b[34m/usr/local/lib/python3.6/site-packages/mxnet/gluon/parameter.py:813: UserWarning: Parameter 'resnetv20_batchnorm1_gamma' is already initialized, ignoring. Set force_reinit=True to re-initialize.\n",
      "  v.initialize(None, ctx, init, force_reinit=force_reinit)\u001b[0m\n",
      "\u001b[34m/usr/local/lib/python3.6/site-packages/mxnet/gluon/parameter.py:813: UserWarning: Parameter 'resnetv20_batchnorm1_beta' is already initialized, ignoring. Set force_reinit=True to re-initialize.\n",
      "  v.initialize(None, ctx, init, force_reinit=force_reinit)\u001b[0m\n",
      "\u001b[34m/usr/local/lib/python3.6/site-packages/mxnet/gluon/parameter.py:813: UserWarning: Parameter 'resnetv20_batchnorm1_running_mean' is already initialized, ignoring. Set force_reinit=True to re-initialize.\n",
      "  v.initialize(None, ctx, init, force_reinit=force_reinit)\u001b[0m\n",
      "\u001b[34m/usr/local/lib/python3.6/site-packages/mxnet/gluon/parameter.py:813: UserWarning: Parameter 'resnetv20_batchnorm1_running_var' is already initialized, ignoring. Set force_reinit=True to re-initialize.\n",
      "  v.initialize(None, ctx, init, force_reinit=force_reinit)\u001b[0m\n",
      "\u001b[34m/usr/local/lib/python3.6/site-packages/mxnet/gluon/parameter.py:813: UserWarning: Parameter 'resnetv20_stage1_batchnorm0_gamma' is already initialized, ignoring. Set force_reinit=True to re-initialize.\n",
      "  v.initialize(None, ctx, init, force_reinit=force_reinit)\u001b[0m\n",
      "\u001b[34m/usr/local/lib/python3.6/site-packages/mxnet/gluon/parameter.py:813: UserWarning: Parameter 'resnetv20_stage1_batchnorm0_beta' is already initialized, ignoring. Set force_reinit=True to re-initialize.\n",
      "  v.initialize(None, ctx, init, force_reinit=force_reinit)\u001b[0m\n",
      "\u001b[34m/usr/local/lib/python3.6/site-packages/mxnet/gluon/parameter.py:813: UserWarning: Parameter 'resnetv20_stage1_batchnorm0_running_mean' is already initialized, ignoring. Set force_reinit=True to re-initialize.\n",
      "  v.initialize(None, ctx, init, force_reinit=force_reinit)\u001b[0m\n",
      "\u001b[34m/usr/local/lib/python3.6/site-packages/mxnet/gluon/parameter.py:813: UserWarning: Parameter 'resnetv20_stage1_batchnorm0_running_var' is already initialized, ignoring. Set force_reinit=True to re-initialize.\n",
      "  v.initialize(None, ctx, init, force_reinit=force_reinit)\u001b[0m\n",
      "\u001b[34m/usr/local/lib/python3.6/site-packages/mxnet/gluon/parameter.py:813: UserWarning: Parameter 'resnetv20_stage1_conv0_weight' is already initialized, ignoring. Set force_reinit=True to re-initialize.\n",
      "  v.initialize(None, ctx, init, force_reinit=force_reinit)\u001b[0m\n",
      "\u001b[34m/usr/local/lib/python3.6/site-packages/mxnet/gluon/parameter.py:813: UserWarning: Parameter 'resnetv20_stage1_batchnorm1_gamma' is already initialized, ignoring. Set force_reinit=True to re-initialize.\n",
      "  v.initialize(None, ctx, init, force_reinit=force_reinit)\u001b[0m\n",
      "\u001b[34m/usr/local/lib/python3.6/site-packages/mxnet/gluon/parameter.py:813: UserWarning: Parameter 'resnetv20_stage1_batchnorm1_beta' is already initialized, ignoring. Set force_reinit=True to re-initialize.\n",
      "  v.initialize(None, ctx, init, force_reinit=force_reinit)\u001b[0m\n",
      "\u001b[34m/usr/local/lib/python3.6/site-packages/mxnet/gluon/parameter.py:813: UserWarning: Parameter 'resnetv20_stage1_batchnorm1_running_mean' is already initialized, ignoring. Set force_reinit=True to re-initialize.\n",
      "  v.initialize(None, ctx, init, force_reinit=force_reinit)\u001b[0m\n",
      "\u001b[34m/usr/local/lib/python3.6/site-packages/mxnet/gluon/parameter.py:813: UserWarning: Parameter 'resnetv20_stage1_batchnorm1_running_var' is already initialized, ignoring. Set force_reinit=True to re-initialize.\n",
      "  v.initialize(None, ctx, init, force_reinit=force_reinit)\u001b[0m\n",
      "\u001b[34m/usr/local/lib/python3.6/site-packages/mxnet/gluon/parameter.py:813: UserWarning: Parameter 'resnetv20_stage1_conv1_weight' is already initialized, ignoring. Set force_reinit=True to re-initialize.\n",
      "  v.initialize(None, ctx, init, force_reinit=force_reinit)\u001b[0m\n",
      "\u001b[34m/usr/local/lib/python3.6/site-packages/mxnet/gluon/parameter.py:813: UserWarning: Parameter 'resnetv20_stage1_batchnorm2_gamma' is already initialized, ignoring. Set force_reinit=True to re-initialize.\n",
      "  v.initialize(None, ctx, init, force_reinit=force_reinit)\u001b[0m\n",
      "\u001b[34m/usr/local/lib/python3.6/site-packages/mxnet/gluon/parameter.py:813: UserWarning: Parameter 'resnetv20_stage1_batchnorm2_beta' is already initialized, ignoring. Set force_reinit=True to re-initialize.\n",
      "  v.initialize(None, ctx, init, force_reinit=force_reinit)\u001b[0m\n",
      "\u001b[34m/usr/local/lib/python3.6/site-packages/mxnet/gluon/parameter.py:813: UserWarning: Parameter 'resnetv20_stage1_batchnorm2_running_mean' is already initialized, ignoring. Set force_reinit=True to re-initialize.\n",
      "  v.initialize(None, ctx, init, force_reinit=force_reinit)\u001b[0m\n",
      "\u001b[34m/usr/local/lib/python3.6/site-packages/mxnet/gluon/parameter.py:813: UserWarning: Parameter 'resnetv20_stage1_batchnorm2_running_var' is already initialized, ignoring. Set force_reinit=True to re-initialize.\n",
      "  v.initialize(None, ctx, init, force_reinit=force_reinit)\u001b[0m\n",
      "\u001b[34m/usr/local/lib/python3.6/site-packages/mxnet/gluon/parameter.py:813: UserWarning: Parameter 'resnetv20_stage1_conv2_weight' is already initialized, ignoring. Set force_reinit=True to re-initialize.\n",
      "  v.initialize(None, ctx, init, force_reinit=force_reinit)\u001b[0m\n",
      "\u001b[34m/usr/local/lib/python3.6/site-packages/mxnet/gluon/parameter.py:813: UserWarning: Parameter 'resnetv20_stage1_conv3_weight' is already initialized, ignoring. Set force_reinit=True to re-initialize.\n",
      "  v.initialize(None, ctx, init, force_reinit=force_reinit)\u001b[0m\n",
      "\u001b[34m/usr/local/lib/python3.6/site-packages/mxnet/gluon/parameter.py:813: UserWarning: Parameter 'resnetv20_stage1_batchnorm3_gamma' is already initialized, ignoring. Set force_reinit=True to re-initialize.\n",
      "  v.initialize(None, ctx, init, force_reinit=force_reinit)\u001b[0m\n",
      "\u001b[34m/usr/local/lib/python3.6/site-packages/mxnet/gluon/parameter.py:813: UserWarning: Parameter 'resnetv20_stage1_batchnorm3_beta' is already initialized, ignoring. Set force_reinit=True to re-initialize.\n",
      "  v.initialize(None, ctx, init, force_reinit=force_reinit)\u001b[0m\n",
      "\u001b[34m/usr/local/lib/python3.6/site-packages/mxnet/gluon/parameter.py:813: UserWarning: Parameter 'resnetv20_stage1_batchnorm3_running_mean' is already initialized, ignoring. Set force_reinit=True to re-initialize.\n",
      "  v.initialize(None, ctx, init, force_reinit=force_reinit)\u001b[0m\n",
      "\u001b[34m/usr/local/lib/python3.6/site-packages/mxnet/gluon/parameter.py:813: UserWarning: Parameter 'resnetv20_stage1_batchnorm3_running_var' is already initialized, ignoring. Set force_reinit=True to re-initialize.\n",
      "  v.initialize(None, ctx, init, force_reinit=force_reinit)\u001b[0m\n",
      "\u001b[34m/usr/local/lib/python3.6/site-packages/mxnet/gluon/parameter.py:813: UserWarning: Parameter 'resnetv20_stage1_conv4_weight' is already initialized, ignoring. Set force_reinit=True to re-initialize.\n",
      "  v.initialize(None, ctx, init, force_reinit=force_reinit)\u001b[0m\n",
      "\u001b[34m/usr/local/lib/python3.6/site-packages/mxnet/gluon/parameter.py:813: UserWarning: Parameter 'resnetv20_stage1_batchnorm4_gamma' is already initialized, ignoring. Set force_reinit=True to re-initialize.\n",
      "  v.initialize(None, ctx, init, force_reinit=force_reinit)\u001b[0m\n",
      "\u001b[34m/usr/local/lib/python3.6/site-packages/mxnet/gluon/parameter.py:813: UserWarning: Parameter 'resnetv20_stage1_batchnorm4_beta' is already initialized, ignoring. Set force_reinit=True to re-initialize.\n",
      "  v.initialize(None, ctx, init, force_reinit=force_reinit)\u001b[0m\n",
      "\u001b[34m/usr/local/lib/python3.6/site-packages/mxnet/gluon/parameter.py:813: UserWarning: Parameter 'resnetv20_stage1_batchnorm4_running_mean' is already initialized, ignoring. Set force_reinit=True to re-initialize.\n",
      "  v.initialize(None, ctx, init, force_reinit=force_reinit)\u001b[0m\n",
      "\u001b[34m/usr/local/lib/python3.6/site-packages/mxnet/gluon/parameter.py:813: UserWarning: Parameter 'resnetv20_stage1_batchnorm4_running_var' is already initialized, ignoring. Set force_reinit=True to re-initialize.\n",
      "  v.initialize(None, ctx, init, force_reinit=force_reinit)\u001b[0m\n",
      "\u001b[34m/usr/local/lib/python3.6/site-packages/mxnet/gluon/parameter.py:813: UserWarning: Parameter 'resnetv20_stage1_conv5_weight' is already initialized, ignoring. Set force_reinit=True to re-initialize.\n",
      "  v.initialize(None, ctx, init, force_reinit=force_reinit)\u001b[0m\n",
      "\u001b[34m/usr/local/lib/python3.6/site-packages/mxnet/gluon/parameter.py:813: UserWarning: Parameter 'resnetv20_stage1_batchnorm5_gamma' is already initialized, ignoring. Set force_reinit=True to re-initialize.\n",
      "  v.initialize(None, ctx, init, force_reinit=force_reinit)\u001b[0m\n",
      "\u001b[34m/usr/local/lib/python3.6/site-packages/mxnet/gluon/parameter.py:813: UserWarning: Parameter 'resnetv20_stage1_batchnorm5_beta' is already initialized, ignoring. Set force_reinit=True to re-initialize.\n",
      "  v.initialize(None, ctx, init, force_reinit=force_reinit)\u001b[0m\n",
      "\u001b[34m/usr/local/lib/python3.6/site-packages/mxnet/gluon/parameter.py:813: UserWarning: Parameter 'resnetv20_stage1_batchnorm5_running_mean' is already initialized, ignoring. Set force_reinit=True to re-initialize.\n",
      "  v.initialize(None, ctx, init, force_reinit=force_reinit)\u001b[0m\n",
      "\u001b[34m/usr/local/lib/python3.6/site-packages/mxnet/gluon/parameter.py:813: UserWarning: Parameter 'resnetv20_stage1_batchnorm5_running_var' is already initialized, ignoring. Set force_reinit=True to re-initialize.\n",
      "  v.initialize(None, ctx, init, force_reinit=force_reinit)\u001b[0m\n",
      "\u001b[34m/usr/local/lib/python3.6/site-packages/mxnet/gluon/parameter.py:813: UserWarning: Parameter 'resnetv20_stage1_conv6_weight' is already initialized, ignoring. Set force_reinit=True to re-initialize.\n",
      "  v.initialize(None, ctx, init, force_reinit=force_reinit)\u001b[0m\n",
      "\u001b[34m/usr/local/lib/python3.6/site-packages/mxnet/gluon/parameter.py:813: UserWarning: Parameter 'resnetv20_stage1_batchnorm6_gamma' is already initialized, ignoring. Set force_reinit=True to re-initialize.\n",
      "  v.initialize(None, ctx, init, force_reinit=force_reinit)\u001b[0m\n",
      "\u001b[34m/usr/local/lib/python3.6/site-packages/mxnet/gluon/parameter.py:813: UserWarning: Parameter 'resnetv20_stage1_batchnorm6_beta' is already initialized, ignoring. Set force_reinit=True to re-initialize.\n",
      "  v.initialize(None, ctx, init, force_reinit=force_reinit)\u001b[0m\n",
      "\u001b[34m/usr/local/lib/python3.6/site-packages/mxnet/gluon/parameter.py:813: UserWarning: Parameter 'resnetv20_stage1_batchnorm6_running_mean' is already initialized, ignoring. Set force_reinit=True to re-initialize.\n",
      "  v.initialize(None, ctx, init, force_reinit=force_reinit)\u001b[0m\n",
      "\u001b[34m/usr/local/lib/python3.6/site-packages/mxnet/gluon/parameter.py:813: UserWarning: Parameter 'resnetv20_stage1_batchnorm6_running_var' is already initialized, ignoring. Set force_reinit=True to re-initialize.\n",
      "  v.initialize(None, ctx, init, force_reinit=force_reinit)\u001b[0m\n",
      "\u001b[34m/usr/local/lib/python3.6/site-packages/mxnet/gluon/parameter.py:813: UserWarning: Parameter 'resnetv20_stage1_conv7_weight' is already initialized, ignoring. Set force_reinit=True to re-initialize.\n",
      "  v.initialize(None, ctx, init, force_reinit=force_reinit)\u001b[0m\n",
      "\u001b[34m/usr/local/lib/python3.6/site-packages/mxnet/gluon/parameter.py:813: UserWarning: Parameter 'resnetv20_stage1_batchnorm7_gamma' is already initialized, ignoring. Set force_reinit=True to re-initialize.\n",
      "  v.initialize(None, ctx, init, force_reinit=force_reinit)\u001b[0m\n",
      "\u001b[34m/usr/local/lib/python3.6/site-packages/mxnet/gluon/parameter.py:813: UserWarning: Parameter 'resnetv20_stage1_batchnorm7_beta' is already initialized, ignoring. Set force_reinit=True to re-initialize.\n",
      "  v.initialize(None, ctx, init, force_reinit=force_reinit)\u001b[0m\n",
      "\u001b[34m/usr/local/lib/python3.6/site-packages/mxnet/gluon/parameter.py:813: UserWarning: Parameter 'resnetv20_stage1_batchnorm7_running_mean' is already initialized, ignoring. Set force_reinit=True to re-initialize.\n",
      "  v.initialize(None, ctx, init, force_reinit=force_reinit)\u001b[0m\n",
      "\u001b[34m/usr/local/lib/python3.6/site-packages/mxnet/gluon/parameter.py:813: UserWarning: Parameter 'resnetv20_stage1_batchnorm7_running_var' is already initialized, ignoring. Set force_reinit=True to re-initialize.\n",
      "  v.initialize(None, ctx, init, force_reinit=force_reinit)\u001b[0m\n",
      "\u001b[34m/usr/local/lib/python3.6/site-packages/mxnet/gluon/parameter.py:813: UserWarning: Parameter 'resnetv20_stage1_conv8_weight' is already initialized, ignoring. Set force_reinit=True to re-initialize.\n",
      "  v.initialize(None, ctx, init, force_reinit=force_reinit)\u001b[0m\n",
      "\u001b[34m/usr/local/lib/python3.6/site-packages/mxnet/gluon/parameter.py:813: UserWarning: Parameter 'resnetv20_stage1_batchnorm8_gamma' is already initialized, ignoring. Set force_reinit=True to re-initialize.\n",
      "  v.initialize(None, ctx, init, force_reinit=force_reinit)\u001b[0m\n",
      "\u001b[34m/usr/local/lib/python3.6/site-packages/mxnet/gluon/parameter.py:813: UserWarning: Parameter 'resnetv20_stage1_batchnorm8_beta' is already initialized, ignoring. Set force_reinit=True to re-initialize.\n",
      "  v.initialize(None, ctx, init, force_reinit=force_reinit)\u001b[0m\n",
      "\u001b[34m/usr/local/lib/python3.6/site-packages/mxnet/gluon/parameter.py:813: UserWarning: Parameter 'resnetv20_stage1_batchnorm8_running_mean' is already initialized, ignoring. Set force_reinit=True to re-initialize.\n",
      "  v.initialize(None, ctx, init, force_reinit=force_reinit)\u001b[0m\n",
      "\u001b[34m/usr/local/lib/python3.6/site-packages/mxnet/gluon/parameter.py:813: UserWarning: Parameter 'resnetv20_stage1_batchnorm8_running_var' is already initialized, ignoring. Set force_reinit=True to re-initialize.\n",
      "  v.initialize(None, ctx, init, force_reinit=force_reinit)\u001b[0m\n",
      "\u001b[34m/usr/local/lib/python3.6/site-packages/mxnet/gluon/parameter.py:813: UserWarning: Parameter 'resnetv20_stage1_conv9_weight' is already initialized, ignoring. Set force_reinit=True to re-initialize.\n",
      "  v.initialize(None, ctx, init, force_reinit=force_reinit)\u001b[0m\n",
      "\u001b[34m/usr/local/lib/python3.6/site-packages/mxnet/gluon/parameter.py:813: UserWarning: Parameter 'resnetv20_stage2_batchnorm0_gamma' is already initialized, ignoring. Set force_reinit=True to re-initialize.\n",
      "  v.initialize(None, ctx, init, force_reinit=force_reinit)\u001b[0m\n",
      "\u001b[34m/usr/local/lib/python3.6/site-packages/mxnet/gluon/parameter.py:813: UserWarning: Parameter 'resnetv20_stage2_batchnorm0_beta' is already initialized, ignoring. Set force_reinit=True to re-initialize.\n",
      "  v.initialize(None, ctx, init, force_reinit=force_reinit)\u001b[0m\n",
      "\u001b[34m/usr/local/lib/python3.6/site-packages/mxnet/gluon/parameter.py:813: UserWarning: Parameter 'resnetv20_stage2_batchnorm0_running_mean' is already initialized, ignoring. Set force_reinit=True to re-initialize.\n",
      "  v.initialize(None, ctx, init, force_reinit=force_reinit)\u001b[0m\n",
      "\u001b[34m/usr/local/lib/python3.6/site-packages/mxnet/gluon/parameter.py:813: UserWarning: Parameter 'resnetv20_stage2_batchnorm0_running_var' is already initialized, ignoring. Set force_reinit=True to re-initialize.\n",
      "  v.initialize(None, ctx, init, force_reinit=force_reinit)\u001b[0m\n",
      "\u001b[34m/usr/local/lib/python3.6/site-packages/mxnet/gluon/parameter.py:813: UserWarning: Parameter 'resnetv20_stage2_conv0_weight' is already initialized, ignoring. Set force_reinit=True to re-initialize.\n",
      "  v.initialize(None, ctx, init, force_reinit=force_reinit)\u001b[0m\n",
      "\u001b[34m/usr/local/lib/python3.6/site-packages/mxnet/gluon/parameter.py:813: UserWarning: Parameter 'resnetv20_stage2_batchnorm1_gamma' is already initialized, ignoring. Set force_reinit=True to re-initialize.\n",
      "  v.initialize(None, ctx, init, force_reinit=force_reinit)\u001b[0m\n",
      "\u001b[34m/usr/local/lib/python3.6/site-packages/mxnet/gluon/parameter.py:813: UserWarning: Parameter 'resnetv20_stage2_batchnorm1_beta' is already initialized, ignoring. Set force_reinit=True to re-initialize.\n",
      "  v.initialize(None, ctx, init, force_reinit=force_reinit)\u001b[0m\n",
      "\u001b[34m/usr/local/lib/python3.6/site-packages/mxnet/gluon/parameter.py:813: UserWarning: Parameter 'resnetv20_stage2_batchnorm1_running_mean' is already initialized, ignoring. Set force_reinit=True to re-initialize.\n",
      "  v.initialize(None, ctx, init, force_reinit=force_reinit)\u001b[0m\n",
      "\u001b[34m/usr/local/lib/python3.6/site-packages/mxnet/gluon/parameter.py:813: UserWarning: Parameter 'resnetv20_stage2_batchnorm1_running_var' is already initialized, ignoring. Set force_reinit=True to re-initialize.\n",
      "  v.initialize(None, ctx, init, force_reinit=force_reinit)\u001b[0m\n",
      "\u001b[34m/usr/local/lib/python3.6/site-packages/mxnet/gluon/parameter.py:813: UserWarning: Parameter 'resnetv20_stage2_conv1_weight' is already initialized, ignoring. Set force_reinit=True to re-initialize.\n",
      "  v.initialize(None, ctx, init, force_reinit=force_reinit)\u001b[0m\n",
      "\u001b[34m/usr/local/lib/python3.6/site-packages/mxnet/gluon/parameter.py:813: UserWarning: Parameter 'resnetv20_stage2_batchnorm2_gamma' is already initialized, ignoring. Set force_reinit=True to re-initialize.\n",
      "  v.initialize(None, ctx, init, force_reinit=force_reinit)\u001b[0m\n",
      "\u001b[34m/usr/local/lib/python3.6/site-packages/mxnet/gluon/parameter.py:813: UserWarning: Parameter 'resnetv20_stage2_batchnorm2_beta' is already initialized, ignoring. Set force_reinit=True to re-initialize.\n",
      "  v.initialize(None, ctx, init, force_reinit=force_reinit)\u001b[0m\n",
      "\u001b[34m/usr/local/lib/python3.6/site-packages/mxnet/gluon/parameter.py:813: UserWarning: Parameter 'resnetv20_stage2_batchnorm2_running_mean' is already initialized, ignoring. Set force_reinit=True to re-initialize.\n",
      "  v.initialize(None, ctx, init, force_reinit=force_reinit)\u001b[0m\n",
      "\u001b[34m/usr/local/lib/python3.6/site-packages/mxnet/gluon/parameter.py:813: UserWarning: Parameter 'resnetv20_stage2_batchnorm2_running_var' is already initialized, ignoring. Set force_reinit=True to re-initialize.\n",
      "  v.initialize(None, ctx, init, force_reinit=force_reinit)\u001b[0m\n",
      "\u001b[34m/usr/local/lib/python3.6/site-packages/mxnet/gluon/parameter.py:813: UserWarning: Parameter 'resnetv20_stage2_conv2_weight' is already initialized, ignoring. Set force_reinit=True to re-initialize.\n",
      "  v.initialize(None, ctx, init, force_reinit=force_reinit)\u001b[0m\n",
      "\u001b[34m/usr/local/lib/python3.6/site-packages/mxnet/gluon/parameter.py:813: UserWarning: Parameter 'resnetv20_stage2_conv3_weight' is already initialized, ignoring. Set force_reinit=True to re-initialize.\n",
      "  v.initialize(None, ctx, init, force_reinit=force_reinit)\u001b[0m\n",
      "\u001b[34m/usr/local/lib/python3.6/site-packages/mxnet/gluon/parameter.py:813: UserWarning: Parameter 'resnetv20_stage2_batchnorm3_gamma' is already initialized, ignoring. Set force_reinit=True to re-initialize.\n",
      "  v.initialize(None, ctx, init, force_reinit=force_reinit)\u001b[0m\n",
      "\u001b[34m/usr/local/lib/python3.6/site-packages/mxnet/gluon/parameter.py:813: UserWarning: Parameter 'resnetv20_stage2_batchnorm3_beta' is already initialized, ignoring. Set force_reinit=True to re-initialize.\n",
      "  v.initialize(None, ctx, init, force_reinit=force_reinit)\u001b[0m\n",
      "\u001b[34m/usr/local/lib/python3.6/site-packages/mxnet/gluon/parameter.py:813: UserWarning: Parameter 'resnetv20_stage2_batchnorm3_running_mean' is already initialized, ignoring. Set force_reinit=True to re-initialize.\n",
      "  v.initialize(None, ctx, init, force_reinit=force_reinit)\u001b[0m\n",
      "\u001b[34m/usr/local/lib/python3.6/site-packages/mxnet/gluon/parameter.py:813: UserWarning: Parameter 'resnetv20_stage2_batchnorm3_running_var' is already initialized, ignoring. Set force_reinit=True to re-initialize.\n",
      "  v.initialize(None, ctx, init, force_reinit=force_reinit)\u001b[0m\n",
      "\u001b[34m/usr/local/lib/python3.6/site-packages/mxnet/gluon/parameter.py:813: UserWarning: Parameter 'resnetv20_stage2_conv4_weight' is already initialized, ignoring. Set force_reinit=True to re-initialize.\n",
      "  v.initialize(None, ctx, init, force_reinit=force_reinit)\u001b[0m\n",
      "\u001b[34m/usr/local/lib/python3.6/site-packages/mxnet/gluon/parameter.py:813: UserWarning: Parameter 'resnetv20_stage2_batchnorm4_gamma' is already initialized, ignoring. Set force_reinit=True to re-initialize.\n",
      "  v.initialize(None, ctx, init, force_reinit=force_reinit)\u001b[0m\n",
      "\u001b[34m/usr/local/lib/python3.6/site-packages/mxnet/gluon/parameter.py:813: UserWarning: Parameter 'resnetv20_stage2_batchnorm4_beta' is already initialized, ignoring. Set force_reinit=True to re-initialize.\n",
      "  v.initialize(None, ctx, init, force_reinit=force_reinit)\u001b[0m\n",
      "\u001b[34m/usr/local/lib/python3.6/site-packages/mxnet/gluon/parameter.py:813: UserWarning: Parameter 'resnetv20_stage2_batchnorm4_running_mean' is already initialized, ignoring. Set force_reinit=True to re-initialize.\n",
      "  v.initialize(None, ctx, init, force_reinit=force_reinit)\u001b[0m\n",
      "\u001b[34m/usr/local/lib/python3.6/site-packages/mxnet/gluon/parameter.py:813: UserWarning: Parameter 'resnetv20_stage2_batchnorm4_running_var' is already initialized, ignoring. Set force_reinit=True to re-initialize.\n",
      "  v.initialize(None, ctx, init, force_reinit=force_reinit)\u001b[0m\n",
      "\u001b[34m/usr/local/lib/python3.6/site-packages/mxnet/gluon/parameter.py:813: UserWarning: Parameter 'resnetv20_stage2_conv5_weight' is already initialized, ignoring. Set force_reinit=True to re-initialize.\n",
      "  v.initialize(None, ctx, init, force_reinit=force_reinit)\u001b[0m\n",
      "\u001b[34m/usr/local/lib/python3.6/site-packages/mxnet/gluon/parameter.py:813: UserWarning: Parameter 'resnetv20_stage2_batchnorm5_gamma' is already initialized, ignoring. Set force_reinit=True to re-initialize.\n",
      "  v.initialize(None, ctx, init, force_reinit=force_reinit)\u001b[0m\n",
      "\u001b[34m/usr/local/lib/python3.6/site-packages/mxnet/gluon/parameter.py:813: UserWarning: Parameter 'resnetv20_stage2_batchnorm5_beta' is already initialized, ignoring. Set force_reinit=True to re-initialize.\n",
      "  v.initialize(None, ctx, init, force_reinit=force_reinit)\u001b[0m\n",
      "\u001b[34m/usr/local/lib/python3.6/site-packages/mxnet/gluon/parameter.py:813: UserWarning: Parameter 'resnetv20_stage2_batchnorm5_running_mean' is already initialized, ignoring. Set force_reinit=True to re-initialize.\n",
      "  v.initialize(None, ctx, init, force_reinit=force_reinit)\u001b[0m\n",
      "\u001b[34m/usr/local/lib/python3.6/site-packages/mxnet/gluon/parameter.py:813: UserWarning: Parameter 'resnetv20_stage2_batchnorm5_running_var' is already initialized, ignoring. Set force_reinit=True to re-initialize.\n",
      "  v.initialize(None, ctx, init, force_reinit=force_reinit)\u001b[0m\n",
      "\u001b[34m/usr/local/lib/python3.6/site-packages/mxnet/gluon/parameter.py:813: UserWarning: Parameter 'resnetv20_stage2_conv6_weight' is already initialized, ignoring. Set force_reinit=True to re-initialize.\n",
      "  v.initialize(None, ctx, init, force_reinit=force_reinit)\u001b[0m\n",
      "\u001b[34m/usr/local/lib/python3.6/site-packages/mxnet/gluon/parameter.py:813: UserWarning: Parameter 'resnetv20_stage2_batchnorm6_gamma' is already initialized, ignoring. Set force_reinit=True to re-initialize.\n",
      "  v.initialize(None, ctx, init, force_reinit=force_reinit)\u001b[0m\n",
      "\u001b[34m/usr/local/lib/python3.6/site-packages/mxnet/gluon/parameter.py:813: UserWarning: Parameter 'resnetv20_stage2_batchnorm6_beta' is already initialized, ignoring. Set force_reinit=True to re-initialize.\n",
      "  v.initialize(None, ctx, init, force_reinit=force_reinit)\u001b[0m\n",
      "\u001b[34m/usr/local/lib/python3.6/site-packages/mxnet/gluon/parameter.py:813: UserWarning: Parameter 'resnetv20_stage2_batchnorm6_running_mean' is already initialized, ignoring. Set force_reinit=True to re-initialize.\n",
      "  v.initialize(None, ctx, init, force_reinit=force_reinit)\u001b[0m\n",
      "\u001b[34m/usr/local/lib/python3.6/site-packages/mxnet/gluon/parameter.py:813: UserWarning: Parameter 'resnetv20_stage2_batchnorm6_running_var' is already initialized, ignoring. Set force_reinit=True to re-initialize.\n",
      "  v.initialize(None, ctx, init, force_reinit=force_reinit)\u001b[0m\n",
      "\u001b[34m/usr/local/lib/python3.6/site-packages/mxnet/gluon/parameter.py:813: UserWarning: Parameter 'resnetv20_stage2_conv7_weight' is already initialized, ignoring. Set force_reinit=True to re-initialize.\n",
      "  v.initialize(None, ctx, init, force_reinit=force_reinit)\u001b[0m\n",
      "\u001b[34m/usr/local/lib/python3.6/site-packages/mxnet/gluon/parameter.py:813: UserWarning: Parameter 'resnetv20_stage2_batchnorm7_gamma' is already initialized, ignoring. Set force_reinit=True to re-initialize.\n",
      "  v.initialize(None, ctx, init, force_reinit=force_reinit)\u001b[0m\n",
      "\u001b[34m/usr/local/lib/python3.6/site-packages/mxnet/gluon/parameter.py:813: UserWarning: Parameter 'resnetv20_stage2_batchnorm7_beta' is already initialized, ignoring. Set force_reinit=True to re-initialize.\n",
      "  v.initialize(None, ctx, init, force_reinit=force_reinit)\u001b[0m\n",
      "\u001b[34m/usr/local/lib/python3.6/site-packages/mxnet/gluon/parameter.py:813: UserWarning: Parameter 'resnetv20_stage2_batchnorm7_running_mean' is already initialized, ignoring. Set force_reinit=True to re-initialize.\n",
      "  v.initialize(None, ctx, init, force_reinit=force_reinit)\u001b[0m\n",
      "\u001b[34m/usr/local/lib/python3.6/site-packages/mxnet/gluon/parameter.py:813: UserWarning: Parameter 'resnetv20_stage2_batchnorm7_running_var' is already initialized, ignoring. Set force_reinit=True to re-initialize.\n",
      "  v.initialize(None, ctx, init, force_reinit=force_reinit)\u001b[0m\n",
      "\u001b[34m/usr/local/lib/python3.6/site-packages/mxnet/gluon/parameter.py:813: UserWarning: Parameter 'resnetv20_stage2_conv8_weight' is already initialized, ignoring. Set force_reinit=True to re-initialize.\n",
      "  v.initialize(None, ctx, init, force_reinit=force_reinit)\u001b[0m\n",
      "\u001b[34m/usr/local/lib/python3.6/site-packages/mxnet/gluon/parameter.py:813: UserWarning: Parameter 'resnetv20_stage2_batchnorm8_gamma' is already initialized, ignoring. Set force_reinit=True to re-initialize.\n",
      "  v.initialize(None, ctx, init, force_reinit=force_reinit)\u001b[0m\n",
      "\u001b[34m/usr/local/lib/python3.6/site-packages/mxnet/gluon/parameter.py:813: UserWarning: Parameter 'resnetv20_stage2_batchnorm8_beta' is already initialized, ignoring. Set force_reinit=True to re-initialize.\n",
      "  v.initialize(None, ctx, init, force_reinit=force_reinit)\u001b[0m\n",
      "\u001b[34m/usr/local/lib/python3.6/site-packages/mxnet/gluon/parameter.py:813: UserWarning: Parameter 'resnetv20_stage2_batchnorm8_running_mean' is already initialized, ignoring. Set force_reinit=True to re-initialize.\n",
      "  v.initialize(None, ctx, init, force_reinit=force_reinit)\u001b[0m\n",
      "\u001b[34m/usr/local/lib/python3.6/site-packages/mxnet/gluon/parameter.py:813: UserWarning: Parameter 'resnetv20_stage2_batchnorm8_running_var' is already initialized, ignoring. Set force_reinit=True to re-initialize.\n",
      "  v.initialize(None, ctx, init, force_reinit=force_reinit)\u001b[0m\n",
      "\u001b[34m/usr/local/lib/python3.6/site-packages/mxnet/gluon/parameter.py:813: UserWarning: Parameter 'resnetv20_stage2_conv9_weight' is already initialized, ignoring. Set force_reinit=True to re-initialize.\n",
      "  v.initialize(None, ctx, init, force_reinit=force_reinit)\u001b[0m\n",
      "\u001b[34m/usr/local/lib/python3.6/site-packages/mxnet/gluon/parameter.py:813: UserWarning: Parameter 'resnetv20_stage2_batchnorm9_gamma' is already initialized, ignoring. Set force_reinit=True to re-initialize.\n",
      "  v.initialize(None, ctx, init, force_reinit=force_reinit)\u001b[0m\n",
      "\u001b[34m/usr/local/lib/python3.6/site-packages/mxnet/gluon/parameter.py:813: UserWarning: Parameter 'resnetv20_stage2_batchnorm9_beta' is already initialized, ignoring. Set force_reinit=True to re-initialize.\n",
      "  v.initialize(None, ctx, init, force_reinit=force_reinit)\u001b[0m\n",
      "\u001b[34m/usr/local/lib/python3.6/site-packages/mxnet/gluon/parameter.py:813: UserWarning: Parameter 'resnetv20_stage2_batchnorm9_running_mean' is already initialized, ignoring. Set force_reinit=True to re-initialize.\n",
      "  v.initialize(None, ctx, init, force_reinit=force_reinit)\u001b[0m\n",
      "\u001b[34m/usr/local/lib/python3.6/site-packages/mxnet/gluon/parameter.py:813: UserWarning: Parameter 'resnetv20_stage2_batchnorm9_running_var' is already initialized, ignoring. Set force_reinit=True to re-initialize.\n",
      "  v.initialize(None, ctx, init, force_reinit=force_reinit)\u001b[0m\n",
      "\u001b[34m/usr/local/lib/python3.6/site-packages/mxnet/gluon/parameter.py:813: UserWarning: Parameter 'resnetv20_stage2_conv10_weight' is already initialized, ignoring. Set force_reinit=True to re-initialize.\n",
      "  v.initialize(None, ctx, init, force_reinit=force_reinit)\u001b[0m\n",
      "\u001b[34m/usr/local/lib/python3.6/site-packages/mxnet/gluon/parameter.py:813: UserWarning: Parameter 'resnetv20_stage2_batchnorm10_gamma' is already initialized, ignoring. Set force_reinit=True to re-initialize.\n",
      "  v.initialize(None, ctx, init, force_reinit=force_reinit)\u001b[0m\n",
      "\u001b[34m/usr/local/lib/python3.6/site-packages/mxnet/gluon/parameter.py:813: UserWarning: Parameter 'resnetv20_stage2_batchnorm10_beta' is already initialized, ignoring. Set force_reinit=True to re-initialize.\n",
      "  v.initialize(None, ctx, init, force_reinit=force_reinit)\u001b[0m\n",
      "\u001b[34m/usr/local/lib/python3.6/site-packages/mxnet/gluon/parameter.py:813: UserWarning: Parameter 'resnetv20_stage2_batchnorm10_running_mean' is already initialized, ignoring. Set force_reinit=True to re-initialize.\n",
      "  v.initialize(None, ctx, init, force_reinit=force_reinit)\u001b[0m\n",
      "\u001b[34m/usr/local/lib/python3.6/site-packages/mxnet/gluon/parameter.py:813: UserWarning: Parameter 'resnetv20_stage2_batchnorm10_running_var' is already initialized, ignoring. Set force_reinit=True to re-initialize.\n",
      "  v.initialize(None, ctx, init, force_reinit=force_reinit)\u001b[0m\n",
      "\u001b[34m/usr/local/lib/python3.6/site-packages/mxnet/gluon/parameter.py:813: UserWarning: Parameter 'resnetv20_stage2_conv11_weight' is already initialized, ignoring. Set force_reinit=True to re-initialize.\n",
      "  v.initialize(None, ctx, init, force_reinit=force_reinit)\u001b[0m\n",
      "\u001b[34m/usr/local/lib/python3.6/site-packages/mxnet/gluon/parameter.py:813: UserWarning: Parameter 'resnetv20_stage2_batchnorm11_gamma' is already initialized, ignoring. Set force_reinit=True to re-initialize.\n",
      "  v.initialize(None, ctx, init, force_reinit=force_reinit)\u001b[0m\n",
      "\u001b[34m/usr/local/lib/python3.6/site-packages/mxnet/gluon/parameter.py:813: UserWarning: Parameter 'resnetv20_stage2_batchnorm11_beta' is already initialized, ignoring. Set force_reinit=True to re-initialize.\n",
      "  v.initialize(None, ctx, init, force_reinit=force_reinit)\u001b[0m\n",
      "\u001b[34m/usr/local/lib/python3.6/site-packages/mxnet/gluon/parameter.py:813: UserWarning: Parameter 'resnetv20_stage2_batchnorm11_running_mean' is already initialized, ignoring. Set force_reinit=True to re-initialize.\n",
      "  v.initialize(None, ctx, init, force_reinit=force_reinit)\u001b[0m\n",
      "\u001b[34m/usr/local/lib/python3.6/site-packages/mxnet/gluon/parameter.py:813: UserWarning: Parameter 'resnetv20_stage2_batchnorm11_running_var' is already initialized, ignoring. Set force_reinit=True to re-initialize.\n",
      "  v.initialize(None, ctx, init, force_reinit=force_reinit)\u001b[0m\n",
      "\u001b[34m/usr/local/lib/python3.6/site-packages/mxnet/gluon/parameter.py:813: UserWarning: Parameter 'resnetv20_stage2_conv12_weight' is already initialized, ignoring. Set force_reinit=True to re-initialize.\n",
      "  v.initialize(None, ctx, init, force_reinit=force_reinit)\u001b[0m\n",
      "\u001b[34m/usr/local/lib/python3.6/site-packages/mxnet/gluon/parameter.py:813: UserWarning: Parameter 'resnetv20_stage3_batchnorm0_gamma' is already initialized, ignoring. Set force_reinit=True to re-initialize.\n",
      "  v.initialize(None, ctx, init, force_reinit=force_reinit)\u001b[0m\n",
      "\u001b[34m/usr/local/lib/python3.6/site-packages/mxnet/gluon/parameter.py:813: UserWarning: Parameter 'resnetv20_stage3_batchnorm0_beta' is already initialized, ignoring. Set force_reinit=True to re-initialize.\n",
      "  v.initialize(None, ctx, init, force_reinit=force_reinit)\u001b[0m\n",
      "\u001b[34m/usr/local/lib/python3.6/site-packages/mxnet/gluon/parameter.py:813: UserWarning: Parameter 'resnetv20_stage3_batchnorm0_running_mean' is already initialized, ignoring. Set force_reinit=True to re-initialize.\n",
      "  v.initialize(None, ctx, init, force_reinit=force_reinit)\u001b[0m\n",
      "\u001b[34m/usr/local/lib/python3.6/site-packages/mxnet/gluon/parameter.py:813: UserWarning: Parameter 'resnetv20_stage3_batchnorm0_running_var' is already initialized, ignoring. Set force_reinit=True to re-initialize.\n",
      "  v.initialize(None, ctx, init, force_reinit=force_reinit)\u001b[0m\n",
      "\u001b[34m/usr/local/lib/python3.6/site-packages/mxnet/gluon/parameter.py:813: UserWarning: Parameter 'resnetv20_stage3_conv0_weight' is already initialized, ignoring. Set force_reinit=True to re-initialize.\n",
      "  v.initialize(None, ctx, init, force_reinit=force_reinit)\u001b[0m\n",
      "\u001b[34m/usr/local/lib/python3.6/site-packages/mxnet/gluon/parameter.py:813: UserWarning: Parameter 'resnetv20_stage3_batchnorm1_gamma' is already initialized, ignoring. Set force_reinit=True to re-initialize.\n",
      "  v.initialize(None, ctx, init, force_reinit=force_reinit)\u001b[0m\n",
      "\u001b[34m/usr/local/lib/python3.6/site-packages/mxnet/gluon/parameter.py:813: UserWarning: Parameter 'resnetv20_stage3_batchnorm1_beta' is already initialized, ignoring. Set force_reinit=True to re-initialize.\n",
      "  v.initialize(None, ctx, init, force_reinit=force_reinit)\u001b[0m\n",
      "\u001b[34m/usr/local/lib/python3.6/site-packages/mxnet/gluon/parameter.py:813: UserWarning: Parameter 'resnetv20_stage3_batchnorm1_running_mean' is already initialized, ignoring. Set force_reinit=True to re-initialize.\n",
      "  v.initialize(None, ctx, init, force_reinit=force_reinit)\u001b[0m\n",
      "\u001b[34m/usr/local/lib/python3.6/site-packages/mxnet/gluon/parameter.py:813: UserWarning: Parameter 'resnetv20_stage3_batchnorm1_running_var' is already initialized, ignoring. Set force_reinit=True to re-initialize.\n",
      "  v.initialize(None, ctx, init, force_reinit=force_reinit)\u001b[0m\n",
      "\u001b[34m/usr/local/lib/python3.6/site-packages/mxnet/gluon/parameter.py:813: UserWarning: Parameter 'resnetv20_stage3_conv1_weight' is already initialized, ignoring. Set force_reinit=True to re-initialize.\n",
      "  v.initialize(None, ctx, init, force_reinit=force_reinit)\u001b[0m\n",
      "\u001b[34m/usr/local/lib/python3.6/site-packages/mxnet/gluon/parameter.py:813: UserWarning: Parameter 'resnetv20_stage3_batchnorm2_gamma' is already initialized, ignoring. Set force_reinit=True to re-initialize.\n",
      "  v.initialize(None, ctx, init, force_reinit=force_reinit)\u001b[0m\n",
      "\u001b[34m/usr/local/lib/python3.6/site-packages/mxnet/gluon/parameter.py:813: UserWarning: Parameter 'resnetv20_stage3_batchnorm2_beta' is already initialized, ignoring. Set force_reinit=True to re-initialize.\n",
      "  v.initialize(None, ctx, init, force_reinit=force_reinit)\u001b[0m\n",
      "\u001b[34m/usr/local/lib/python3.6/site-packages/mxnet/gluon/parameter.py:813: UserWarning: Parameter 'resnetv20_stage3_batchnorm2_running_mean' is already initialized, ignoring. Set force_reinit=True to re-initialize.\n",
      "  v.initialize(None, ctx, init, force_reinit=force_reinit)\u001b[0m\n",
      "\u001b[34m/usr/local/lib/python3.6/site-packages/mxnet/gluon/parameter.py:813: UserWarning: Parameter 'resnetv20_stage3_batchnorm2_running_var' is already initialized, ignoring. Set force_reinit=True to re-initialize.\n",
      "  v.initialize(None, ctx, init, force_reinit=force_reinit)\u001b[0m\n",
      "\u001b[34m/usr/local/lib/python3.6/site-packages/mxnet/gluon/parameter.py:813: UserWarning: Parameter 'resnetv20_stage3_conv2_weight' is already initialized, ignoring. Set force_reinit=True to re-initialize.\n",
      "  v.initialize(None, ctx, init, force_reinit=force_reinit)\u001b[0m\n",
      "\u001b[34m/usr/local/lib/python3.6/site-packages/mxnet/gluon/parameter.py:813: UserWarning: Parameter 'resnetv20_stage3_conv3_weight' is already initialized, ignoring. Set force_reinit=True to re-initialize.\n",
      "  v.initialize(None, ctx, init, force_reinit=force_reinit)\u001b[0m\n",
      "\u001b[34m/usr/local/lib/python3.6/site-packages/mxnet/gluon/parameter.py:813: UserWarning: Parameter 'resnetv20_stage3_batchnorm3_gamma' is already initialized, ignoring. Set force_reinit=True to re-initialize.\n",
      "  v.initialize(None, ctx, init, force_reinit=force_reinit)\u001b[0m\n",
      "\u001b[34m/usr/local/lib/python3.6/site-packages/mxnet/gluon/parameter.py:813: UserWarning: Parameter 'resnetv20_stage3_batchnorm3_beta' is already initialized, ignoring. Set force_reinit=True to re-initialize.\n",
      "  v.initialize(None, ctx, init, force_reinit=force_reinit)\u001b[0m\n",
      "\u001b[34m/usr/local/lib/python3.6/site-packages/mxnet/gluon/parameter.py:813: UserWarning: Parameter 'resnetv20_stage3_batchnorm3_running_mean' is already initialized, ignoring. Set force_reinit=True to re-initialize.\n",
      "  v.initialize(None, ctx, init, force_reinit=force_reinit)\u001b[0m\n",
      "\u001b[34m/usr/local/lib/python3.6/site-packages/mxnet/gluon/parameter.py:813: UserWarning: Parameter 'resnetv20_stage3_batchnorm3_running_var' is already initialized, ignoring. Set force_reinit=True to re-initialize.\n",
      "  v.initialize(None, ctx, init, force_reinit=force_reinit)\u001b[0m\n",
      "\u001b[34m/usr/local/lib/python3.6/site-packages/mxnet/gluon/parameter.py:813: UserWarning: Parameter 'resnetv20_stage3_conv4_weight' is already initialized, ignoring. Set force_reinit=True to re-initialize.\n",
      "  v.initialize(None, ctx, init, force_reinit=force_reinit)\u001b[0m\n",
      "\u001b[34m/usr/local/lib/python3.6/site-packages/mxnet/gluon/parameter.py:813: UserWarning: Parameter 'resnetv20_stage3_batchnorm4_gamma' is already initialized, ignoring. Set force_reinit=True to re-initialize.\n",
      "  v.initialize(None, ctx, init, force_reinit=force_reinit)\u001b[0m\n",
      "\u001b[34m/usr/local/lib/python3.6/site-packages/mxnet/gluon/parameter.py:813: UserWarning: Parameter 'resnetv20_stage3_batchnorm4_beta' is already initialized, ignoring. Set force_reinit=True to re-initialize.\n",
      "  v.initialize(None, ctx, init, force_reinit=force_reinit)\u001b[0m\n",
      "\u001b[34m/usr/local/lib/python3.6/site-packages/mxnet/gluon/parameter.py:813: UserWarning: Parameter 'resnetv20_stage3_batchnorm4_running_mean' is already initialized, ignoring. Set force_reinit=True to re-initialize.\n",
      "  v.initialize(None, ctx, init, force_reinit=force_reinit)\u001b[0m\n",
      "\u001b[34m/usr/local/lib/python3.6/site-packages/mxnet/gluon/parameter.py:813: UserWarning: Parameter 'resnetv20_stage3_batchnorm4_running_var' is already initialized, ignoring. Set force_reinit=True to re-initialize.\n",
      "  v.initialize(None, ctx, init, force_reinit=force_reinit)\u001b[0m\n",
      "\u001b[34m/usr/local/lib/python3.6/site-packages/mxnet/gluon/parameter.py:813: UserWarning: Parameter 'resnetv20_stage3_conv5_weight' is already initialized, ignoring. Set force_reinit=True to re-initialize.\n",
      "  v.initialize(None, ctx, init, force_reinit=force_reinit)\u001b[0m\n",
      "\u001b[34m/usr/local/lib/python3.6/site-packages/mxnet/gluon/parameter.py:813: UserWarning: Parameter 'resnetv20_stage3_batchnorm5_gamma' is already initialized, ignoring. Set force_reinit=True to re-initialize.\n",
      "  v.initialize(None, ctx, init, force_reinit=force_reinit)\u001b[0m\n",
      "\u001b[34m/usr/local/lib/python3.6/site-packages/mxnet/gluon/parameter.py:813: UserWarning: Parameter 'resnetv20_stage3_batchnorm5_beta' is already initialized, ignoring. Set force_reinit=True to re-initialize.\n",
      "  v.initialize(None, ctx, init, force_reinit=force_reinit)\u001b[0m\n",
      "\u001b[34m/usr/local/lib/python3.6/site-packages/mxnet/gluon/parameter.py:813: UserWarning: Parameter 'resnetv20_stage3_batchnorm5_running_mean' is already initialized, ignoring. Set force_reinit=True to re-initialize.\n",
      "  v.initialize(None, ctx, init, force_reinit=force_reinit)\u001b[0m\n",
      "\u001b[34m/usr/local/lib/python3.6/site-packages/mxnet/gluon/parameter.py:813: UserWarning: Parameter 'resnetv20_stage3_batchnorm5_running_var' is already initialized, ignoring. Set force_reinit=True to re-initialize.\n",
      "  v.initialize(None, ctx, init, force_reinit=force_reinit)\u001b[0m\n",
      "\u001b[34m/usr/local/lib/python3.6/site-packages/mxnet/gluon/parameter.py:813: UserWarning: Parameter 'resnetv20_stage3_conv6_weight' is already initialized, ignoring. Set force_reinit=True to re-initialize.\n",
      "  v.initialize(None, ctx, init, force_reinit=force_reinit)\u001b[0m\n",
      "\u001b[34m/usr/local/lib/python3.6/site-packages/mxnet/gluon/parameter.py:813: UserWarning: Parameter 'resnetv20_stage3_batchnorm6_gamma' is already initialized, ignoring. Set force_reinit=True to re-initialize.\n",
      "  v.initialize(None, ctx, init, force_reinit=force_reinit)\u001b[0m\n",
      "\u001b[34m/usr/local/lib/python3.6/site-packages/mxnet/gluon/parameter.py:813: UserWarning: Parameter 'resnetv20_stage3_batchnorm6_beta' is already initialized, ignoring. Set force_reinit=True to re-initialize.\n",
      "  v.initialize(None, ctx, init, force_reinit=force_reinit)\u001b[0m\n",
      "\u001b[34m/usr/local/lib/python3.6/site-packages/mxnet/gluon/parameter.py:813: UserWarning: Parameter 'resnetv20_stage3_batchnorm6_running_mean' is already initialized, ignoring. Set force_reinit=True to re-initialize.\n",
      "  v.initialize(None, ctx, init, force_reinit=force_reinit)\u001b[0m\n",
      "\u001b[34m/usr/local/lib/python3.6/site-packages/mxnet/gluon/parameter.py:813: UserWarning: Parameter 'resnetv20_stage3_batchnorm6_running_var' is already initialized, ignoring. Set force_reinit=True to re-initialize.\n",
      "  v.initialize(None, ctx, init, force_reinit=force_reinit)\u001b[0m\n",
      "\u001b[34m/usr/local/lib/python3.6/site-packages/mxnet/gluon/parameter.py:813: UserWarning: Parameter 'resnetv20_stage3_conv7_weight' is already initialized, ignoring. Set force_reinit=True to re-initialize.\n",
      "  v.initialize(None, ctx, init, force_reinit=force_reinit)\u001b[0m\n",
      "\u001b[34m/usr/local/lib/python3.6/site-packages/mxnet/gluon/parameter.py:813: UserWarning: Parameter 'resnetv20_stage3_batchnorm7_gamma' is already initialized, ignoring. Set force_reinit=True to re-initialize.\n",
      "  v.initialize(None, ctx, init, force_reinit=force_reinit)\u001b[0m\n",
      "\u001b[34m/usr/local/lib/python3.6/site-packages/mxnet/gluon/parameter.py:813: UserWarning: Parameter 'resnetv20_stage3_batchnorm7_beta' is already initialized, ignoring. Set force_reinit=True to re-initialize.\n",
      "  v.initialize(None, ctx, init, force_reinit=force_reinit)\u001b[0m\n",
      "\u001b[34m/usr/local/lib/python3.6/site-packages/mxnet/gluon/parameter.py:813: UserWarning: Parameter 'resnetv20_stage3_batchnorm7_running_mean' is already initialized, ignoring. Set force_reinit=True to re-initialize.\n",
      "  v.initialize(None, ctx, init, force_reinit=force_reinit)\u001b[0m\n",
      "\u001b[34m/usr/local/lib/python3.6/site-packages/mxnet/gluon/parameter.py:813: UserWarning: Parameter 'resnetv20_stage3_batchnorm7_running_var' is already initialized, ignoring. Set force_reinit=True to re-initialize.\n",
      "  v.initialize(None, ctx, init, force_reinit=force_reinit)\u001b[0m\n",
      "\u001b[34m/usr/local/lib/python3.6/site-packages/mxnet/gluon/parameter.py:813: UserWarning: Parameter 'resnetv20_stage3_conv8_weight' is already initialized, ignoring. Set force_reinit=True to re-initialize.\n",
      "  v.initialize(None, ctx, init, force_reinit=force_reinit)\u001b[0m\n",
      "\u001b[34m/usr/local/lib/python3.6/site-packages/mxnet/gluon/parameter.py:813: UserWarning: Parameter 'resnetv20_stage3_batchnorm8_gamma' is already initialized, ignoring. Set force_reinit=True to re-initialize.\n",
      "  v.initialize(None, ctx, init, force_reinit=force_reinit)\u001b[0m\n",
      "\u001b[34m/usr/local/lib/python3.6/site-packages/mxnet/gluon/parameter.py:813: UserWarning: Parameter 'resnetv20_stage3_batchnorm8_beta' is already initialized, ignoring. Set force_reinit=True to re-initialize.\n",
      "  v.initialize(None, ctx, init, force_reinit=force_reinit)\u001b[0m\n",
      "\u001b[34m/usr/local/lib/python3.6/site-packages/mxnet/gluon/parameter.py:813: UserWarning: Parameter 'resnetv20_stage3_batchnorm8_running_mean' is already initialized, ignoring. Set force_reinit=True to re-initialize.\n",
      "  v.initialize(None, ctx, init, force_reinit=force_reinit)\u001b[0m\n",
      "\u001b[34m/usr/local/lib/python3.6/site-packages/mxnet/gluon/parameter.py:813: UserWarning: Parameter 'resnetv20_stage3_batchnorm8_running_var' is already initialized, ignoring. Set force_reinit=True to re-initialize.\n",
      "  v.initialize(None, ctx, init, force_reinit=force_reinit)\u001b[0m\n",
      "\u001b[34m/usr/local/lib/python3.6/site-packages/mxnet/gluon/parameter.py:813: UserWarning: Parameter 'resnetv20_stage3_conv9_weight' is already initialized, ignoring. Set force_reinit=True to re-initialize.\n",
      "  v.initialize(None, ctx, init, force_reinit=force_reinit)\u001b[0m\n",
      "\u001b[34m/usr/local/lib/python3.6/site-packages/mxnet/gluon/parameter.py:813: UserWarning: Parameter 'resnetv20_stage3_batchnorm9_gamma' is already initialized, ignoring. Set force_reinit=True to re-initialize.\n",
      "  v.initialize(None, ctx, init, force_reinit=force_reinit)\u001b[0m\n",
      "\u001b[34m/usr/local/lib/python3.6/site-packages/mxnet/gluon/parameter.py:813: UserWarning: Parameter 'resnetv20_stage3_batchnorm9_beta' is already initialized, ignoring. Set force_reinit=True to re-initialize.\n",
      "  v.initialize(None, ctx, init, force_reinit=force_reinit)\u001b[0m\n",
      "\u001b[34m/usr/local/lib/python3.6/site-packages/mxnet/gluon/parameter.py:813: UserWarning: Parameter 'resnetv20_stage3_batchnorm9_running_mean' is already initialized, ignoring. Set force_reinit=True to re-initialize.\n",
      "  v.initialize(None, ctx, init, force_reinit=force_reinit)\u001b[0m\n",
      "\u001b[34m/usr/local/lib/python3.6/site-packages/mxnet/gluon/parameter.py:813: UserWarning: Parameter 'resnetv20_stage3_batchnorm9_running_var' is already initialized, ignoring. Set force_reinit=True to re-initialize.\n",
      "  v.initialize(None, ctx, init, force_reinit=force_reinit)\u001b[0m\n",
      "\u001b[34m/usr/local/lib/python3.6/site-packages/mxnet/gluon/parameter.py:813: UserWarning: Parameter 'resnetv20_stage3_conv10_weight' is already initialized, ignoring. Set force_reinit=True to re-initialize.\n",
      "  v.initialize(None, ctx, init, force_reinit=force_reinit)\u001b[0m\n",
      "\u001b[34m/usr/local/lib/python3.6/site-packages/mxnet/gluon/parameter.py:813: UserWarning: Parameter 'resnetv20_stage3_batchnorm10_gamma' is already initialized, ignoring. Set force_reinit=True to re-initialize.\n",
      "  v.initialize(None, ctx, init, force_reinit=force_reinit)\u001b[0m\n",
      "\u001b[34m/usr/local/lib/python3.6/site-packages/mxnet/gluon/parameter.py:813: UserWarning: Parameter 'resnetv20_stage3_batchnorm10_beta' is already initialized, ignoring. Set force_reinit=True to re-initialize.\n",
      "  v.initialize(None, ctx, init, force_reinit=force_reinit)\u001b[0m\n",
      "\u001b[34m/usr/local/lib/python3.6/site-packages/mxnet/gluon/parameter.py:813: UserWarning: Parameter 'resnetv20_stage3_batchnorm10_running_mean' is already initialized, ignoring. Set force_reinit=True to re-initialize.\n",
      "  v.initialize(None, ctx, init, force_reinit=force_reinit)\u001b[0m\n",
      "\u001b[34m/usr/local/lib/python3.6/site-packages/mxnet/gluon/parameter.py:813: UserWarning: Parameter 'resnetv20_stage3_batchnorm10_running_var' is already initialized, ignoring. Set force_reinit=True to re-initialize.\n",
      "  v.initialize(None, ctx, init, force_reinit=force_reinit)\u001b[0m\n",
      "\u001b[34m/usr/local/lib/python3.6/site-packages/mxnet/gluon/parameter.py:813: UserWarning: Parameter 'resnetv20_stage3_conv11_weight' is already initialized, ignoring. Set force_reinit=True to re-initialize.\n",
      "  v.initialize(None, ctx, init, force_reinit=force_reinit)\u001b[0m\n",
      "\u001b[34m/usr/local/lib/python3.6/site-packages/mxnet/gluon/parameter.py:813: UserWarning: Parameter 'resnetv20_stage3_batchnorm11_gamma' is already initialized, ignoring. Set force_reinit=True to re-initialize.\n",
      "  v.initialize(None, ctx, init, force_reinit=force_reinit)\u001b[0m\n",
      "\u001b[34m/usr/local/lib/python3.6/site-packages/mxnet/gluon/parameter.py:813: UserWarning: Parameter 'resnetv20_stage3_batchnorm11_beta' is already initialized, ignoring. Set force_reinit=True to re-initialize.\n",
      "  v.initialize(None, ctx, init, force_reinit=force_reinit)\u001b[0m\n",
      "\u001b[34m/usr/local/lib/python3.6/site-packages/mxnet/gluon/parameter.py:813: UserWarning: Parameter 'resnetv20_stage3_batchnorm11_running_mean' is already initialized, ignoring. Set force_reinit=True to re-initialize.\n",
      "  v.initialize(None, ctx, init, force_reinit=force_reinit)\u001b[0m\n",
      "\u001b[34m/usr/local/lib/python3.6/site-packages/mxnet/gluon/parameter.py:813: UserWarning: Parameter 'resnetv20_stage3_batchnorm11_running_var' is already initialized, ignoring. Set force_reinit=True to re-initialize.\n",
      "  v.initialize(None, ctx, init, force_reinit=force_reinit)\u001b[0m\n",
      "\u001b[34m/usr/local/lib/python3.6/site-packages/mxnet/gluon/parameter.py:813: UserWarning: Parameter 'resnetv20_stage3_conv12_weight' is already initialized, ignoring. Set force_reinit=True to re-initialize.\n",
      "  v.initialize(None, ctx, init, force_reinit=force_reinit)\u001b[0m\n",
      "\u001b[34m/usr/local/lib/python3.6/site-packages/mxnet/gluon/parameter.py:813: UserWarning: Parameter 'resnetv20_stage3_batchnorm12_gamma' is already initialized, ignoring. Set force_reinit=True to re-initialize.\n",
      "  v.initialize(None, ctx, init, force_reinit=force_reinit)\u001b[0m\n",
      "\u001b[34m/usr/local/lib/python3.6/site-packages/mxnet/gluon/parameter.py:813: UserWarning: Parameter 'resnetv20_stage3_batchnorm12_beta' is already initialized, ignoring. Set force_reinit=True to re-initialize.\n",
      "  v.initialize(None, ctx, init, force_reinit=force_reinit)\u001b[0m\n",
      "\u001b[34m/usr/local/lib/python3.6/site-packages/mxnet/gluon/parameter.py:813: UserWarning: Parameter 'resnetv20_stage3_batchnorm12_running_mean' is already initialized, ignoring. Set force_reinit=True to re-initialize.\n",
      "  v.initialize(None, ctx, init, force_reinit=force_reinit)\u001b[0m\n",
      "\u001b[34m/usr/local/lib/python3.6/site-packages/mxnet/gluon/parameter.py:813: UserWarning: Parameter 'resnetv20_stage3_batchnorm12_running_var' is already initialized, ignoring. Set force_reinit=True to re-initialize.\n",
      "  v.initialize(None, ctx, init, force_reinit=force_reinit)\u001b[0m\n",
      "\u001b[34m/usr/local/lib/python3.6/site-packages/mxnet/gluon/parameter.py:813: UserWarning: Parameter 'resnetv20_stage3_conv13_weight' is already initialized, ignoring. Set force_reinit=True to re-initialize.\n",
      "  v.initialize(None, ctx, init, force_reinit=force_reinit)\u001b[0m\n",
      "\u001b[34m/usr/local/lib/python3.6/site-packages/mxnet/gluon/parameter.py:813: UserWarning: Parameter 'resnetv20_stage3_batchnorm13_gamma' is already initialized, ignoring. Set force_reinit=True to re-initialize.\n",
      "  v.initialize(None, ctx, init, force_reinit=force_reinit)\u001b[0m\n",
      "\u001b[34m/usr/local/lib/python3.6/site-packages/mxnet/gluon/parameter.py:813: UserWarning: Parameter 'resnetv20_stage3_batchnorm13_beta' is already initialized, ignoring. Set force_reinit=True to re-initialize.\n",
      "  v.initialize(None, ctx, init, force_reinit=force_reinit)\u001b[0m\n",
      "\u001b[34m/usr/local/lib/python3.6/site-packages/mxnet/gluon/parameter.py:813: UserWarning: Parameter 'resnetv20_stage3_batchnorm13_running_mean' is already initialized, ignoring. Set force_reinit=True to re-initialize.\n",
      "  v.initialize(None, ctx, init, force_reinit=force_reinit)\u001b[0m\n",
      "\u001b[34m/usr/local/lib/python3.6/site-packages/mxnet/gluon/parameter.py:813: UserWarning: Parameter 'resnetv20_stage3_batchnorm13_running_var' is already initialized, ignoring. Set force_reinit=True to re-initialize.\n",
      "  v.initialize(None, ctx, init, force_reinit=force_reinit)\u001b[0m\n",
      "\u001b[34m/usr/local/lib/python3.6/site-packages/mxnet/gluon/parameter.py:813: UserWarning: Parameter 'resnetv20_stage3_conv14_weight' is already initialized, ignoring. Set force_reinit=True to re-initialize.\n",
      "  v.initialize(None, ctx, init, force_reinit=force_reinit)\u001b[0m\n",
      "\u001b[34m/usr/local/lib/python3.6/site-packages/mxnet/gluon/parameter.py:813: UserWarning: Parameter 'resnetv20_stage3_batchnorm14_gamma' is already initialized, ignoring. Set force_reinit=True to re-initialize.\n",
      "  v.initialize(None, ctx, init, force_reinit=force_reinit)\u001b[0m\n",
      "\u001b[34m/usr/local/lib/python3.6/site-packages/mxnet/gluon/parameter.py:813: UserWarning: Parameter 'resnetv20_stage3_batchnorm14_beta' is already initialized, ignoring. Set force_reinit=True to re-initialize.\n",
      "  v.initialize(None, ctx, init, force_reinit=force_reinit)\u001b[0m\n",
      "\u001b[34m/usr/local/lib/python3.6/site-packages/mxnet/gluon/parameter.py:813: UserWarning: Parameter 'resnetv20_stage3_batchnorm14_running_mean' is already initialized, ignoring. Set force_reinit=True to re-initialize.\n",
      "  v.initialize(None, ctx, init, force_reinit=force_reinit)\u001b[0m\n",
      "\u001b[34m/usr/local/lib/python3.6/site-packages/mxnet/gluon/parameter.py:813: UserWarning: Parameter 'resnetv20_stage3_batchnorm14_running_var' is already initialized, ignoring. Set force_reinit=True to re-initialize.\n",
      "  v.initialize(None, ctx, init, force_reinit=force_reinit)\u001b[0m\n",
      "\u001b[34m/usr/local/lib/python3.6/site-packages/mxnet/gluon/parameter.py:813: UserWarning: Parameter 'resnetv20_stage3_conv15_weight' is already initialized, ignoring. Set force_reinit=True to re-initialize.\n",
      "  v.initialize(None, ctx, init, force_reinit=force_reinit)\u001b[0m\n",
      "\u001b[34m/usr/local/lib/python3.6/site-packages/mxnet/gluon/parameter.py:813: UserWarning: Parameter 'resnetv20_stage3_batchnorm15_gamma' is already initialized, ignoring. Set force_reinit=True to re-initialize.\n",
      "  v.initialize(None, ctx, init, force_reinit=force_reinit)\u001b[0m\n",
      "\u001b[34m/usr/local/lib/python3.6/site-packages/mxnet/gluon/parameter.py:813: UserWarning: Parameter 'resnetv20_stage3_batchnorm15_beta' is already initialized, ignoring. Set force_reinit=True to re-initialize.\n",
      "  v.initialize(None, ctx, init, force_reinit=force_reinit)\u001b[0m\n",
      "\u001b[34m/usr/local/lib/python3.6/site-packages/mxnet/gluon/parameter.py:813: UserWarning: Parameter 'resnetv20_stage3_batchnorm15_running_mean' is already initialized, ignoring. Set force_reinit=True to re-initialize.\n",
      "  v.initialize(None, ctx, init, force_reinit=force_reinit)\u001b[0m\n",
      "\u001b[34m/usr/local/lib/python3.6/site-packages/mxnet/gluon/parameter.py:813: UserWarning: Parameter 'resnetv20_stage3_batchnorm15_running_var' is already initialized, ignoring. Set force_reinit=True to re-initialize.\n",
      "  v.initialize(None, ctx, init, force_reinit=force_reinit)\u001b[0m\n",
      "\u001b[34m/usr/local/lib/python3.6/site-packages/mxnet/gluon/parameter.py:813: UserWarning: Parameter 'resnetv20_stage3_conv16_weight' is already initialized, ignoring. Set force_reinit=True to re-initialize.\n",
      "  v.initialize(None, ctx, init, force_reinit=force_reinit)\u001b[0m\n",
      "\u001b[34m/usr/local/lib/python3.6/site-packages/mxnet/gluon/parameter.py:813: UserWarning: Parameter 'resnetv20_stage3_batchnorm16_gamma' is already initialized, ignoring. Set force_reinit=True to re-initialize.\n",
      "  v.initialize(None, ctx, init, force_reinit=force_reinit)\u001b[0m\n",
      "\u001b[34m/usr/local/lib/python3.6/site-packages/mxnet/gluon/parameter.py:813: UserWarning: Parameter 'resnetv20_stage3_batchnorm16_beta' is already initialized, ignoring. Set force_reinit=True to re-initialize.\n",
      "  v.initialize(None, ctx, init, force_reinit=force_reinit)\u001b[0m\n",
      "\u001b[34m/usr/local/lib/python3.6/site-packages/mxnet/gluon/parameter.py:813: UserWarning: Parameter 'resnetv20_stage3_batchnorm16_running_mean' is already initialized, ignoring. Set force_reinit=True to re-initialize.\n",
      "  v.initialize(None, ctx, init, force_reinit=force_reinit)\u001b[0m\n",
      "\u001b[34m/usr/local/lib/python3.6/site-packages/mxnet/gluon/parameter.py:813: UserWarning: Parameter 'resnetv20_stage3_batchnorm16_running_var' is already initialized, ignoring. Set force_reinit=True to re-initialize.\n",
      "  v.initialize(None, ctx, init, force_reinit=force_reinit)\u001b[0m\n",
      "\u001b[34m/usr/local/lib/python3.6/site-packages/mxnet/gluon/parameter.py:813: UserWarning: Parameter 'resnetv20_stage3_conv17_weight' is already initialized, ignoring. Set force_reinit=True to re-initialize.\n",
      "  v.initialize(None, ctx, init, force_reinit=force_reinit)\u001b[0m\n",
      "\u001b[34m/usr/local/lib/python3.6/site-packages/mxnet/gluon/parameter.py:813: UserWarning: Parameter 'resnetv20_stage3_batchnorm17_gamma' is already initialized, ignoring. Set force_reinit=True to re-initialize.\n",
      "  v.initialize(None, ctx, init, force_reinit=force_reinit)\u001b[0m\n",
      "\u001b[34m/usr/local/lib/python3.6/site-packages/mxnet/gluon/parameter.py:813: UserWarning: Parameter 'resnetv20_stage3_batchnorm17_beta' is already initialized, ignoring. Set force_reinit=True to re-initialize.\n",
      "  v.initialize(None, ctx, init, force_reinit=force_reinit)\u001b[0m\n",
      "\u001b[34m/usr/local/lib/python3.6/site-packages/mxnet/gluon/parameter.py:813: UserWarning: Parameter 'resnetv20_stage3_batchnorm17_running_mean' is already initialized, ignoring. Set force_reinit=True to re-initialize.\n",
      "  v.initialize(None, ctx, init, force_reinit=force_reinit)\u001b[0m\n",
      "\u001b[34m/usr/local/lib/python3.6/site-packages/mxnet/gluon/parameter.py:813: UserWarning: Parameter 'resnetv20_stage3_batchnorm17_running_var' is already initialized, ignoring. Set force_reinit=True to re-initialize.\n",
      "  v.initialize(None, ctx, init, force_reinit=force_reinit)\u001b[0m\n",
      "\u001b[34m/usr/local/lib/python3.6/site-packages/mxnet/gluon/parameter.py:813: UserWarning: Parameter 'resnetv20_stage3_conv18_weight' is already initialized, ignoring. Set force_reinit=True to re-initialize.\n",
      "  v.initialize(None, ctx, init, force_reinit=force_reinit)\u001b[0m\n",
      "\u001b[34m/usr/local/lib/python3.6/site-packages/mxnet/gluon/parameter.py:813: UserWarning: Parameter 'resnetv20_stage3_batchnorm18_gamma' is already initialized, ignoring. Set force_reinit=True to re-initialize.\n",
      "  v.initialize(None, ctx, init, force_reinit=force_reinit)\u001b[0m\n",
      "\u001b[34m/usr/local/lib/python3.6/site-packages/mxnet/gluon/parameter.py:813: UserWarning: Parameter 'resnetv20_stage3_batchnorm18_beta' is already initialized, ignoring. Set force_reinit=True to re-initialize.\n",
      "  v.initialize(None, ctx, init, force_reinit=force_reinit)\u001b[0m\n",
      "\u001b[34m/usr/local/lib/python3.6/site-packages/mxnet/gluon/parameter.py:813: UserWarning: Parameter 'resnetv20_stage3_batchnorm18_running_mean' is already initialized, ignoring. Set force_reinit=True to re-initialize.\n",
      "  v.initialize(None, ctx, init, force_reinit=force_reinit)\u001b[0m\n",
      "\u001b[34m/usr/local/lib/python3.6/site-packages/mxnet/gluon/parameter.py:813: UserWarning: Parameter 'resnetv20_stage3_batchnorm18_running_var' is already initialized, ignoring. Set force_reinit=True to re-initialize.\n",
      "  v.initialize(None, ctx, init, force_reinit=force_reinit)\u001b[0m\n",
      "\u001b[34m/usr/local/lib/python3.6/site-packages/mxnet/gluon/parameter.py:813: UserWarning: Parameter 'resnetv20_stage3_conv19_weight' is already initialized, ignoring. Set force_reinit=True to re-initialize.\n",
      "  v.initialize(None, ctx, init, force_reinit=force_reinit)\u001b[0m\n",
      "\u001b[34m/usr/local/lib/python3.6/site-packages/mxnet/gluon/parameter.py:813: UserWarning: Parameter 'resnetv20_stage3_batchnorm19_gamma' is already initialized, ignoring. Set force_reinit=True to re-initialize.\n",
      "  v.initialize(None, ctx, init, force_reinit=force_reinit)\u001b[0m\n",
      "\u001b[34m/usr/local/lib/python3.6/site-packages/mxnet/gluon/parameter.py:813: UserWarning: Parameter 'resnetv20_stage3_batchnorm19_beta' is already initialized, ignoring. Set force_reinit=True to re-initialize.\n",
      "  v.initialize(None, ctx, init, force_reinit=force_reinit)\u001b[0m\n",
      "\u001b[34m/usr/local/lib/python3.6/site-packages/mxnet/gluon/parameter.py:813: UserWarning: Parameter 'resnetv20_stage3_batchnorm19_running_mean' is already initialized, ignoring. Set force_reinit=True to re-initialize.\n",
      "  v.initialize(None, ctx, init, force_reinit=force_reinit)\u001b[0m\n",
      "\u001b[34m/usr/local/lib/python3.6/site-packages/mxnet/gluon/parameter.py:813: UserWarning: Parameter 'resnetv20_stage3_batchnorm19_running_var' is already initialized, ignoring. Set force_reinit=True to re-initialize.\n",
      "  v.initialize(None, ctx, init, force_reinit=force_reinit)\u001b[0m\n",
      "\u001b[34m/usr/local/lib/python3.6/site-packages/mxnet/gluon/parameter.py:813: UserWarning: Parameter 'resnetv20_stage3_conv20_weight' is already initialized, ignoring. Set force_reinit=True to re-initialize.\n",
      "  v.initialize(None, ctx, init, force_reinit=force_reinit)\u001b[0m\n",
      "\u001b[34m/usr/local/lib/python3.6/site-packages/mxnet/gluon/parameter.py:813: UserWarning: Parameter 'resnetv20_stage3_batchnorm20_gamma' is already initialized, ignoring. Set force_reinit=True to re-initialize.\n",
      "  v.initialize(None, ctx, init, force_reinit=force_reinit)\u001b[0m\n",
      "\u001b[34m/usr/local/lib/python3.6/site-packages/mxnet/gluon/parameter.py:813: UserWarning: Parameter 'resnetv20_stage3_batchnorm20_beta' is already initialized, ignoring. Set force_reinit=True to re-initialize.\n",
      "  v.initialize(None, ctx, init, force_reinit=force_reinit)\u001b[0m\n",
      "\u001b[34m/usr/local/lib/python3.6/site-packages/mxnet/gluon/parameter.py:813: UserWarning: Parameter 'resnetv20_stage3_batchnorm20_running_mean' is already initialized, ignoring. Set force_reinit=True to re-initialize.\n",
      "  v.initialize(None, ctx, init, force_reinit=force_reinit)\u001b[0m\n",
      "\u001b[34m/usr/local/lib/python3.6/site-packages/mxnet/gluon/parameter.py:813: UserWarning: Parameter 'resnetv20_stage3_batchnorm20_running_var' is already initialized, ignoring. Set force_reinit=True to re-initialize.\n",
      "  v.initialize(None, ctx, init, force_reinit=force_reinit)\u001b[0m\n",
      "\u001b[34m/usr/local/lib/python3.6/site-packages/mxnet/gluon/parameter.py:813: UserWarning: Parameter 'resnetv20_stage3_conv21_weight' is already initialized, ignoring. Set force_reinit=True to re-initialize.\n",
      "  v.initialize(None, ctx, init, force_reinit=force_reinit)\u001b[0m\n",
      "\u001b[34m/usr/local/lib/python3.6/site-packages/mxnet/gluon/parameter.py:813: UserWarning: Parameter 'resnetv20_stage3_batchnorm21_gamma' is already initialized, ignoring. Set force_reinit=True to re-initialize.\n",
      "  v.initialize(None, ctx, init, force_reinit=force_reinit)\u001b[0m\n",
      "\u001b[34m/usr/local/lib/python3.6/site-packages/mxnet/gluon/parameter.py:813: UserWarning: Parameter 'resnetv20_stage3_batchnorm21_beta' is already initialized, ignoring. Set force_reinit=True to re-initialize.\n",
      "  v.initialize(None, ctx, init, force_reinit=force_reinit)\u001b[0m\n",
      "\u001b[34m/usr/local/lib/python3.6/site-packages/mxnet/gluon/parameter.py:813: UserWarning: Parameter 'resnetv20_stage3_batchnorm21_running_mean' is already initialized, ignoring. Set force_reinit=True to re-initialize.\n",
      "  v.initialize(None, ctx, init, force_reinit=force_reinit)\u001b[0m\n",
      "\u001b[34m/usr/local/lib/python3.6/site-packages/mxnet/gluon/parameter.py:813: UserWarning: Parameter 'resnetv20_stage3_batchnorm21_running_var' is already initialized, ignoring. Set force_reinit=True to re-initialize.\n",
      "  v.initialize(None, ctx, init, force_reinit=force_reinit)\u001b[0m\n",
      "\u001b[34m/usr/local/lib/python3.6/site-packages/mxnet/gluon/parameter.py:813: UserWarning: Parameter 'resnetv20_stage3_conv22_weight' is already initialized, ignoring. Set force_reinit=True to re-initialize.\n",
      "  v.initialize(None, ctx, init, force_reinit=force_reinit)\u001b[0m\n",
      "\u001b[34m/usr/local/lib/python3.6/site-packages/mxnet/gluon/parameter.py:813: UserWarning: Parameter 'resnetv20_stage3_batchnorm22_gamma' is already initialized, ignoring. Set force_reinit=True to re-initialize.\n",
      "  v.initialize(None, ctx, init, force_reinit=force_reinit)\u001b[0m\n",
      "\u001b[34m/usr/local/lib/python3.6/site-packages/mxnet/gluon/parameter.py:813: UserWarning: Parameter 'resnetv20_stage3_batchnorm22_beta' is already initialized, ignoring. Set force_reinit=True to re-initialize.\n",
      "  v.initialize(None, ctx, init, force_reinit=force_reinit)\u001b[0m\n",
      "\u001b[34m/usr/local/lib/python3.6/site-packages/mxnet/gluon/parameter.py:813: UserWarning: Parameter 'resnetv20_stage3_batchnorm22_running_mean' is already initialized, ignoring. Set force_reinit=True to re-initialize.\n",
      "  v.initialize(None, ctx, init, force_reinit=force_reinit)\u001b[0m\n",
      "\u001b[34m/usr/local/lib/python3.6/site-packages/mxnet/gluon/parameter.py:813: UserWarning: Parameter 'resnetv20_stage3_batchnorm22_running_var' is already initialized, ignoring. Set force_reinit=True to re-initialize.\n",
      "  v.initialize(None, ctx, init, force_reinit=force_reinit)\u001b[0m\n",
      "\u001b[34m/usr/local/lib/python3.6/site-packages/mxnet/gluon/parameter.py:813: UserWarning: Parameter 'resnetv20_stage3_conv23_weight' is already initialized, ignoring. Set force_reinit=True to re-initialize.\n",
      "  v.initialize(None, ctx, init, force_reinit=force_reinit)\u001b[0m\n",
      "\u001b[34m/usr/local/lib/python3.6/site-packages/mxnet/gluon/parameter.py:813: UserWarning: Parameter 'resnetv20_stage3_batchnorm23_gamma' is already initialized, ignoring. Set force_reinit=True to re-initialize.\n",
      "  v.initialize(None, ctx, init, force_reinit=force_reinit)\u001b[0m\n",
      "\u001b[34m/usr/local/lib/python3.6/site-packages/mxnet/gluon/parameter.py:813: UserWarning: Parameter 'resnetv20_stage3_batchnorm23_beta' is already initialized, ignoring. Set force_reinit=True to re-initialize.\n",
      "  v.initialize(None, ctx, init, force_reinit=force_reinit)\u001b[0m\n",
      "\u001b[34m/usr/local/lib/python3.6/site-packages/mxnet/gluon/parameter.py:813: UserWarning: Parameter 'resnetv20_stage3_batchnorm23_running_mean' is already initialized, ignoring. Set force_reinit=True to re-initialize.\n",
      "  v.initialize(None, ctx, init, force_reinit=force_reinit)\u001b[0m\n",
      "\u001b[34m/usr/local/lib/python3.6/site-packages/mxnet/gluon/parameter.py:813: UserWarning: Parameter 'resnetv20_stage3_batchnorm23_running_var' is already initialized, ignoring. Set force_reinit=True to re-initialize.\n",
      "  v.initialize(None, ctx, init, force_reinit=force_reinit)\u001b[0m\n",
      "\u001b[34m/usr/local/lib/python3.6/site-packages/mxnet/gluon/parameter.py:813: UserWarning: Parameter 'resnetv20_stage3_conv24_weight' is already initialized, ignoring. Set force_reinit=True to re-initialize.\n",
      "  v.initialize(None, ctx, init, force_reinit=force_reinit)\u001b[0m\n",
      "\u001b[34m/usr/local/lib/python3.6/site-packages/mxnet/gluon/parameter.py:813: UserWarning: Parameter 'resnetv20_stage3_batchnorm24_gamma' is already initialized, ignoring. Set force_reinit=True to re-initialize.\n",
      "  v.initialize(None, ctx, init, force_reinit=force_reinit)\u001b[0m\n",
      "\u001b[34m/usr/local/lib/python3.6/site-packages/mxnet/gluon/parameter.py:813: UserWarning: Parameter 'resnetv20_stage3_batchnorm24_beta' is already initialized, ignoring. Set force_reinit=True to re-initialize.\n",
      "  v.initialize(None, ctx, init, force_reinit=force_reinit)\u001b[0m\n",
      "\u001b[34m/usr/local/lib/python3.6/site-packages/mxnet/gluon/parameter.py:813: UserWarning: Parameter 'resnetv20_stage3_batchnorm24_running_mean' is already initialized, ignoring. Set force_reinit=True to re-initialize.\n",
      "  v.initialize(None, ctx, init, force_reinit=force_reinit)\u001b[0m\n",
      "\u001b[34m/usr/local/lib/python3.6/site-packages/mxnet/gluon/parameter.py:813: UserWarning: Parameter 'resnetv20_stage3_batchnorm24_running_var' is already initialized, ignoring. Set force_reinit=True to re-initialize.\n",
      "  v.initialize(None, ctx, init, force_reinit=force_reinit)\u001b[0m\n",
      "\u001b[34m/usr/local/lib/python3.6/site-packages/mxnet/gluon/parameter.py:813: UserWarning: Parameter 'resnetv20_stage3_conv25_weight' is already initialized, ignoring. Set force_reinit=True to re-initialize.\n",
      "  v.initialize(None, ctx, init, force_reinit=force_reinit)\u001b[0m\n",
      "\u001b[34m/usr/local/lib/python3.6/site-packages/mxnet/gluon/parameter.py:813: UserWarning: Parameter 'resnetv20_stage3_batchnorm25_gamma' is already initialized, ignoring. Set force_reinit=True to re-initialize.\n",
      "  v.initialize(None, ctx, init, force_reinit=force_reinit)\u001b[0m\n",
      "\u001b[34m/usr/local/lib/python3.6/site-packages/mxnet/gluon/parameter.py:813: UserWarning: Parameter 'resnetv20_stage3_batchnorm25_beta' is already initialized, ignoring. Set force_reinit=True to re-initialize.\n",
      "  v.initialize(None, ctx, init, force_reinit=force_reinit)\u001b[0m\n",
      "\u001b[34m/usr/local/lib/python3.6/site-packages/mxnet/gluon/parameter.py:813: UserWarning: Parameter 'resnetv20_stage3_batchnorm25_running_mean' is already initialized, ignoring. Set force_reinit=True to re-initialize.\n",
      "  v.initialize(None, ctx, init, force_reinit=force_reinit)\u001b[0m\n",
      "\u001b[34m/usr/local/lib/python3.6/site-packages/mxnet/gluon/parameter.py:813: UserWarning: Parameter 'resnetv20_stage3_batchnorm25_running_var' is already initialized, ignoring. Set force_reinit=True to re-initialize.\n",
      "  v.initialize(None, ctx, init, force_reinit=force_reinit)\u001b[0m\n",
      "\u001b[34m/usr/local/lib/python3.6/site-packages/mxnet/gluon/parameter.py:813: UserWarning: Parameter 'resnetv20_stage3_conv26_weight' is already initialized, ignoring. Set force_reinit=True to re-initialize.\n",
      "  v.initialize(None, ctx, init, force_reinit=force_reinit)\u001b[0m\n",
      "\u001b[34m/usr/local/lib/python3.6/site-packages/mxnet/gluon/parameter.py:813: UserWarning: Parameter 'resnetv20_stage3_batchnorm26_gamma' is already initialized, ignoring. Set force_reinit=True to re-initialize.\n",
      "  v.initialize(None, ctx, init, force_reinit=force_reinit)\u001b[0m\n",
      "\u001b[34m/usr/local/lib/python3.6/site-packages/mxnet/gluon/parameter.py:813: UserWarning: Parameter 'resnetv20_stage3_batchnorm26_beta' is already initialized, ignoring. Set force_reinit=True to re-initialize.\n",
      "  v.initialize(None, ctx, init, force_reinit=force_reinit)\u001b[0m\n",
      "\u001b[34m/usr/local/lib/python3.6/site-packages/mxnet/gluon/parameter.py:813: UserWarning: Parameter 'resnetv20_stage3_batchnorm26_running_mean' is already initialized, ignoring. Set force_reinit=True to re-initialize.\n",
      "  v.initialize(None, ctx, init, force_reinit=force_reinit)\u001b[0m\n",
      "\u001b[34m/usr/local/lib/python3.6/site-packages/mxnet/gluon/parameter.py:813: UserWarning: Parameter 'resnetv20_stage3_batchnorm26_running_var' is already initialized, ignoring. Set force_reinit=True to re-initialize.\n",
      "  v.initialize(None, ctx, init, force_reinit=force_reinit)\u001b[0m\n",
      "\u001b[34m/usr/local/lib/python3.6/site-packages/mxnet/gluon/parameter.py:813: UserWarning: Parameter 'resnetv20_stage3_conv27_weight' is already initialized, ignoring. Set force_reinit=True to re-initialize.\n",
      "  v.initialize(None, ctx, init, force_reinit=force_reinit)\u001b[0m\n",
      "\u001b[34m/usr/local/lib/python3.6/site-packages/mxnet/gluon/parameter.py:813: UserWarning: Parameter 'resnetv20_stage3_batchnorm27_gamma' is already initialized, ignoring. Set force_reinit=True to re-initialize.\n",
      "  v.initialize(None, ctx, init, force_reinit=force_reinit)\u001b[0m\n",
      "\u001b[34m/usr/local/lib/python3.6/site-packages/mxnet/gluon/parameter.py:813: UserWarning: Parameter 'resnetv20_stage3_batchnorm27_beta' is already initialized, ignoring. Set force_reinit=True to re-initialize.\n",
      "  v.initialize(None, ctx, init, force_reinit=force_reinit)\u001b[0m\n",
      "\u001b[34m/usr/local/lib/python3.6/site-packages/mxnet/gluon/parameter.py:813: UserWarning: Parameter 'resnetv20_stage3_batchnorm27_running_mean' is already initialized, ignoring. Set force_reinit=True to re-initialize.\n",
      "  v.initialize(None, ctx, init, force_reinit=force_reinit)\u001b[0m\n",
      "\u001b[34m/usr/local/lib/python3.6/site-packages/mxnet/gluon/parameter.py:813: UserWarning: Parameter 'resnetv20_stage3_batchnorm27_running_var' is already initialized, ignoring. Set force_reinit=True to re-initialize.\n",
      "  v.initialize(None, ctx, init, force_reinit=force_reinit)\u001b[0m\n",
      "\u001b[34m/usr/local/lib/python3.6/site-packages/mxnet/gluon/parameter.py:813: UserWarning: Parameter 'resnetv20_stage3_conv28_weight' is already initialized, ignoring. Set force_reinit=True to re-initialize.\n",
      "  v.initialize(None, ctx, init, force_reinit=force_reinit)\u001b[0m\n",
      "\u001b[34m/usr/local/lib/python3.6/site-packages/mxnet/gluon/parameter.py:813: UserWarning: Parameter 'resnetv20_stage3_batchnorm28_gamma' is already initialized, ignoring. Set force_reinit=True to re-initialize.\n",
      "  v.initialize(None, ctx, init, force_reinit=force_reinit)\u001b[0m\n",
      "\u001b[34m/usr/local/lib/python3.6/site-packages/mxnet/gluon/parameter.py:813: UserWarning: Parameter 'resnetv20_stage3_batchnorm28_beta' is already initialized, ignoring. Set force_reinit=True to re-initialize.\n",
      "  v.initialize(None, ctx, init, force_reinit=force_reinit)\u001b[0m\n",
      "\u001b[34m/usr/local/lib/python3.6/site-packages/mxnet/gluon/parameter.py:813: UserWarning: Parameter 'resnetv20_stage3_batchnorm28_running_mean' is already initialized, ignoring. Set force_reinit=True to re-initialize.\n",
      "  v.initialize(None, ctx, init, force_reinit=force_reinit)\u001b[0m\n",
      "\u001b[34m/usr/local/lib/python3.6/site-packages/mxnet/gluon/parameter.py:813: UserWarning: Parameter 'resnetv20_stage3_batchnorm28_running_var' is already initialized, ignoring. Set force_reinit=True to re-initialize.\n",
      "  v.initialize(None, ctx, init, force_reinit=force_reinit)\u001b[0m\n",
      "\u001b[34m/usr/local/lib/python3.6/site-packages/mxnet/gluon/parameter.py:813: UserWarning: Parameter 'resnetv20_stage3_conv29_weight' is already initialized, ignoring. Set force_reinit=True to re-initialize.\n",
      "  v.initialize(None, ctx, init, force_reinit=force_reinit)\u001b[0m\n",
      "\u001b[34m/usr/local/lib/python3.6/site-packages/mxnet/gluon/parameter.py:813: UserWarning: Parameter 'resnetv20_stage3_batchnorm29_gamma' is already initialized, ignoring. Set force_reinit=True to re-initialize.\n",
      "  v.initialize(None, ctx, init, force_reinit=force_reinit)\u001b[0m\n",
      "\u001b[34m/usr/local/lib/python3.6/site-packages/mxnet/gluon/parameter.py:813: UserWarning: Parameter 'resnetv20_stage3_batchnorm29_beta' is already initialized, ignoring. Set force_reinit=True to re-initialize.\n",
      "  v.initialize(None, ctx, init, force_reinit=force_reinit)\u001b[0m\n",
      "\u001b[34m/usr/local/lib/python3.6/site-packages/mxnet/gluon/parameter.py:813: UserWarning: Parameter 'resnetv20_stage3_batchnorm29_running_mean' is already initialized, ignoring. Set force_reinit=True to re-initialize.\n",
      "  v.initialize(None, ctx, init, force_reinit=force_reinit)\u001b[0m\n",
      "\u001b[34m/usr/local/lib/python3.6/site-packages/mxnet/gluon/parameter.py:813: UserWarning: Parameter 'resnetv20_stage3_batchnorm29_running_var' is already initialized, ignoring. Set force_reinit=True to re-initialize.\n",
      "  v.initialize(None, ctx, init, force_reinit=force_reinit)\u001b[0m\n",
      "\u001b[34m/usr/local/lib/python3.6/site-packages/mxnet/gluon/parameter.py:813: UserWarning: Parameter 'resnetv20_stage3_conv30_weight' is already initialized, ignoring. Set force_reinit=True to re-initialize.\n",
      "  v.initialize(None, ctx, init, force_reinit=force_reinit)\u001b[0m\n",
      "\u001b[34m/usr/local/lib/python3.6/site-packages/mxnet/gluon/parameter.py:813: UserWarning: Parameter 'resnetv20_stage3_batchnorm30_gamma' is already initialized, ignoring. Set force_reinit=True to re-initialize.\n",
      "  v.initialize(None, ctx, init, force_reinit=force_reinit)\u001b[0m\n",
      "\u001b[34m/usr/local/lib/python3.6/site-packages/mxnet/gluon/parameter.py:813: UserWarning: Parameter 'resnetv20_stage3_batchnorm30_beta' is already initialized, ignoring. Set force_reinit=True to re-initialize.\n",
      "  v.initialize(None, ctx, init, force_reinit=force_reinit)\u001b[0m\n",
      "\u001b[34m/usr/local/lib/python3.6/site-packages/mxnet/gluon/parameter.py:813: UserWarning: Parameter 'resnetv20_stage3_batchnorm30_running_mean' is already initialized, ignoring. Set force_reinit=True to re-initialize.\n",
      "  v.initialize(None, ctx, init, force_reinit=force_reinit)\u001b[0m\n",
      "\u001b[34m/usr/local/lib/python3.6/site-packages/mxnet/gluon/parameter.py:813: UserWarning: Parameter 'resnetv20_stage3_batchnorm30_running_var' is already initialized, ignoring. Set force_reinit=True to re-initialize.\n",
      "  v.initialize(None, ctx, init, force_reinit=force_reinit)\u001b[0m\n",
      "\u001b[34m/usr/local/lib/python3.6/site-packages/mxnet/gluon/parameter.py:813: UserWarning: Parameter 'resnetv20_stage3_conv31_weight' is already initialized, ignoring. Set force_reinit=True to re-initialize.\n",
      "  v.initialize(None, ctx, init, force_reinit=force_reinit)\u001b[0m\n",
      "\u001b[34m/usr/local/lib/python3.6/site-packages/mxnet/gluon/parameter.py:813: UserWarning: Parameter 'resnetv20_stage3_batchnorm31_gamma' is already initialized, ignoring. Set force_reinit=True to re-initialize.\n",
      "  v.initialize(None, ctx, init, force_reinit=force_reinit)\u001b[0m\n",
      "\u001b[34m/usr/local/lib/python3.6/site-packages/mxnet/gluon/parameter.py:813: UserWarning: Parameter 'resnetv20_stage3_batchnorm31_beta' is already initialized, ignoring. Set force_reinit=True to re-initialize.\n",
      "  v.initialize(None, ctx, init, force_reinit=force_reinit)\u001b[0m\n",
      "\u001b[34m/usr/local/lib/python3.6/site-packages/mxnet/gluon/parameter.py:813: UserWarning: Parameter 'resnetv20_stage3_batchnorm31_running_mean' is already initialized, ignoring. Set force_reinit=True to re-initialize.\n",
      "  v.initialize(None, ctx, init, force_reinit=force_reinit)\u001b[0m\n",
      "\u001b[34m/usr/local/lib/python3.6/site-packages/mxnet/gluon/parameter.py:813: UserWarning: Parameter 'resnetv20_stage3_batchnorm31_running_var' is already initialized, ignoring. Set force_reinit=True to re-initialize.\n",
      "  v.initialize(None, ctx, init, force_reinit=force_reinit)\u001b[0m\n",
      "\u001b[34m/usr/local/lib/python3.6/site-packages/mxnet/gluon/parameter.py:813: UserWarning: Parameter 'resnetv20_stage3_conv32_weight' is already initialized, ignoring. Set force_reinit=True to re-initialize.\n",
      "  v.initialize(None, ctx, init, force_reinit=force_reinit)\u001b[0m\n",
      "\u001b[34m/usr/local/lib/python3.6/site-packages/mxnet/gluon/parameter.py:813: UserWarning: Parameter 'resnetv20_stage3_batchnorm32_gamma' is already initialized, ignoring. Set force_reinit=True to re-initialize.\n",
      "  v.initialize(None, ctx, init, force_reinit=force_reinit)\u001b[0m\n",
      "\u001b[34m/usr/local/lib/python3.6/site-packages/mxnet/gluon/parameter.py:813: UserWarning: Parameter 'resnetv20_stage3_batchnorm32_beta' is already initialized, ignoring. Set force_reinit=True to re-initialize.\n",
      "  v.initialize(None, ctx, init, force_reinit=force_reinit)\u001b[0m\n",
      "\u001b[34m/usr/local/lib/python3.6/site-packages/mxnet/gluon/parameter.py:813: UserWarning: Parameter 'resnetv20_stage3_batchnorm32_running_mean' is already initialized, ignoring. Set force_reinit=True to re-initialize.\n",
      "  v.initialize(None, ctx, init, force_reinit=force_reinit)\u001b[0m\n",
      "\u001b[34m/usr/local/lib/python3.6/site-packages/mxnet/gluon/parameter.py:813: UserWarning: Parameter 'resnetv20_stage3_batchnorm32_running_var' is already initialized, ignoring. Set force_reinit=True to re-initialize.\n",
      "  v.initialize(None, ctx, init, force_reinit=force_reinit)\u001b[0m\n",
      "\u001b[34m/usr/local/lib/python3.6/site-packages/mxnet/gluon/parameter.py:813: UserWarning: Parameter 'resnetv20_stage3_conv33_weight' is already initialized, ignoring. Set force_reinit=True to re-initialize.\n",
      "  v.initialize(None, ctx, init, force_reinit=force_reinit)\u001b[0m\n",
      "\u001b[34m/usr/local/lib/python3.6/site-packages/mxnet/gluon/parameter.py:813: UserWarning: Parameter 'resnetv20_stage3_batchnorm33_gamma' is already initialized, ignoring. Set force_reinit=True to re-initialize.\n",
      "  v.initialize(None, ctx, init, force_reinit=force_reinit)\u001b[0m\n",
      "\u001b[34m/usr/local/lib/python3.6/site-packages/mxnet/gluon/parameter.py:813: UserWarning: Parameter 'resnetv20_stage3_batchnorm33_beta' is already initialized, ignoring. Set force_reinit=True to re-initialize.\n",
      "  v.initialize(None, ctx, init, force_reinit=force_reinit)\u001b[0m\n",
      "\u001b[34m/usr/local/lib/python3.6/site-packages/mxnet/gluon/parameter.py:813: UserWarning: Parameter 'resnetv20_stage3_batchnorm33_running_mean' is already initialized, ignoring. Set force_reinit=True to re-initialize.\n",
      "  v.initialize(None, ctx, init, force_reinit=force_reinit)\u001b[0m\n",
      "\u001b[34m/usr/local/lib/python3.6/site-packages/mxnet/gluon/parameter.py:813: UserWarning: Parameter 'resnetv20_stage3_batchnorm33_running_var' is already initialized, ignoring. Set force_reinit=True to re-initialize.\n",
      "  v.initialize(None, ctx, init, force_reinit=force_reinit)\u001b[0m\n",
      "\u001b[34m/usr/local/lib/python3.6/site-packages/mxnet/gluon/parameter.py:813: UserWarning: Parameter 'resnetv20_stage3_conv34_weight' is already initialized, ignoring. Set force_reinit=True to re-initialize.\n",
      "  v.initialize(None, ctx, init, force_reinit=force_reinit)\u001b[0m\n",
      "\u001b[34m/usr/local/lib/python3.6/site-packages/mxnet/gluon/parameter.py:813: UserWarning: Parameter 'resnetv20_stage3_batchnorm34_gamma' is already initialized, ignoring. Set force_reinit=True to re-initialize.\n",
      "  v.initialize(None, ctx, init, force_reinit=force_reinit)\u001b[0m\n",
      "\u001b[34m/usr/local/lib/python3.6/site-packages/mxnet/gluon/parameter.py:813: UserWarning: Parameter 'resnetv20_stage3_batchnorm34_beta' is already initialized, ignoring. Set force_reinit=True to re-initialize.\n",
      "  v.initialize(None, ctx, init, force_reinit=force_reinit)\u001b[0m\n",
      "\u001b[34m/usr/local/lib/python3.6/site-packages/mxnet/gluon/parameter.py:813: UserWarning: Parameter 'resnetv20_stage3_batchnorm34_running_mean' is already initialized, ignoring. Set force_reinit=True to re-initialize.\n",
      "  v.initialize(None, ctx, init, force_reinit=force_reinit)\u001b[0m\n",
      "\u001b[34m/usr/local/lib/python3.6/site-packages/mxnet/gluon/parameter.py:813: UserWarning: Parameter 'resnetv20_stage3_batchnorm34_running_var' is already initialized, ignoring. Set force_reinit=True to re-initialize.\n",
      "  v.initialize(None, ctx, init, force_reinit=force_reinit)\u001b[0m\n",
      "\u001b[34m/usr/local/lib/python3.6/site-packages/mxnet/gluon/parameter.py:813: UserWarning: Parameter 'resnetv20_stage3_conv35_weight' is already initialized, ignoring. Set force_reinit=True to re-initialize.\n",
      "  v.initialize(None, ctx, init, force_reinit=force_reinit)\u001b[0m\n",
      "\u001b[34m/usr/local/lib/python3.6/site-packages/mxnet/gluon/parameter.py:813: UserWarning: Parameter 'resnetv20_stage3_batchnorm35_gamma' is already initialized, ignoring. Set force_reinit=True to re-initialize.\n",
      "  v.initialize(None, ctx, init, force_reinit=force_reinit)\u001b[0m\n",
      "\u001b[34m/usr/local/lib/python3.6/site-packages/mxnet/gluon/parameter.py:813: UserWarning: Parameter 'resnetv20_stage3_batchnorm35_beta' is already initialized, ignoring. Set force_reinit=True to re-initialize.\n",
      "  v.initialize(None, ctx, init, force_reinit=force_reinit)\u001b[0m\n",
      "\u001b[34m/usr/local/lib/python3.6/site-packages/mxnet/gluon/parameter.py:813: UserWarning: Parameter 'resnetv20_stage3_batchnorm35_running_mean' is already initialized, ignoring. Set force_reinit=True to re-initialize.\n",
      "  v.initialize(None, ctx, init, force_reinit=force_reinit)\u001b[0m\n",
      "\u001b[34m/usr/local/lib/python3.6/site-packages/mxnet/gluon/parameter.py:813: UserWarning: Parameter 'resnetv20_stage3_batchnorm35_running_var' is already initialized, ignoring. Set force_reinit=True to re-initialize.\n",
      "  v.initialize(None, ctx, init, force_reinit=force_reinit)\u001b[0m\n",
      "\u001b[34m/usr/local/lib/python3.6/site-packages/mxnet/gluon/parameter.py:813: UserWarning: Parameter 'resnetv20_stage3_conv36_weight' is already initialized, ignoring. Set force_reinit=True to re-initialize.\n",
      "  v.initialize(None, ctx, init, force_reinit=force_reinit)\u001b[0m\n",
      "\u001b[34m/usr/local/lib/python3.6/site-packages/mxnet/gluon/parameter.py:813: UserWarning: Parameter 'resnetv20_stage3_batchnorm36_gamma' is already initialized, ignoring. Set force_reinit=True to re-initialize.\n",
      "  v.initialize(None, ctx, init, force_reinit=force_reinit)\u001b[0m\n",
      "\u001b[34m/usr/local/lib/python3.6/site-packages/mxnet/gluon/parameter.py:813: UserWarning: Parameter 'resnetv20_stage3_batchnorm36_beta' is already initialized, ignoring. Set force_reinit=True to re-initialize.\n",
      "  v.initialize(None, ctx, init, force_reinit=force_reinit)\u001b[0m\n",
      "\u001b[34m/usr/local/lib/python3.6/site-packages/mxnet/gluon/parameter.py:813: UserWarning: Parameter 'resnetv20_stage3_batchnorm36_running_mean' is already initialized, ignoring. Set force_reinit=True to re-initialize.\n",
      "  v.initialize(None, ctx, init, force_reinit=force_reinit)\u001b[0m\n",
      "\u001b[34m/usr/local/lib/python3.6/site-packages/mxnet/gluon/parameter.py:813: UserWarning: Parameter 'resnetv20_stage3_batchnorm36_running_var' is already initialized, ignoring. Set force_reinit=True to re-initialize.\n",
      "  v.initialize(None, ctx, init, force_reinit=force_reinit)\u001b[0m\n",
      "\u001b[34m/usr/local/lib/python3.6/site-packages/mxnet/gluon/parameter.py:813: UserWarning: Parameter 'resnetv20_stage3_conv37_weight' is already initialized, ignoring. Set force_reinit=True to re-initialize.\n",
      "  v.initialize(None, ctx, init, force_reinit=force_reinit)\u001b[0m\n",
      "\u001b[34m/usr/local/lib/python3.6/site-packages/mxnet/gluon/parameter.py:813: UserWarning: Parameter 'resnetv20_stage3_batchnorm37_gamma' is already initialized, ignoring. Set force_reinit=True to re-initialize.\n",
      "  v.initialize(None, ctx, init, force_reinit=force_reinit)\u001b[0m\n",
      "\u001b[34m/usr/local/lib/python3.6/site-packages/mxnet/gluon/parameter.py:813: UserWarning: Parameter 'resnetv20_stage3_batchnorm37_beta' is already initialized, ignoring. Set force_reinit=True to re-initialize.\n",
      "  v.initialize(None, ctx, init, force_reinit=force_reinit)\u001b[0m\n",
      "\u001b[34m/usr/local/lib/python3.6/site-packages/mxnet/gluon/parameter.py:813: UserWarning: Parameter 'resnetv20_stage3_batchnorm37_running_mean' is already initialized, ignoring. Set force_reinit=True to re-initialize.\n",
      "  v.initialize(None, ctx, init, force_reinit=force_reinit)\u001b[0m\n",
      "\u001b[34m/usr/local/lib/python3.6/site-packages/mxnet/gluon/parameter.py:813: UserWarning: Parameter 'resnetv20_stage3_batchnorm37_running_var' is already initialized, ignoring. Set force_reinit=True to re-initialize.\n",
      "  v.initialize(None, ctx, init, force_reinit=force_reinit)\u001b[0m\n",
      "\u001b[34m/usr/local/lib/python3.6/site-packages/mxnet/gluon/parameter.py:813: UserWarning: Parameter 'resnetv20_stage3_conv38_weight' is already initialized, ignoring. Set force_reinit=True to re-initialize.\n",
      "  v.initialize(None, ctx, init, force_reinit=force_reinit)\u001b[0m\n",
      "\u001b[34m/usr/local/lib/python3.6/site-packages/mxnet/gluon/parameter.py:813: UserWarning: Parameter 'resnetv20_stage3_batchnorm38_gamma' is already initialized, ignoring. Set force_reinit=True to re-initialize.\n",
      "  v.initialize(None, ctx, init, force_reinit=force_reinit)\u001b[0m\n",
      "\u001b[34m/usr/local/lib/python3.6/site-packages/mxnet/gluon/parameter.py:813: UserWarning: Parameter 'resnetv20_stage3_batchnorm38_beta' is already initialized, ignoring. Set force_reinit=True to re-initialize.\n",
      "  v.initialize(None, ctx, init, force_reinit=force_reinit)\u001b[0m\n",
      "\u001b[34m/usr/local/lib/python3.6/site-packages/mxnet/gluon/parameter.py:813: UserWarning: Parameter 'resnetv20_stage3_batchnorm38_running_mean' is already initialized, ignoring. Set force_reinit=True to re-initialize.\n",
      "  v.initialize(None, ctx, init, force_reinit=force_reinit)\u001b[0m\n",
      "\u001b[34m/usr/local/lib/python3.6/site-packages/mxnet/gluon/parameter.py:813: UserWarning: Parameter 'resnetv20_stage3_batchnorm38_running_var' is already initialized, ignoring. Set force_reinit=True to re-initialize.\n",
      "  v.initialize(None, ctx, init, force_reinit=force_reinit)\u001b[0m\n",
      "\u001b[34m/usr/local/lib/python3.6/site-packages/mxnet/gluon/parameter.py:813: UserWarning: Parameter 'resnetv20_stage3_conv39_weight' is already initialized, ignoring. Set force_reinit=True to re-initialize.\n",
      "  v.initialize(None, ctx, init, force_reinit=force_reinit)\u001b[0m\n",
      "\u001b[34m/usr/local/lib/python3.6/site-packages/mxnet/gluon/parameter.py:813: UserWarning: Parameter 'resnetv20_stage3_batchnorm39_gamma' is already initialized, ignoring. Set force_reinit=True to re-initialize.\n",
      "  v.initialize(None, ctx, init, force_reinit=force_reinit)\u001b[0m\n",
      "\u001b[34m/usr/local/lib/python3.6/site-packages/mxnet/gluon/parameter.py:813: UserWarning: Parameter 'resnetv20_stage3_batchnorm39_beta' is already initialized, ignoring. Set force_reinit=True to re-initialize.\n",
      "  v.initialize(None, ctx, init, force_reinit=force_reinit)\u001b[0m\n",
      "\u001b[34m/usr/local/lib/python3.6/site-packages/mxnet/gluon/parameter.py:813: UserWarning: Parameter 'resnetv20_stage3_batchnorm39_running_mean' is already initialized, ignoring. Set force_reinit=True to re-initialize.\n",
      "  v.initialize(None, ctx, init, force_reinit=force_reinit)\u001b[0m\n",
      "\u001b[34m/usr/local/lib/python3.6/site-packages/mxnet/gluon/parameter.py:813: UserWarning: Parameter 'resnetv20_stage3_batchnorm39_running_var' is already initialized, ignoring. Set force_reinit=True to re-initialize.\n",
      "  v.initialize(None, ctx, init, force_reinit=force_reinit)\u001b[0m\n",
      "\u001b[34m/usr/local/lib/python3.6/site-packages/mxnet/gluon/parameter.py:813: UserWarning: Parameter 'resnetv20_stage3_conv40_weight' is already initialized, ignoring. Set force_reinit=True to re-initialize.\n",
      "  v.initialize(None, ctx, init, force_reinit=force_reinit)\u001b[0m\n",
      "\u001b[34m/usr/local/lib/python3.6/site-packages/mxnet/gluon/parameter.py:813: UserWarning: Parameter 'resnetv20_stage3_batchnorm40_gamma' is already initialized, ignoring. Set force_reinit=True to re-initialize.\n",
      "  v.initialize(None, ctx, init, force_reinit=force_reinit)\u001b[0m\n",
      "\u001b[34m/usr/local/lib/python3.6/site-packages/mxnet/gluon/parameter.py:813: UserWarning: Parameter 'resnetv20_stage3_batchnorm40_beta' is already initialized, ignoring. Set force_reinit=True to re-initialize.\n",
      "  v.initialize(None, ctx, init, force_reinit=force_reinit)\u001b[0m\n",
      "\u001b[34m/usr/local/lib/python3.6/site-packages/mxnet/gluon/parameter.py:813: UserWarning: Parameter 'resnetv20_stage3_batchnorm40_running_mean' is already initialized, ignoring. Set force_reinit=True to re-initialize.\n",
      "  v.initialize(None, ctx, init, force_reinit=force_reinit)\u001b[0m\n",
      "\u001b[34m/usr/local/lib/python3.6/site-packages/mxnet/gluon/parameter.py:813: UserWarning: Parameter 'resnetv20_stage3_batchnorm40_running_var' is already initialized, ignoring. Set force_reinit=True to re-initialize.\n",
      "  v.initialize(None, ctx, init, force_reinit=force_reinit)\u001b[0m\n",
      "\u001b[34m/usr/local/lib/python3.6/site-packages/mxnet/gluon/parameter.py:813: UserWarning: Parameter 'resnetv20_stage3_conv41_weight' is already initialized, ignoring. Set force_reinit=True to re-initialize.\n",
      "  v.initialize(None, ctx, init, force_reinit=force_reinit)\u001b[0m\n",
      "\u001b[34m/usr/local/lib/python3.6/site-packages/mxnet/gluon/parameter.py:813: UserWarning: Parameter 'resnetv20_stage3_batchnorm41_gamma' is already initialized, ignoring. Set force_reinit=True to re-initialize.\n",
      "  v.initialize(None, ctx, init, force_reinit=force_reinit)\u001b[0m\n",
      "\u001b[34m/usr/local/lib/python3.6/site-packages/mxnet/gluon/parameter.py:813: UserWarning: Parameter 'resnetv20_stage3_batchnorm41_beta' is already initialized, ignoring. Set force_reinit=True to re-initialize.\n",
      "  v.initialize(None, ctx, init, force_reinit=force_reinit)\u001b[0m\n",
      "\u001b[34m/usr/local/lib/python3.6/site-packages/mxnet/gluon/parameter.py:813: UserWarning: Parameter 'resnetv20_stage3_batchnorm41_running_mean' is already initialized, ignoring. Set force_reinit=True to re-initialize.\n",
      "  v.initialize(None, ctx, init, force_reinit=force_reinit)\u001b[0m\n",
      "\u001b[34m/usr/local/lib/python3.6/site-packages/mxnet/gluon/parameter.py:813: UserWarning: Parameter 'resnetv20_stage3_batchnorm41_running_var' is already initialized, ignoring. Set force_reinit=True to re-initialize.\n",
      "  v.initialize(None, ctx, init, force_reinit=force_reinit)\u001b[0m\n",
      "\u001b[34m/usr/local/lib/python3.6/site-packages/mxnet/gluon/parameter.py:813: UserWarning: Parameter 'resnetv20_stage3_conv42_weight' is already initialized, ignoring. Set force_reinit=True to re-initialize.\n",
      "  v.initialize(None, ctx, init, force_reinit=force_reinit)\u001b[0m\n",
      "\u001b[34m/usr/local/lib/python3.6/site-packages/mxnet/gluon/parameter.py:813: UserWarning: Parameter 'resnetv20_stage3_batchnorm42_gamma' is already initialized, ignoring. Set force_reinit=True to re-initialize.\n",
      "  v.initialize(None, ctx, init, force_reinit=force_reinit)\u001b[0m\n",
      "\u001b[34m/usr/local/lib/python3.6/site-packages/mxnet/gluon/parameter.py:813: UserWarning: Parameter 'resnetv20_stage3_batchnorm42_beta' is already initialized, ignoring. Set force_reinit=True to re-initialize.\n",
      "  v.initialize(None, ctx, init, force_reinit=force_reinit)\u001b[0m\n",
      "\u001b[34m/usr/local/lib/python3.6/site-packages/mxnet/gluon/parameter.py:813: UserWarning: Parameter 'resnetv20_stage3_batchnorm42_running_mean' is already initialized, ignoring. Set force_reinit=True to re-initialize.\n",
      "  v.initialize(None, ctx, init, force_reinit=force_reinit)\u001b[0m\n",
      "\u001b[34m/usr/local/lib/python3.6/site-packages/mxnet/gluon/parameter.py:813: UserWarning: Parameter 'resnetv20_stage3_batchnorm42_running_var' is already initialized, ignoring. Set force_reinit=True to re-initialize.\n",
      "  v.initialize(None, ctx, init, force_reinit=force_reinit)\u001b[0m\n",
      "\u001b[34m/usr/local/lib/python3.6/site-packages/mxnet/gluon/parameter.py:813: UserWarning: Parameter 'resnetv20_stage3_conv43_weight' is already initialized, ignoring. Set force_reinit=True to re-initialize.\n",
      "  v.initialize(None, ctx, init, force_reinit=force_reinit)\u001b[0m\n",
      "\u001b[34m/usr/local/lib/python3.6/site-packages/mxnet/gluon/parameter.py:813: UserWarning: Parameter 'resnetv20_stage3_batchnorm43_gamma' is already initialized, ignoring. Set force_reinit=True to re-initialize.\n",
      "  v.initialize(None, ctx, init, force_reinit=force_reinit)\u001b[0m\n",
      "\u001b[34m/usr/local/lib/python3.6/site-packages/mxnet/gluon/parameter.py:813: UserWarning: Parameter 'resnetv20_stage3_batchnorm43_beta' is already initialized, ignoring. Set force_reinit=True to re-initialize.\n",
      "  v.initialize(None, ctx, init, force_reinit=force_reinit)\u001b[0m\n",
      "\u001b[34m/usr/local/lib/python3.6/site-packages/mxnet/gluon/parameter.py:813: UserWarning: Parameter 'resnetv20_stage3_batchnorm43_running_mean' is already initialized, ignoring. Set force_reinit=True to re-initialize.\n",
      "  v.initialize(None, ctx, init, force_reinit=force_reinit)\u001b[0m\n",
      "\u001b[34m/usr/local/lib/python3.6/site-packages/mxnet/gluon/parameter.py:813: UserWarning: Parameter 'resnetv20_stage3_batchnorm43_running_var' is already initialized, ignoring. Set force_reinit=True to re-initialize.\n",
      "  v.initialize(None, ctx, init, force_reinit=force_reinit)\u001b[0m\n",
      "\u001b[34m/usr/local/lib/python3.6/site-packages/mxnet/gluon/parameter.py:813: UserWarning: Parameter 'resnetv20_stage3_conv44_weight' is already initialized, ignoring. Set force_reinit=True to re-initialize.\n",
      "  v.initialize(None, ctx, init, force_reinit=force_reinit)\u001b[0m\n",
      "\u001b[34m/usr/local/lib/python3.6/site-packages/mxnet/gluon/parameter.py:813: UserWarning: Parameter 'resnetv20_stage3_batchnorm44_gamma' is already initialized, ignoring. Set force_reinit=True to re-initialize.\n",
      "  v.initialize(None, ctx, init, force_reinit=force_reinit)\u001b[0m\n",
      "\u001b[34m/usr/local/lib/python3.6/site-packages/mxnet/gluon/parameter.py:813: UserWarning: Parameter 'resnetv20_stage3_batchnorm44_beta' is already initialized, ignoring. Set force_reinit=True to re-initialize.\n",
      "  v.initialize(None, ctx, init, force_reinit=force_reinit)\u001b[0m\n",
      "\u001b[34m/usr/local/lib/python3.6/site-packages/mxnet/gluon/parameter.py:813: UserWarning: Parameter 'resnetv20_stage3_batchnorm44_running_mean' is already initialized, ignoring. Set force_reinit=True to re-initialize.\n",
      "  v.initialize(None, ctx, init, force_reinit=force_reinit)\u001b[0m\n",
      "\u001b[34m/usr/local/lib/python3.6/site-packages/mxnet/gluon/parameter.py:813: UserWarning: Parameter 'resnetv20_stage3_batchnorm44_running_var' is already initialized, ignoring. Set force_reinit=True to re-initialize.\n",
      "  v.initialize(None, ctx, init, force_reinit=force_reinit)\u001b[0m\n",
      "\u001b[34m/usr/local/lib/python3.6/site-packages/mxnet/gluon/parameter.py:813: UserWarning: Parameter 'resnetv20_stage3_conv45_weight' is already initialized, ignoring. Set force_reinit=True to re-initialize.\n",
      "  v.initialize(None, ctx, init, force_reinit=force_reinit)\u001b[0m\n",
      "\u001b[34m/usr/local/lib/python3.6/site-packages/mxnet/gluon/parameter.py:813: UserWarning: Parameter 'resnetv20_stage3_batchnorm45_gamma' is already initialized, ignoring. Set force_reinit=True to re-initialize.\n",
      "  v.initialize(None, ctx, init, force_reinit=force_reinit)\u001b[0m\n",
      "\u001b[34m/usr/local/lib/python3.6/site-packages/mxnet/gluon/parameter.py:813: UserWarning: Parameter 'resnetv20_stage3_batchnorm45_beta' is already initialized, ignoring. Set force_reinit=True to re-initialize.\n",
      "  v.initialize(None, ctx, init, force_reinit=force_reinit)\u001b[0m\n",
      "\u001b[34m/usr/local/lib/python3.6/site-packages/mxnet/gluon/parameter.py:813: UserWarning: Parameter 'resnetv20_stage3_batchnorm45_running_mean' is already initialized, ignoring. Set force_reinit=True to re-initialize.\n",
      "  v.initialize(None, ctx, init, force_reinit=force_reinit)\u001b[0m\n",
      "\u001b[34m/usr/local/lib/python3.6/site-packages/mxnet/gluon/parameter.py:813: UserWarning: Parameter 'resnetv20_stage3_batchnorm45_running_var' is already initialized, ignoring. Set force_reinit=True to re-initialize.\n",
      "  v.initialize(None, ctx, init, force_reinit=force_reinit)\u001b[0m\n",
      "\u001b[34m/usr/local/lib/python3.6/site-packages/mxnet/gluon/parameter.py:813: UserWarning: Parameter 'resnetv20_stage3_conv46_weight' is already initialized, ignoring. Set force_reinit=True to re-initialize.\n",
      "  v.initialize(None, ctx, init, force_reinit=force_reinit)\u001b[0m\n",
      "\u001b[34m/usr/local/lib/python3.6/site-packages/mxnet/gluon/parameter.py:813: UserWarning: Parameter 'resnetv20_stage3_batchnorm46_gamma' is already initialized, ignoring. Set force_reinit=True to re-initialize.\n",
      "  v.initialize(None, ctx, init, force_reinit=force_reinit)\u001b[0m\n",
      "\u001b[34m/usr/local/lib/python3.6/site-packages/mxnet/gluon/parameter.py:813: UserWarning: Parameter 'resnetv20_stage3_batchnorm46_beta' is already initialized, ignoring. Set force_reinit=True to re-initialize.\n",
      "  v.initialize(None, ctx, init, force_reinit=force_reinit)\u001b[0m\n",
      "\u001b[34m/usr/local/lib/python3.6/site-packages/mxnet/gluon/parameter.py:813: UserWarning: Parameter 'resnetv20_stage3_batchnorm46_running_mean' is already initialized, ignoring. Set force_reinit=True to re-initialize.\n",
      "  v.initialize(None, ctx, init, force_reinit=force_reinit)\u001b[0m\n",
      "\u001b[34m/usr/local/lib/python3.6/site-packages/mxnet/gluon/parameter.py:813: UserWarning: Parameter 'resnetv20_stage3_batchnorm46_running_var' is already initialized, ignoring. Set force_reinit=True to re-initialize.\n",
      "  v.initialize(None, ctx, init, force_reinit=force_reinit)\u001b[0m\n",
      "\u001b[34m/usr/local/lib/python3.6/site-packages/mxnet/gluon/parameter.py:813: UserWarning: Parameter 'resnetv20_stage3_conv47_weight' is already initialized, ignoring. Set force_reinit=True to re-initialize.\n",
      "  v.initialize(None, ctx, init, force_reinit=force_reinit)\u001b[0m\n",
      "\u001b[34m/usr/local/lib/python3.6/site-packages/mxnet/gluon/parameter.py:813: UserWarning: Parameter 'resnetv20_stage3_batchnorm47_gamma' is already initialized, ignoring. Set force_reinit=True to re-initialize.\n",
      "  v.initialize(None, ctx, init, force_reinit=force_reinit)\u001b[0m\n",
      "\u001b[34m/usr/local/lib/python3.6/site-packages/mxnet/gluon/parameter.py:813: UserWarning: Parameter 'resnetv20_stage3_batchnorm47_beta' is already initialized, ignoring. Set force_reinit=True to re-initialize.\n",
      "  v.initialize(None, ctx, init, force_reinit=force_reinit)\u001b[0m\n",
      "\u001b[34m/usr/local/lib/python3.6/site-packages/mxnet/gluon/parameter.py:813: UserWarning: Parameter 'resnetv20_stage3_batchnorm47_running_mean' is already initialized, ignoring. Set force_reinit=True to re-initialize.\n",
      "  v.initialize(None, ctx, init, force_reinit=force_reinit)\u001b[0m\n",
      "\u001b[34m/usr/local/lib/python3.6/site-packages/mxnet/gluon/parameter.py:813: UserWarning: Parameter 'resnetv20_stage3_batchnorm47_running_var' is already initialized, ignoring. Set force_reinit=True to re-initialize.\n",
      "  v.initialize(None, ctx, init, force_reinit=force_reinit)\u001b[0m\n",
      "\u001b[34m/usr/local/lib/python3.6/site-packages/mxnet/gluon/parameter.py:813: UserWarning: Parameter 'resnetv20_stage3_conv48_weight' is already initialized, ignoring. Set force_reinit=True to re-initialize.\n",
      "  v.initialize(None, ctx, init, force_reinit=force_reinit)\u001b[0m\n",
      "\u001b[34m/usr/local/lib/python3.6/site-packages/mxnet/gluon/parameter.py:813: UserWarning: Parameter 'resnetv20_stage3_batchnorm48_gamma' is already initialized, ignoring. Set force_reinit=True to re-initialize.\n",
      "  v.initialize(None, ctx, init, force_reinit=force_reinit)\u001b[0m\n",
      "\u001b[34m/usr/local/lib/python3.6/site-packages/mxnet/gluon/parameter.py:813: UserWarning: Parameter 'resnetv20_stage3_batchnorm48_beta' is already initialized, ignoring. Set force_reinit=True to re-initialize.\n",
      "  v.initialize(None, ctx, init, force_reinit=force_reinit)\u001b[0m\n",
      "\u001b[34m/usr/local/lib/python3.6/site-packages/mxnet/gluon/parameter.py:813: UserWarning: Parameter 'resnetv20_stage3_batchnorm48_running_mean' is already initialized, ignoring. Set force_reinit=True to re-initialize.\n",
      "  v.initialize(None, ctx, init, force_reinit=force_reinit)\u001b[0m\n",
      "\u001b[34m/usr/local/lib/python3.6/site-packages/mxnet/gluon/parameter.py:813: UserWarning: Parameter 'resnetv20_stage3_batchnorm48_running_var' is already initialized, ignoring. Set force_reinit=True to re-initialize.\n",
      "  v.initialize(None, ctx, init, force_reinit=force_reinit)\u001b[0m\n",
      "\u001b[34m/usr/local/lib/python3.6/site-packages/mxnet/gluon/parameter.py:813: UserWarning: Parameter 'resnetv20_stage3_conv49_weight' is already initialized, ignoring. Set force_reinit=True to re-initialize.\n",
      "  v.initialize(None, ctx, init, force_reinit=force_reinit)\u001b[0m\n",
      "\u001b[34m/usr/local/lib/python3.6/site-packages/mxnet/gluon/parameter.py:813: UserWarning: Parameter 'resnetv20_stage3_batchnorm49_gamma' is already initialized, ignoring. Set force_reinit=True to re-initialize.\n",
      "  v.initialize(None, ctx, init, force_reinit=force_reinit)\u001b[0m\n",
      "\u001b[34m/usr/local/lib/python3.6/site-packages/mxnet/gluon/parameter.py:813: UserWarning: Parameter 'resnetv20_stage3_batchnorm49_beta' is already initialized, ignoring. Set force_reinit=True to re-initialize.\n",
      "  v.initialize(None, ctx, init, force_reinit=force_reinit)\u001b[0m\n",
      "\u001b[34m/usr/local/lib/python3.6/site-packages/mxnet/gluon/parameter.py:813: UserWarning: Parameter 'resnetv20_stage3_batchnorm49_running_mean' is already initialized, ignoring. Set force_reinit=True to re-initialize.\n",
      "  v.initialize(None, ctx, init, force_reinit=force_reinit)\u001b[0m\n",
      "\u001b[34m/usr/local/lib/python3.6/site-packages/mxnet/gluon/parameter.py:813: UserWarning: Parameter 'resnetv20_stage3_batchnorm49_running_var' is already initialized, ignoring. Set force_reinit=True to re-initialize.\n",
      "  v.initialize(None, ctx, init, force_reinit=force_reinit)\u001b[0m\n",
      "\u001b[34m/usr/local/lib/python3.6/site-packages/mxnet/gluon/parameter.py:813: UserWarning: Parameter 'resnetv20_stage3_conv50_weight' is already initialized, ignoring. Set force_reinit=True to re-initialize.\n",
      "  v.initialize(None, ctx, init, force_reinit=force_reinit)\u001b[0m\n",
      "\u001b[34m/usr/local/lib/python3.6/site-packages/mxnet/gluon/parameter.py:813: UserWarning: Parameter 'resnetv20_stage3_batchnorm50_gamma' is already initialized, ignoring. Set force_reinit=True to re-initialize.\n",
      "  v.initialize(None, ctx, init, force_reinit=force_reinit)\u001b[0m\n",
      "\u001b[34m/usr/local/lib/python3.6/site-packages/mxnet/gluon/parameter.py:813: UserWarning: Parameter 'resnetv20_stage3_batchnorm50_beta' is already initialized, ignoring. Set force_reinit=True to re-initialize.\n",
      "  v.initialize(None, ctx, init, force_reinit=force_reinit)\u001b[0m\n",
      "\u001b[34m/usr/local/lib/python3.6/site-packages/mxnet/gluon/parameter.py:813: UserWarning: Parameter 'resnetv20_stage3_batchnorm50_running_mean' is already initialized, ignoring. Set force_reinit=True to re-initialize.\n",
      "  v.initialize(None, ctx, init, force_reinit=force_reinit)\u001b[0m\n",
      "\u001b[34m/usr/local/lib/python3.6/site-packages/mxnet/gluon/parameter.py:813: UserWarning: Parameter 'resnetv20_stage3_batchnorm50_running_var' is already initialized, ignoring. Set force_reinit=True to re-initialize.\n",
      "  v.initialize(None, ctx, init, force_reinit=force_reinit)\u001b[0m\n",
      "\u001b[34m/usr/local/lib/python3.6/site-packages/mxnet/gluon/parameter.py:813: UserWarning: Parameter 'resnetv20_stage3_conv51_weight' is already initialized, ignoring. Set force_reinit=True to re-initialize.\n",
      "  v.initialize(None, ctx, init, force_reinit=force_reinit)\u001b[0m\n",
      "\u001b[34m/usr/local/lib/python3.6/site-packages/mxnet/gluon/parameter.py:813: UserWarning: Parameter 'resnetv20_stage3_batchnorm51_gamma' is already initialized, ignoring. Set force_reinit=True to re-initialize.\n",
      "  v.initialize(None, ctx, init, force_reinit=force_reinit)\u001b[0m\n",
      "\u001b[34m/usr/local/lib/python3.6/site-packages/mxnet/gluon/parameter.py:813: UserWarning: Parameter 'resnetv20_stage3_batchnorm51_beta' is already initialized, ignoring. Set force_reinit=True to re-initialize.\n",
      "  v.initialize(None, ctx, init, force_reinit=force_reinit)\u001b[0m\n",
      "\u001b[34m/usr/local/lib/python3.6/site-packages/mxnet/gluon/parameter.py:813: UserWarning: Parameter 'resnetv20_stage3_batchnorm51_running_mean' is already initialized, ignoring. Set force_reinit=True to re-initialize.\n",
      "  v.initialize(None, ctx, init, force_reinit=force_reinit)\u001b[0m\n",
      "\u001b[34m/usr/local/lib/python3.6/site-packages/mxnet/gluon/parameter.py:813: UserWarning: Parameter 'resnetv20_stage3_batchnorm51_running_var' is already initialized, ignoring. Set force_reinit=True to re-initialize.\n",
      "  v.initialize(None, ctx, init, force_reinit=force_reinit)\u001b[0m\n",
      "\u001b[34m/usr/local/lib/python3.6/site-packages/mxnet/gluon/parameter.py:813: UserWarning: Parameter 'resnetv20_stage3_conv52_weight' is already initialized, ignoring. Set force_reinit=True to re-initialize.\n",
      "  v.initialize(None, ctx, init, force_reinit=force_reinit)\u001b[0m\n",
      "\u001b[34m/usr/local/lib/python3.6/site-packages/mxnet/gluon/parameter.py:813: UserWarning: Parameter 'resnetv20_stage3_batchnorm52_gamma' is already initialized, ignoring. Set force_reinit=True to re-initialize.\n",
      "  v.initialize(None, ctx, init, force_reinit=force_reinit)\u001b[0m\n",
      "\u001b[34m/usr/local/lib/python3.6/site-packages/mxnet/gluon/parameter.py:813: UserWarning: Parameter 'resnetv20_stage3_batchnorm52_beta' is already initialized, ignoring. Set force_reinit=True to re-initialize.\n",
      "  v.initialize(None, ctx, init, force_reinit=force_reinit)\u001b[0m\n",
      "\u001b[34m/usr/local/lib/python3.6/site-packages/mxnet/gluon/parameter.py:813: UserWarning: Parameter 'resnetv20_stage3_batchnorm52_running_mean' is already initialized, ignoring. Set force_reinit=True to re-initialize.\n",
      "  v.initialize(None, ctx, init, force_reinit=force_reinit)\u001b[0m\n",
      "\u001b[34m/usr/local/lib/python3.6/site-packages/mxnet/gluon/parameter.py:813: UserWarning: Parameter 'resnetv20_stage3_batchnorm52_running_var' is already initialized, ignoring. Set force_reinit=True to re-initialize.\n",
      "  v.initialize(None, ctx, init, force_reinit=force_reinit)\u001b[0m\n",
      "\u001b[34m/usr/local/lib/python3.6/site-packages/mxnet/gluon/parameter.py:813: UserWarning: Parameter 'resnetv20_stage3_conv53_weight' is already initialized, ignoring. Set force_reinit=True to re-initialize.\n",
      "  v.initialize(None, ctx, init, force_reinit=force_reinit)\u001b[0m\n",
      "\u001b[34m/usr/local/lib/python3.6/site-packages/mxnet/gluon/parameter.py:813: UserWarning: Parameter 'resnetv20_stage3_batchnorm53_gamma' is already initialized, ignoring. Set force_reinit=True to re-initialize.\n",
      "  v.initialize(None, ctx, init, force_reinit=force_reinit)\u001b[0m\n",
      "\u001b[34m/usr/local/lib/python3.6/site-packages/mxnet/gluon/parameter.py:813: UserWarning: Parameter 'resnetv20_stage3_batchnorm53_beta' is already initialized, ignoring. Set force_reinit=True to re-initialize.\n",
      "  v.initialize(None, ctx, init, force_reinit=force_reinit)\u001b[0m\n",
      "\u001b[34m/usr/local/lib/python3.6/site-packages/mxnet/gluon/parameter.py:813: UserWarning: Parameter 'resnetv20_stage3_batchnorm53_running_mean' is already initialized, ignoring. Set force_reinit=True to re-initialize.\n",
      "  v.initialize(None, ctx, init, force_reinit=force_reinit)\u001b[0m\n",
      "\u001b[34m/usr/local/lib/python3.6/site-packages/mxnet/gluon/parameter.py:813: UserWarning: Parameter 'resnetv20_stage3_batchnorm53_running_var' is already initialized, ignoring. Set force_reinit=True to re-initialize.\n",
      "  v.initialize(None, ctx, init, force_reinit=force_reinit)\u001b[0m\n",
      "\u001b[34m/usr/local/lib/python3.6/site-packages/mxnet/gluon/parameter.py:813: UserWarning: Parameter 'resnetv20_stage3_conv54_weight' is already initialized, ignoring. Set force_reinit=True to re-initialize.\n",
      "  v.initialize(None, ctx, init, force_reinit=force_reinit)\u001b[0m\n",
      "\u001b[34m/usr/local/lib/python3.6/site-packages/mxnet/gluon/parameter.py:813: UserWarning: Parameter 'resnetv20_stage3_batchnorm54_gamma' is already initialized, ignoring. Set force_reinit=True to re-initialize.\n",
      "  v.initialize(None, ctx, init, force_reinit=force_reinit)\u001b[0m\n",
      "\u001b[34m/usr/local/lib/python3.6/site-packages/mxnet/gluon/parameter.py:813: UserWarning: Parameter 'resnetv20_stage3_batchnorm54_beta' is already initialized, ignoring. Set force_reinit=True to re-initialize.\n",
      "  v.initialize(None, ctx, init, force_reinit=force_reinit)\u001b[0m\n",
      "\u001b[34m/usr/local/lib/python3.6/site-packages/mxnet/gluon/parameter.py:813: UserWarning: Parameter 'resnetv20_stage3_batchnorm54_running_mean' is already initialized, ignoring. Set force_reinit=True to re-initialize.\n",
      "  v.initialize(None, ctx, init, force_reinit=force_reinit)\u001b[0m\n",
      "\u001b[34m/usr/local/lib/python3.6/site-packages/mxnet/gluon/parameter.py:813: UserWarning: Parameter 'resnetv20_stage3_batchnorm54_running_var' is already initialized, ignoring. Set force_reinit=True to re-initialize.\n",
      "  v.initialize(None, ctx, init, force_reinit=force_reinit)\u001b[0m\n",
      "\u001b[34m/usr/local/lib/python3.6/site-packages/mxnet/gluon/parameter.py:813: UserWarning: Parameter 'resnetv20_stage3_conv55_weight' is already initialized, ignoring. Set force_reinit=True to re-initialize.\n",
      "  v.initialize(None, ctx, init, force_reinit=force_reinit)\u001b[0m\n",
      "\u001b[34m/usr/local/lib/python3.6/site-packages/mxnet/gluon/parameter.py:813: UserWarning: Parameter 'resnetv20_stage3_batchnorm55_gamma' is already initialized, ignoring. Set force_reinit=True to re-initialize.\n",
      "  v.initialize(None, ctx, init, force_reinit=force_reinit)\u001b[0m\n",
      "\u001b[34m/usr/local/lib/python3.6/site-packages/mxnet/gluon/parameter.py:813: UserWarning: Parameter 'resnetv20_stage3_batchnorm55_beta' is already initialized, ignoring. Set force_reinit=True to re-initialize.\n",
      "  v.initialize(None, ctx, init, force_reinit=force_reinit)\u001b[0m\n",
      "\u001b[34m/usr/local/lib/python3.6/site-packages/mxnet/gluon/parameter.py:813: UserWarning: Parameter 'resnetv20_stage3_batchnorm55_running_mean' is already initialized, ignoring. Set force_reinit=True to re-initialize.\n",
      "  v.initialize(None, ctx, init, force_reinit=force_reinit)\u001b[0m\n",
      "\u001b[34m/usr/local/lib/python3.6/site-packages/mxnet/gluon/parameter.py:813: UserWarning: Parameter 'resnetv20_stage3_batchnorm55_running_var' is already initialized, ignoring. Set force_reinit=True to re-initialize.\n",
      "  v.initialize(None, ctx, init, force_reinit=force_reinit)\u001b[0m\n",
      "\u001b[34m/usr/local/lib/python3.6/site-packages/mxnet/gluon/parameter.py:813: UserWarning: Parameter 'resnetv20_stage3_conv56_weight' is already initialized, ignoring. Set force_reinit=True to re-initialize.\n",
      "  v.initialize(None, ctx, init, force_reinit=force_reinit)\u001b[0m\n",
      "\u001b[34m/usr/local/lib/python3.6/site-packages/mxnet/gluon/parameter.py:813: UserWarning: Parameter 'resnetv20_stage3_batchnorm56_gamma' is already initialized, ignoring. Set force_reinit=True to re-initialize.\n",
      "  v.initialize(None, ctx, init, force_reinit=force_reinit)\u001b[0m\n",
      "\u001b[34m/usr/local/lib/python3.6/site-packages/mxnet/gluon/parameter.py:813: UserWarning: Parameter 'resnetv20_stage3_batchnorm56_beta' is already initialized, ignoring. Set force_reinit=True to re-initialize.\n",
      "  v.initialize(None, ctx, init, force_reinit=force_reinit)\u001b[0m\n",
      "\u001b[34m/usr/local/lib/python3.6/site-packages/mxnet/gluon/parameter.py:813: UserWarning: Parameter 'resnetv20_stage3_batchnorm56_running_mean' is already initialized, ignoring. Set force_reinit=True to re-initialize.\n",
      "  v.initialize(None, ctx, init, force_reinit=force_reinit)\u001b[0m\n",
      "\u001b[34m/usr/local/lib/python3.6/site-packages/mxnet/gluon/parameter.py:813: UserWarning: Parameter 'resnetv20_stage3_batchnorm56_running_var' is already initialized, ignoring. Set force_reinit=True to re-initialize.\n",
      "  v.initialize(None, ctx, init, force_reinit=force_reinit)\u001b[0m\n",
      "\u001b[34m/usr/local/lib/python3.6/site-packages/mxnet/gluon/parameter.py:813: UserWarning: Parameter 'resnetv20_stage3_conv57_weight' is already initialized, ignoring. Set force_reinit=True to re-initialize.\n",
      "  v.initialize(None, ctx, init, force_reinit=force_reinit)\u001b[0m\n",
      "\u001b[34m/usr/local/lib/python3.6/site-packages/mxnet/gluon/parameter.py:813: UserWarning: Parameter 'resnetv20_stage3_batchnorm57_gamma' is already initialized, ignoring. Set force_reinit=True to re-initialize.\n",
      "  v.initialize(None, ctx, init, force_reinit=force_reinit)\u001b[0m\n",
      "\u001b[34m/usr/local/lib/python3.6/site-packages/mxnet/gluon/parameter.py:813: UserWarning: Parameter 'resnetv20_stage3_batchnorm57_beta' is already initialized, ignoring. Set force_reinit=True to re-initialize.\n",
      "  v.initialize(None, ctx, init, force_reinit=force_reinit)\u001b[0m\n",
      "\u001b[34m/usr/local/lib/python3.6/site-packages/mxnet/gluon/parameter.py:813: UserWarning: Parameter 'resnetv20_stage3_batchnorm57_running_mean' is already initialized, ignoring. Set force_reinit=True to re-initialize.\n",
      "  v.initialize(None, ctx, init, force_reinit=force_reinit)\u001b[0m\n",
      "\u001b[34m/usr/local/lib/python3.6/site-packages/mxnet/gluon/parameter.py:813: UserWarning: Parameter 'resnetv20_stage3_batchnorm57_running_var' is already initialized, ignoring. Set force_reinit=True to re-initialize.\n",
      "  v.initialize(None, ctx, init, force_reinit=force_reinit)\u001b[0m\n",
      "\u001b[34m/usr/local/lib/python3.6/site-packages/mxnet/gluon/parameter.py:813: UserWarning: Parameter 'resnetv20_stage3_conv58_weight' is already initialized, ignoring. Set force_reinit=True to re-initialize.\n",
      "  v.initialize(None, ctx, init, force_reinit=force_reinit)\u001b[0m\n",
      "\u001b[34m/usr/local/lib/python3.6/site-packages/mxnet/gluon/parameter.py:813: UserWarning: Parameter 'resnetv20_stage3_batchnorm58_gamma' is already initialized, ignoring. Set force_reinit=True to re-initialize.\n",
      "  v.initialize(None, ctx, init, force_reinit=force_reinit)\u001b[0m\n",
      "\u001b[34m/usr/local/lib/python3.6/site-packages/mxnet/gluon/parameter.py:813: UserWarning: Parameter 'resnetv20_stage3_batchnorm58_beta' is already initialized, ignoring. Set force_reinit=True to re-initialize.\n",
      "  v.initialize(None, ctx, init, force_reinit=force_reinit)\u001b[0m\n",
      "\u001b[34m/usr/local/lib/python3.6/site-packages/mxnet/gluon/parameter.py:813: UserWarning: Parameter 'resnetv20_stage3_batchnorm58_running_mean' is already initialized, ignoring. Set force_reinit=True to re-initialize.\n",
      "  v.initialize(None, ctx, init, force_reinit=force_reinit)\u001b[0m\n",
      "\u001b[34m/usr/local/lib/python3.6/site-packages/mxnet/gluon/parameter.py:813: UserWarning: Parameter 'resnetv20_stage3_batchnorm58_running_var' is already initialized, ignoring. Set force_reinit=True to re-initialize.\n",
      "  v.initialize(None, ctx, init, force_reinit=force_reinit)\u001b[0m\n",
      "\u001b[34m/usr/local/lib/python3.6/site-packages/mxnet/gluon/parameter.py:813: UserWarning: Parameter 'resnetv20_stage3_conv59_weight' is already initialized, ignoring. Set force_reinit=True to re-initialize.\n",
      "  v.initialize(None, ctx, init, force_reinit=force_reinit)\u001b[0m\n",
      "\u001b[34m/usr/local/lib/python3.6/site-packages/mxnet/gluon/parameter.py:813: UserWarning: Parameter 'resnetv20_stage3_batchnorm59_gamma' is already initialized, ignoring. Set force_reinit=True to re-initialize.\n",
      "  v.initialize(None, ctx, init, force_reinit=force_reinit)\u001b[0m\n",
      "\u001b[34m/usr/local/lib/python3.6/site-packages/mxnet/gluon/parameter.py:813: UserWarning: Parameter 'resnetv20_stage3_batchnorm59_beta' is already initialized, ignoring. Set force_reinit=True to re-initialize.\n",
      "  v.initialize(None, ctx, init, force_reinit=force_reinit)\u001b[0m\n",
      "\u001b[34m/usr/local/lib/python3.6/site-packages/mxnet/gluon/parameter.py:813: UserWarning: Parameter 'resnetv20_stage3_batchnorm59_running_mean' is already initialized, ignoring. Set force_reinit=True to re-initialize.\n",
      "  v.initialize(None, ctx, init, force_reinit=force_reinit)\u001b[0m\n",
      "\u001b[34m/usr/local/lib/python3.6/site-packages/mxnet/gluon/parameter.py:813: UserWarning: Parameter 'resnetv20_stage3_batchnorm59_running_var' is already initialized, ignoring. Set force_reinit=True to re-initialize.\n",
      "  v.initialize(None, ctx, init, force_reinit=force_reinit)\u001b[0m\n",
      "\u001b[34m/usr/local/lib/python3.6/site-packages/mxnet/gluon/parameter.py:813: UserWarning: Parameter 'resnetv20_stage3_conv60_weight' is already initialized, ignoring. Set force_reinit=True to re-initialize.\n",
      "  v.initialize(None, ctx, init, force_reinit=force_reinit)\u001b[0m\n",
      "\u001b[34m/usr/local/lib/python3.6/site-packages/mxnet/gluon/parameter.py:813: UserWarning: Parameter 'resnetv20_stage3_batchnorm60_gamma' is already initialized, ignoring. Set force_reinit=True to re-initialize.\n",
      "  v.initialize(None, ctx, init, force_reinit=force_reinit)\u001b[0m\n",
      "\u001b[34m/usr/local/lib/python3.6/site-packages/mxnet/gluon/parameter.py:813: UserWarning: Parameter 'resnetv20_stage3_batchnorm60_beta' is already initialized, ignoring. Set force_reinit=True to re-initialize.\n",
      "  v.initialize(None, ctx, init, force_reinit=force_reinit)\u001b[0m\n",
      "\u001b[34m/usr/local/lib/python3.6/site-packages/mxnet/gluon/parameter.py:813: UserWarning: Parameter 'resnetv20_stage3_batchnorm60_running_mean' is already initialized, ignoring. Set force_reinit=True to re-initialize.\n",
      "  v.initialize(None, ctx, init, force_reinit=force_reinit)\u001b[0m\n",
      "\u001b[34m/usr/local/lib/python3.6/site-packages/mxnet/gluon/parameter.py:813: UserWarning: Parameter 'resnetv20_stage3_batchnorm60_running_var' is already initialized, ignoring. Set force_reinit=True to re-initialize.\n",
      "  v.initialize(None, ctx, init, force_reinit=force_reinit)\u001b[0m\n",
      "\u001b[34m/usr/local/lib/python3.6/site-packages/mxnet/gluon/parameter.py:813: UserWarning: Parameter 'resnetv20_stage3_conv61_weight' is already initialized, ignoring. Set force_reinit=True to re-initialize.\n",
      "  v.initialize(None, ctx, init, force_reinit=force_reinit)\u001b[0m\n",
      "\u001b[34m/usr/local/lib/python3.6/site-packages/mxnet/gluon/parameter.py:813: UserWarning: Parameter 'resnetv20_stage3_batchnorm61_gamma' is already initialized, ignoring. Set force_reinit=True to re-initialize.\n",
      "  v.initialize(None, ctx, init, force_reinit=force_reinit)\u001b[0m\n",
      "\u001b[34m/usr/local/lib/python3.6/site-packages/mxnet/gluon/parameter.py:813: UserWarning: Parameter 'resnetv20_stage3_batchnorm61_beta' is already initialized, ignoring. Set force_reinit=True to re-initialize.\n",
      "  v.initialize(None, ctx, init, force_reinit=force_reinit)\u001b[0m\n",
      "\u001b[34m/usr/local/lib/python3.6/site-packages/mxnet/gluon/parameter.py:813: UserWarning: Parameter 'resnetv20_stage3_batchnorm61_running_mean' is already initialized, ignoring. Set force_reinit=True to re-initialize.\n",
      "  v.initialize(None, ctx, init, force_reinit=force_reinit)\u001b[0m\n",
      "\u001b[34m/usr/local/lib/python3.6/site-packages/mxnet/gluon/parameter.py:813: UserWarning: Parameter 'resnetv20_stage3_batchnorm61_running_var' is already initialized, ignoring. Set force_reinit=True to re-initialize.\n",
      "  v.initialize(None, ctx, init, force_reinit=force_reinit)\u001b[0m\n",
      "\u001b[34m/usr/local/lib/python3.6/site-packages/mxnet/gluon/parameter.py:813: UserWarning: Parameter 'resnetv20_stage3_conv62_weight' is already initialized, ignoring. Set force_reinit=True to re-initialize.\n",
      "  v.initialize(None, ctx, init, force_reinit=force_reinit)\u001b[0m\n",
      "\u001b[34m/usr/local/lib/python3.6/site-packages/mxnet/gluon/parameter.py:813: UserWarning: Parameter 'resnetv20_stage3_batchnorm62_gamma' is already initialized, ignoring. Set force_reinit=True to re-initialize.\n",
      "  v.initialize(None, ctx, init, force_reinit=force_reinit)\u001b[0m\n",
      "\u001b[34m/usr/local/lib/python3.6/site-packages/mxnet/gluon/parameter.py:813: UserWarning: Parameter 'resnetv20_stage3_batchnorm62_beta' is already initialized, ignoring. Set force_reinit=True to re-initialize.\n",
      "  v.initialize(None, ctx, init, force_reinit=force_reinit)\u001b[0m\n",
      "\u001b[34m/usr/local/lib/python3.6/site-packages/mxnet/gluon/parameter.py:813: UserWarning: Parameter 'resnetv20_stage3_batchnorm62_running_mean' is already initialized, ignoring. Set force_reinit=True to re-initialize.\n",
      "  v.initialize(None, ctx, init, force_reinit=force_reinit)\u001b[0m\n",
      "\u001b[34m/usr/local/lib/python3.6/site-packages/mxnet/gluon/parameter.py:813: UserWarning: Parameter 'resnetv20_stage3_batchnorm62_running_var' is already initialized, ignoring. Set force_reinit=True to re-initialize.\n",
      "  v.initialize(None, ctx, init, force_reinit=force_reinit)\u001b[0m\n",
      "\u001b[34m/usr/local/lib/python3.6/site-packages/mxnet/gluon/parameter.py:813: UserWarning: Parameter 'resnetv20_stage3_conv63_weight' is already initialized, ignoring. Set force_reinit=True to re-initialize.\n",
      "  v.initialize(None, ctx, init, force_reinit=force_reinit)\u001b[0m\n",
      "\u001b[34m/usr/local/lib/python3.6/site-packages/mxnet/gluon/parameter.py:813: UserWarning: Parameter 'resnetv20_stage3_batchnorm63_gamma' is already initialized, ignoring. Set force_reinit=True to re-initialize.\n",
      "  v.initialize(None, ctx, init, force_reinit=force_reinit)\u001b[0m\n",
      "\u001b[34m/usr/local/lib/python3.6/site-packages/mxnet/gluon/parameter.py:813: UserWarning: Parameter 'resnetv20_stage3_batchnorm63_beta' is already initialized, ignoring. Set force_reinit=True to re-initialize.\n",
      "  v.initialize(None, ctx, init, force_reinit=force_reinit)\u001b[0m\n",
      "\u001b[34m/usr/local/lib/python3.6/site-packages/mxnet/gluon/parameter.py:813: UserWarning: Parameter 'resnetv20_stage3_batchnorm63_running_mean' is already initialized, ignoring. Set force_reinit=True to re-initialize.\n",
      "  v.initialize(None, ctx, init, force_reinit=force_reinit)\u001b[0m\n",
      "\u001b[34m/usr/local/lib/python3.6/site-packages/mxnet/gluon/parameter.py:813: UserWarning: Parameter 'resnetv20_stage3_batchnorm63_running_var' is already initialized, ignoring. Set force_reinit=True to re-initialize.\n",
      "  v.initialize(None, ctx, init, force_reinit=force_reinit)\u001b[0m\n",
      "\u001b[34m/usr/local/lib/python3.6/site-packages/mxnet/gluon/parameter.py:813: UserWarning: Parameter 'resnetv20_stage3_conv64_weight' is already initialized, ignoring. Set force_reinit=True to re-initialize.\n",
      "  v.initialize(None, ctx, init, force_reinit=force_reinit)\u001b[0m\n",
      "\u001b[34m/usr/local/lib/python3.6/site-packages/mxnet/gluon/parameter.py:813: UserWarning: Parameter 'resnetv20_stage3_batchnorm64_gamma' is already initialized, ignoring. Set force_reinit=True to re-initialize.\n",
      "  v.initialize(None, ctx, init, force_reinit=force_reinit)\u001b[0m\n",
      "\u001b[34m/usr/local/lib/python3.6/site-packages/mxnet/gluon/parameter.py:813: UserWarning: Parameter 'resnetv20_stage3_batchnorm64_beta' is already initialized, ignoring. Set force_reinit=True to re-initialize.\n",
      "  v.initialize(None, ctx, init, force_reinit=force_reinit)\u001b[0m\n",
      "\u001b[34m/usr/local/lib/python3.6/site-packages/mxnet/gluon/parameter.py:813: UserWarning: Parameter 'resnetv20_stage3_batchnorm64_running_mean' is already initialized, ignoring. Set force_reinit=True to re-initialize.\n",
      "  v.initialize(None, ctx, init, force_reinit=force_reinit)\u001b[0m\n",
      "\u001b[34m/usr/local/lib/python3.6/site-packages/mxnet/gluon/parameter.py:813: UserWarning: Parameter 'resnetv20_stage3_batchnorm64_running_var' is already initialized, ignoring. Set force_reinit=True to re-initialize.\n",
      "  v.initialize(None, ctx, init, force_reinit=force_reinit)\u001b[0m\n",
      "\u001b[34m/usr/local/lib/python3.6/site-packages/mxnet/gluon/parameter.py:813: UserWarning: Parameter 'resnetv20_stage3_conv65_weight' is already initialized, ignoring. Set force_reinit=True to re-initialize.\n",
      "  v.initialize(None, ctx, init, force_reinit=force_reinit)\u001b[0m\n",
      "\u001b[34m/usr/local/lib/python3.6/site-packages/mxnet/gluon/parameter.py:813: UserWarning: Parameter 'resnetv20_stage3_batchnorm65_gamma' is already initialized, ignoring. Set force_reinit=True to re-initialize.\n",
      "  v.initialize(None, ctx, init, force_reinit=force_reinit)\u001b[0m\n",
      "\u001b[34m/usr/local/lib/python3.6/site-packages/mxnet/gluon/parameter.py:813: UserWarning: Parameter 'resnetv20_stage3_batchnorm65_beta' is already initialized, ignoring. Set force_reinit=True to re-initialize.\n",
      "  v.initialize(None, ctx, init, force_reinit=force_reinit)\u001b[0m\n",
      "\u001b[34m/usr/local/lib/python3.6/site-packages/mxnet/gluon/parameter.py:813: UserWarning: Parameter 'resnetv20_stage3_batchnorm65_running_mean' is already initialized, ignoring. Set force_reinit=True to re-initialize.\n",
      "  v.initialize(None, ctx, init, force_reinit=force_reinit)\u001b[0m\n",
      "\u001b[34m/usr/local/lib/python3.6/site-packages/mxnet/gluon/parameter.py:813: UserWarning: Parameter 'resnetv20_stage3_batchnorm65_running_var' is already initialized, ignoring. Set force_reinit=True to re-initialize.\n",
      "  v.initialize(None, ctx, init, force_reinit=force_reinit)\u001b[0m\n",
      "\u001b[34m/usr/local/lib/python3.6/site-packages/mxnet/gluon/parameter.py:813: UserWarning: Parameter 'resnetv20_stage3_conv66_weight' is already initialized, ignoring. Set force_reinit=True to re-initialize.\n",
      "  v.initialize(None, ctx, init, force_reinit=force_reinit)\u001b[0m\n",
      "\u001b[34m/usr/local/lib/python3.6/site-packages/mxnet/gluon/parameter.py:813: UserWarning: Parameter 'resnetv20_stage3_batchnorm66_gamma' is already initialized, ignoring. Set force_reinit=True to re-initialize.\n",
      "  v.initialize(None, ctx, init, force_reinit=force_reinit)\u001b[0m\n",
      "\u001b[34m/usr/local/lib/python3.6/site-packages/mxnet/gluon/parameter.py:813: UserWarning: Parameter 'resnetv20_stage3_batchnorm66_beta' is already initialized, ignoring. Set force_reinit=True to re-initialize.\n",
      "  v.initialize(None, ctx, init, force_reinit=force_reinit)\u001b[0m\n",
      "\u001b[34m/usr/local/lib/python3.6/site-packages/mxnet/gluon/parameter.py:813: UserWarning: Parameter 'resnetv20_stage3_batchnorm66_running_mean' is already initialized, ignoring. Set force_reinit=True to re-initialize.\n",
      "  v.initialize(None, ctx, init, force_reinit=force_reinit)\u001b[0m\n",
      "\u001b[34m/usr/local/lib/python3.6/site-packages/mxnet/gluon/parameter.py:813: UserWarning: Parameter 'resnetv20_stage3_batchnorm66_running_var' is already initialized, ignoring. Set force_reinit=True to re-initialize.\n",
      "  v.initialize(None, ctx, init, force_reinit=force_reinit)\u001b[0m\n",
      "\u001b[34m/usr/local/lib/python3.6/site-packages/mxnet/gluon/parameter.py:813: UserWarning: Parameter 'resnetv20_stage3_conv67_weight' is already initialized, ignoring. Set force_reinit=True to re-initialize.\n",
      "  v.initialize(None, ctx, init, force_reinit=force_reinit)\u001b[0m\n",
      "\u001b[34m/usr/local/lib/python3.6/site-packages/mxnet/gluon/parameter.py:813: UserWarning: Parameter 'resnetv20_stage3_batchnorm67_gamma' is already initialized, ignoring. Set force_reinit=True to re-initialize.\n",
      "  v.initialize(None, ctx, init, force_reinit=force_reinit)\u001b[0m\n",
      "\u001b[34m/usr/local/lib/python3.6/site-packages/mxnet/gluon/parameter.py:813: UserWarning: Parameter 'resnetv20_stage3_batchnorm67_beta' is already initialized, ignoring. Set force_reinit=True to re-initialize.\n",
      "  v.initialize(None, ctx, init, force_reinit=force_reinit)\u001b[0m\n",
      "\u001b[34m/usr/local/lib/python3.6/site-packages/mxnet/gluon/parameter.py:813: UserWarning: Parameter 'resnetv20_stage3_batchnorm67_running_mean' is already initialized, ignoring. Set force_reinit=True to re-initialize.\n",
      "  v.initialize(None, ctx, init, force_reinit=force_reinit)\u001b[0m\n",
      "\u001b[34m/usr/local/lib/python3.6/site-packages/mxnet/gluon/parameter.py:813: UserWarning: Parameter 'resnetv20_stage3_batchnorm67_running_var' is already initialized, ignoring. Set force_reinit=True to re-initialize.\n",
      "  v.initialize(None, ctx, init, force_reinit=force_reinit)\u001b[0m\n",
      "\u001b[34m/usr/local/lib/python3.6/site-packages/mxnet/gluon/parameter.py:813: UserWarning: Parameter 'resnetv20_stage3_conv68_weight' is already initialized, ignoring. Set force_reinit=True to re-initialize.\n",
      "  v.initialize(None, ctx, init, force_reinit=force_reinit)\u001b[0m\n",
      "\u001b[34m/usr/local/lib/python3.6/site-packages/mxnet/gluon/parameter.py:813: UserWarning: Parameter 'resnetv20_stage3_batchnorm68_gamma' is already initialized, ignoring. Set force_reinit=True to re-initialize.\n",
      "  v.initialize(None, ctx, init, force_reinit=force_reinit)\u001b[0m\n",
      "\u001b[34m/usr/local/lib/python3.6/site-packages/mxnet/gluon/parameter.py:813: UserWarning: Parameter 'resnetv20_stage3_batchnorm68_beta' is already initialized, ignoring. Set force_reinit=True to re-initialize.\n",
      "  v.initialize(None, ctx, init, force_reinit=force_reinit)\u001b[0m\n",
      "\u001b[34m/usr/local/lib/python3.6/site-packages/mxnet/gluon/parameter.py:813: UserWarning: Parameter 'resnetv20_stage3_batchnorm68_running_mean' is already initialized, ignoring. Set force_reinit=True to re-initialize.\n",
      "  v.initialize(None, ctx, init, force_reinit=force_reinit)\u001b[0m\n",
      "\u001b[34m/usr/local/lib/python3.6/site-packages/mxnet/gluon/parameter.py:813: UserWarning: Parameter 'resnetv20_stage3_batchnorm68_running_var' is already initialized, ignoring. Set force_reinit=True to re-initialize.\n",
      "  v.initialize(None, ctx, init, force_reinit=force_reinit)\u001b[0m\n",
      "\u001b[34m/usr/local/lib/python3.6/site-packages/mxnet/gluon/parameter.py:813: UserWarning: Parameter 'resnetv20_stage3_conv69_weight' is already initialized, ignoring. Set force_reinit=True to re-initialize.\n",
      "  v.initialize(None, ctx, init, force_reinit=force_reinit)\u001b[0m\n",
      "\u001b[34m/usr/local/lib/python3.6/site-packages/mxnet/gluon/parameter.py:813: UserWarning: Parameter 'resnetv20_stage4_batchnorm0_gamma' is already initialized, ignoring. Set force_reinit=True to re-initialize.\n",
      "  v.initialize(None, ctx, init, force_reinit=force_reinit)\u001b[0m\n",
      "\u001b[34m/usr/local/lib/python3.6/site-packages/mxnet/gluon/parameter.py:813: UserWarning: Parameter 'resnetv20_stage4_batchnorm0_beta' is already initialized, ignoring. Set force_reinit=True to re-initialize.\n",
      "  v.initialize(None, ctx, init, force_reinit=force_reinit)\u001b[0m\n",
      "\u001b[34m/usr/local/lib/python3.6/site-packages/mxnet/gluon/parameter.py:813: UserWarning: Parameter 'resnetv20_stage4_batchnorm0_running_mean' is already initialized, ignoring. Set force_reinit=True to re-initialize.\n",
      "  v.initialize(None, ctx, init, force_reinit=force_reinit)\u001b[0m\n",
      "\u001b[34m/usr/local/lib/python3.6/site-packages/mxnet/gluon/parameter.py:813: UserWarning: Parameter 'resnetv20_stage4_batchnorm0_running_var' is already initialized, ignoring. Set force_reinit=True to re-initialize.\n",
      "  v.initialize(None, ctx, init, force_reinit=force_reinit)\u001b[0m\n",
      "\u001b[34m/usr/local/lib/python3.6/site-packages/mxnet/gluon/parameter.py:813: UserWarning: Parameter 'resnetv20_stage4_conv0_weight' is already initialized, ignoring. Set force_reinit=True to re-initialize.\n",
      "  v.initialize(None, ctx, init, force_reinit=force_reinit)\u001b[0m\n",
      "\u001b[34m/usr/local/lib/python3.6/site-packages/mxnet/gluon/parameter.py:813: UserWarning: Parameter 'resnetv20_stage4_batchnorm1_gamma' is already initialized, ignoring. Set force_reinit=True to re-initialize.\n",
      "  v.initialize(None, ctx, init, force_reinit=force_reinit)\u001b[0m\n",
      "\u001b[34m/usr/local/lib/python3.6/site-packages/mxnet/gluon/parameter.py:813: UserWarning: Parameter 'resnetv20_stage4_batchnorm1_beta' is already initialized, ignoring. Set force_reinit=True to re-initialize.\n",
      "  v.initialize(None, ctx, init, force_reinit=force_reinit)\u001b[0m\n",
      "\u001b[34m/usr/local/lib/python3.6/site-packages/mxnet/gluon/parameter.py:813: UserWarning: Parameter 'resnetv20_stage4_batchnorm1_running_mean' is already initialized, ignoring. Set force_reinit=True to re-initialize.\n",
      "  v.initialize(None, ctx, init, force_reinit=force_reinit)\u001b[0m\n",
      "\u001b[34m/usr/local/lib/python3.6/site-packages/mxnet/gluon/parameter.py:813: UserWarning: Parameter 'resnetv20_stage4_batchnorm1_running_var' is already initialized, ignoring. Set force_reinit=True to re-initialize.\n",
      "  v.initialize(None, ctx, init, force_reinit=force_reinit)\u001b[0m\n",
      "\u001b[34m/usr/local/lib/python3.6/site-packages/mxnet/gluon/parameter.py:813: UserWarning: Parameter 'resnetv20_stage4_conv1_weight' is already initialized, ignoring. Set force_reinit=True to re-initialize.\n",
      "  v.initialize(None, ctx, init, force_reinit=force_reinit)\u001b[0m\n",
      "\u001b[34m/usr/local/lib/python3.6/site-packages/mxnet/gluon/parameter.py:813: UserWarning: Parameter 'resnetv20_stage4_batchnorm2_gamma' is already initialized, ignoring. Set force_reinit=True to re-initialize.\n",
      "  v.initialize(None, ctx, init, force_reinit=force_reinit)\u001b[0m\n",
      "\u001b[34m/usr/local/lib/python3.6/site-packages/mxnet/gluon/parameter.py:813: UserWarning: Parameter 'resnetv20_stage4_batchnorm2_beta' is already initialized, ignoring. Set force_reinit=True to re-initialize.\n",
      "  v.initialize(None, ctx, init, force_reinit=force_reinit)\u001b[0m\n",
      "\u001b[34m/usr/local/lib/python3.6/site-packages/mxnet/gluon/parameter.py:813: UserWarning: Parameter 'resnetv20_stage4_batchnorm2_running_mean' is already initialized, ignoring. Set force_reinit=True to re-initialize.\n",
      "  v.initialize(None, ctx, init, force_reinit=force_reinit)\u001b[0m\n",
      "\u001b[34m/usr/local/lib/python3.6/site-packages/mxnet/gluon/parameter.py:813: UserWarning: Parameter 'resnetv20_stage4_batchnorm2_running_var' is already initialized, ignoring. Set force_reinit=True to re-initialize.\n",
      "  v.initialize(None, ctx, init, force_reinit=force_reinit)\u001b[0m\n",
      "\u001b[34m/usr/local/lib/python3.6/site-packages/mxnet/gluon/parameter.py:813: UserWarning: Parameter 'resnetv20_stage4_conv2_weight' is already initialized, ignoring. Set force_reinit=True to re-initialize.\n",
      "  v.initialize(None, ctx, init, force_reinit=force_reinit)\u001b[0m\n",
      "\u001b[34m/usr/local/lib/python3.6/site-packages/mxnet/gluon/parameter.py:813: UserWarning: Parameter 'resnetv20_stage4_conv3_weight' is already initialized, ignoring. Set force_reinit=True to re-initialize.\n",
      "  v.initialize(None, ctx, init, force_reinit=force_reinit)\u001b[0m\n",
      "\u001b[34m/usr/local/lib/python3.6/site-packages/mxnet/gluon/parameter.py:813: UserWarning: Parameter 'resnetv20_stage4_batchnorm3_gamma' is already initialized, ignoring. Set force_reinit=True to re-initialize.\n",
      "  v.initialize(None, ctx, init, force_reinit=force_reinit)\u001b[0m\n",
      "\u001b[34m/usr/local/lib/python3.6/site-packages/mxnet/gluon/parameter.py:813: UserWarning: Parameter 'resnetv20_stage4_batchnorm3_beta' is already initialized, ignoring. Set force_reinit=True to re-initialize.\n",
      "  v.initialize(None, ctx, init, force_reinit=force_reinit)\u001b[0m\n",
      "\u001b[34m/usr/local/lib/python3.6/site-packages/mxnet/gluon/parameter.py:813: UserWarning: Parameter 'resnetv20_stage4_batchnorm3_running_mean' is already initialized, ignoring. Set force_reinit=True to re-initialize.\n",
      "  v.initialize(None, ctx, init, force_reinit=force_reinit)\u001b[0m\n",
      "\u001b[34m/usr/local/lib/python3.6/site-packages/mxnet/gluon/parameter.py:813: UserWarning: Parameter 'resnetv20_stage4_batchnorm3_running_var' is already initialized, ignoring. Set force_reinit=True to re-initialize.\n",
      "  v.initialize(None, ctx, init, force_reinit=force_reinit)\u001b[0m\n",
      "\u001b[34m/usr/local/lib/python3.6/site-packages/mxnet/gluon/parameter.py:813: UserWarning: Parameter 'resnetv20_stage4_conv4_weight' is already initialized, ignoring. Set force_reinit=True to re-initialize.\n",
      "  v.initialize(None, ctx, init, force_reinit=force_reinit)\u001b[0m\n",
      "\u001b[34m/usr/local/lib/python3.6/site-packages/mxnet/gluon/parameter.py:813: UserWarning: Parameter 'resnetv20_stage4_batchnorm4_gamma' is already initialized, ignoring. Set force_reinit=True to re-initialize.\n",
      "  v.initialize(None, ctx, init, force_reinit=force_reinit)\u001b[0m\n",
      "\u001b[34m/usr/local/lib/python3.6/site-packages/mxnet/gluon/parameter.py:813: UserWarning: Parameter 'resnetv20_stage4_batchnorm4_beta' is already initialized, ignoring. Set force_reinit=True to re-initialize.\n",
      "  v.initialize(None, ctx, init, force_reinit=force_reinit)\u001b[0m\n",
      "\u001b[34m/usr/local/lib/python3.6/site-packages/mxnet/gluon/parameter.py:813: UserWarning: Parameter 'resnetv20_stage4_batchnorm4_running_mean' is already initialized, ignoring. Set force_reinit=True to re-initialize.\n",
      "  v.initialize(None, ctx, init, force_reinit=force_reinit)\u001b[0m\n",
      "\u001b[34m/usr/local/lib/python3.6/site-packages/mxnet/gluon/parameter.py:813: UserWarning: Parameter 'resnetv20_stage4_batchnorm4_running_var' is already initialized, ignoring. Set force_reinit=True to re-initialize.\n",
      "  v.initialize(None, ctx, init, force_reinit=force_reinit)\u001b[0m\n",
      "\u001b[34m/usr/local/lib/python3.6/site-packages/mxnet/gluon/parameter.py:813: UserWarning: Parameter 'resnetv20_stage4_conv5_weight' is already initialized, ignoring. Set force_reinit=True to re-initialize.\n",
      "  v.initialize(None, ctx, init, force_reinit=force_reinit)\u001b[0m\n",
      "\u001b[34m/usr/local/lib/python3.6/site-packages/mxnet/gluon/parameter.py:813: UserWarning: Parameter 'resnetv20_stage4_batchnorm5_gamma' is already initialized, ignoring. Set force_reinit=True to re-initialize.\n",
      "  v.initialize(None, ctx, init, force_reinit=force_reinit)\u001b[0m\n",
      "\u001b[34m/usr/local/lib/python3.6/site-packages/mxnet/gluon/parameter.py:813: UserWarning: Parameter 'resnetv20_stage4_batchnorm5_beta' is already initialized, ignoring. Set force_reinit=True to re-initialize.\n",
      "  v.initialize(None, ctx, init, force_reinit=force_reinit)\u001b[0m\n",
      "\u001b[34m/usr/local/lib/python3.6/site-packages/mxnet/gluon/parameter.py:813: UserWarning: Parameter 'resnetv20_stage4_batchnorm5_running_mean' is already initialized, ignoring. Set force_reinit=True to re-initialize.\n",
      "  v.initialize(None, ctx, init, force_reinit=force_reinit)\u001b[0m\n",
      "\u001b[34m/usr/local/lib/python3.6/site-packages/mxnet/gluon/parameter.py:813: UserWarning: Parameter 'resnetv20_stage4_batchnorm5_running_var' is already initialized, ignoring. Set force_reinit=True to re-initialize.\n",
      "  v.initialize(None, ctx, init, force_reinit=force_reinit)\u001b[0m\n",
      "\u001b[34m/usr/local/lib/python3.6/site-packages/mxnet/gluon/parameter.py:813: UserWarning: Parameter 'resnetv20_stage4_conv6_weight' is already initialized, ignoring. Set force_reinit=True to re-initialize.\n",
      "  v.initialize(None, ctx, init, force_reinit=force_reinit)\u001b[0m\n",
      "\u001b[34m/usr/local/lib/python3.6/site-packages/mxnet/gluon/parameter.py:813: UserWarning: Parameter 'resnetv20_stage4_batchnorm6_gamma' is already initialized, ignoring. Set force_reinit=True to re-initialize.\n",
      "  v.initialize(None, ctx, init, force_reinit=force_reinit)\u001b[0m\n",
      "\u001b[34m/usr/local/lib/python3.6/site-packages/mxnet/gluon/parameter.py:813: UserWarning: Parameter 'resnetv20_stage4_batchnorm6_beta' is already initialized, ignoring. Set force_reinit=True to re-initialize.\n",
      "  v.initialize(None, ctx, init, force_reinit=force_reinit)\u001b[0m\n",
      "\u001b[34m/usr/local/lib/python3.6/site-packages/mxnet/gluon/parameter.py:813: UserWarning: Parameter 'resnetv20_stage4_batchnorm6_running_mean' is already initialized, ignoring. Set force_reinit=True to re-initialize.\n",
      "  v.initialize(None, ctx, init, force_reinit=force_reinit)\u001b[0m\n",
      "\u001b[34m/usr/local/lib/python3.6/site-packages/mxnet/gluon/parameter.py:813: UserWarning: Parameter 'resnetv20_stage4_batchnorm6_running_var' is already initialized, ignoring. Set force_reinit=True to re-initialize.\n",
      "  v.initialize(None, ctx, init, force_reinit=force_reinit)\u001b[0m\n",
      "\u001b[34m/usr/local/lib/python3.6/site-packages/mxnet/gluon/parameter.py:813: UserWarning: Parameter 'resnetv20_stage4_conv7_weight' is already initialized, ignoring. Set force_reinit=True to re-initialize.\n",
      "  v.initialize(None, ctx, init, force_reinit=force_reinit)\u001b[0m\n",
      "\u001b[34m/usr/local/lib/python3.6/site-packages/mxnet/gluon/parameter.py:813: UserWarning: Parameter 'resnetv20_stage4_batchnorm7_gamma' is already initialized, ignoring. Set force_reinit=True to re-initialize.\n",
      "  v.initialize(None, ctx, init, force_reinit=force_reinit)\u001b[0m\n",
      "\u001b[34m/usr/local/lib/python3.6/site-packages/mxnet/gluon/parameter.py:813: UserWarning: Parameter 'resnetv20_stage4_batchnorm7_beta' is already initialized, ignoring. Set force_reinit=True to re-initialize.\n",
      "  v.initialize(None, ctx, init, force_reinit=force_reinit)\u001b[0m\n",
      "\u001b[34m/usr/local/lib/python3.6/site-packages/mxnet/gluon/parameter.py:813: UserWarning: Parameter 'resnetv20_stage4_batchnorm7_running_mean' is already initialized, ignoring. Set force_reinit=True to re-initialize.\n",
      "  v.initialize(None, ctx, init, force_reinit=force_reinit)\u001b[0m\n",
      "\u001b[34m/usr/local/lib/python3.6/site-packages/mxnet/gluon/parameter.py:813: UserWarning: Parameter 'resnetv20_stage4_batchnorm7_running_var' is already initialized, ignoring. Set force_reinit=True to re-initialize.\n",
      "  v.initialize(None, ctx, init, force_reinit=force_reinit)\u001b[0m\n",
      "\u001b[34m/usr/local/lib/python3.6/site-packages/mxnet/gluon/parameter.py:813: UserWarning: Parameter 'resnetv20_stage4_conv8_weight' is already initialized, ignoring. Set force_reinit=True to re-initialize.\n",
      "  v.initialize(None, ctx, init, force_reinit=force_reinit)\u001b[0m\n",
      "\u001b[34m/usr/local/lib/python3.6/site-packages/mxnet/gluon/parameter.py:813: UserWarning: Parameter 'resnetv20_stage4_batchnorm8_gamma' is already initialized, ignoring. Set force_reinit=True to re-initialize.\n",
      "  v.initialize(None, ctx, init, force_reinit=force_reinit)\u001b[0m\n",
      "\u001b[34m/usr/local/lib/python3.6/site-packages/mxnet/gluon/parameter.py:813: UserWarning: Parameter 'resnetv20_stage4_batchnorm8_beta' is already initialized, ignoring. Set force_reinit=True to re-initialize.\n",
      "  v.initialize(None, ctx, init, force_reinit=force_reinit)\u001b[0m\n",
      "\u001b[34m/usr/local/lib/python3.6/site-packages/mxnet/gluon/parameter.py:813: UserWarning: Parameter 'resnetv20_stage4_batchnorm8_running_mean' is already initialized, ignoring. Set force_reinit=True to re-initialize.\n",
      "  v.initialize(None, ctx, init, force_reinit=force_reinit)\u001b[0m\n",
      "\u001b[34m/usr/local/lib/python3.6/site-packages/mxnet/gluon/parameter.py:813: UserWarning: Parameter 'resnetv20_stage4_batchnorm8_running_var' is already initialized, ignoring. Set force_reinit=True to re-initialize.\n",
      "  v.initialize(None, ctx, init, force_reinit=force_reinit)\u001b[0m\n",
      "\u001b[34m/usr/local/lib/python3.6/site-packages/mxnet/gluon/parameter.py:813: UserWarning: Parameter 'resnetv20_stage4_conv9_weight' is already initialized, ignoring. Set force_reinit=True to re-initialize.\n",
      "  v.initialize(None, ctx, init, force_reinit=force_reinit)\u001b[0m\n",
      "\u001b[34m/usr/local/lib/python3.6/site-packages/mxnet/gluon/parameter.py:813: UserWarning: Parameter 'resnetv20_batchnorm2_gamma' is already initialized, ignoring. Set force_reinit=True to re-initialize.\n",
      "  v.initialize(None, ctx, init, force_reinit=force_reinit)\u001b[0m\n",
      "\u001b[34m/usr/local/lib/python3.6/site-packages/mxnet/gluon/parameter.py:813: UserWarning: Parameter 'resnetv20_batchnorm2_beta' is already initialized, ignoring. Set force_reinit=True to re-initialize.\n",
      "  v.initialize(None, ctx, init, force_reinit=force_reinit)\u001b[0m\n",
      "\u001b[34m/usr/local/lib/python3.6/site-packages/mxnet/gluon/parameter.py:813: UserWarning: Parameter 'resnetv20_batchnorm2_running_mean' is already initialized, ignoring. Set force_reinit=True to re-initialize.\n",
      "  v.initialize(None, ctx, init, force_reinit=force_reinit)\u001b[0m\n",
      "\u001b[34m/usr/local/lib/python3.6/site-packages/mxnet/gluon/parameter.py:813: UserWarning: Parameter 'resnetv20_batchnorm2_running_var' is already initialized, ignoring. Set force_reinit=True to re-initialize.\n",
      "  v.initialize(None, ctx, init, force_reinit=force_reinit)\u001b[0m\n",
      "\u001b[34mInitialized Model\u001b[0m\n",
      "\u001b[34m[02:37:42] src/operator/nn/./cudnn/./cudnn_algoreg-inl.h:97: Running performance tests to find the best convolution algorithm, this can take a while... (setting env variable MXNET_CUDNN_AUTOTUNE_DEFAULT to 0 to disable)\u001b[0m\n",
      "\u001b[34mdone training section\u001b[0m\n",
      "\u001b[34m[02:37:56] src/operator/nn/./cudnn/./cudnn_algoreg-inl.h:97: Running performance tests to find the best convolution algorithm, this can take a while... (setting env variable MXNET_CUDNN_AUTOTUNE_DEFAULT to 0 to disable)\u001b[0m\n",
      "\u001b[34mEpoch 0, training loss: 0.57, validation loss: 1.09, train accuracy: 0.79, validation accuracy: 0.70\u001b[0m\n",
      "\u001b[34m['1.0853-model-symbol.json', '1.0853-model-0000.params']\u001b[0m\n",
      "\u001b[34m['model-0000.params', 'model-symbol.json']\u001b[0m\n",
      "\u001b[34mdone training section\u001b[0m\n",
      "\u001b[34mEpoch 1, training loss: 0.60, validation loss: 0.31, train accuracy: 0.77, validation accuracy: 0.90\u001b[0m\n",
      "\u001b[34m['0.3134-model-symbol.json', 'model-0000.params', '1.0853-hotdog-0.states', 'model-symbol.json', '0.3134-model-0001.params']\u001b[0m\n",
      "\u001b[34m['model-0001.params', 'model-symbol.json']\u001b[0m\n",
      "\u001b[34mdone training section\u001b[0m\n",
      "\u001b[34mEpoch 2, training loss: 0.22, validation loss: 0.36, train accuracy: 0.91, validation accuracy: 0.86\u001b[0m\n",
      "\u001b[34mdone training section\u001b[0m\n",
      "\u001b[34mEpoch 3, training loss: 0.12, validation loss: 0.66, train accuracy: 0.96, validation accuracy: 0.86\u001b[0m\n",
      "\u001b[34mdone training section\u001b[0m\n",
      "\u001b[34mEpoch 4, training loss: 0.15, validation loss: 0.27, train accuracy: 0.94, validation accuracy: 0.89\u001b[0m\n",
      "\u001b[34m['0.2673-model-0004.params', 'model-0001.params', 'model-0000.params', '0.3134-hotdog-1.states', '1.0853-hotdog-0.states', 'model-symbol.json', '0.2673-model-symbol.json']\u001b[0m\n",
      "\u001b[34m['model-symbol.json', 'model-0004.params']\u001b[0m\n",
      "\u001b[34mdone training section\u001b[0m\n",
      "\u001b[34mEpoch 5, training loss: 0.08, validation loss: 0.24, train accuracy: 0.97, validation accuracy: 0.92\u001b[0m\n",
      "\u001b[34m['0.2384-model-symbol.json', 'model-0004.params', '0.2673-hotdog-4.states', '0.2384-model-0005.params', 'model-0001.params', 'model-0000.params', '0.3134-hotdog-1.states', '1.0853-hotdog-0.states', 'model-symbol.json']\u001b[0m\n",
      "\u001b[34m['model-0005.params', 'model-symbol.json']\u001b[0m\n",
      "\u001b[34m2019-12-12 02:38:55,345 sagemaker-containers INFO     Reporting training SUCCESS\u001b[0m\n",
      "\n",
      "2019-12-12 02:39:26 Uploading - Uploading generated training model\n",
      "2019-12-12 02:39:26 Completed - Training job completed\n",
      "Training seconds: 166\n",
      "Billable seconds: 166\n"
     ]
    }
   ],
   "source": [
    "m.fit(\"s3://sagemaker-us-east-1-178197730631/data/DEMO-hotdog_not_hotdog\")"
   ]
  },
  {
   "cell_type": "markdown",
   "metadata": {},
   "source": [
    "# Optimize the Models through Sagemaker Neo\n",
    "\n",
    "* Sagemaker NEO compiles the models to optimize them for specific ml instance types in Sagemaker\n",
    "* Here we create both a GPU optimized model and a CPU optimized model"
   ]
  },
  {
   "cell_type": "code",
   "execution_count": 13,
   "metadata": {},
   "outputs": [],
   "source": [
    "output_path = '/'.join(m.output_path.split('/')[:-1]) "
   ]
  },
  {
   "cell_type": "code",
   "execution_count": 14,
   "metadata": {},
   "outputs": [
    {
     "name": "stdout",
     "output_type": "stream",
     "text": [
      "??........!"
     ]
    }
   ],
   "source": [
    "compiled_model_gpu = m.compile_model(target_instance_family='ml_p2', input_shape={'data':[1,3,512,512]}, output_path=output_path)"
   ]
  },
  {
   "cell_type": "code",
   "execution_count": 53,
   "metadata": {},
   "outputs": [
    {
     "name": "stdout",
     "output_type": "stream",
     "text": [
      "?........!"
     ]
    }
   ],
   "source": [
    "compiled_model_p3 = m.compile_model(target_instance_family='ml_p3', input_shape={'data':[1,3,512,512]}, output_path=output_path)"
   ]
  },
  {
   "cell_type": "code",
   "execution_count": 15,
   "metadata": {},
   "outputs": [
    {
     "name": "stdout",
     "output_type": "stream",
     "text": [
      "?...............................................!"
     ]
    }
   ],
   "source": [
    "compiled_model_cpu = m.compile_model(target_instance_family='ml_c5', input_shape={'data':[1,3,512,512]}, output_path=output_path)"
   ]
  },
  {
   "cell_type": "markdown",
   "metadata": {},
   "source": [
    "# Model Deployment\n",
    "\n",
    "* We deploy the models with Sagemaker's one click deployment with a few modifications to the input and output serialization "
   ]
  },
  {
   "cell_type": "markdown",
   "metadata": {},
   "source": [
    "# Prepare Different Model Deployments\n",
    "\n",
    "* Different Sagemaker Models need to be created to deploy on different container configurations"
   ]
  },
  {
   "cell_type": "code",
   "execution_count": 16,
   "metadata": {},
   "outputs": [],
   "source": [
    "from sagemaker.mxnet import MXNetModel"
   ]
  },
  {
   "cell_type": "code",
   "execution_count": 17,
   "metadata": {},
   "outputs": [],
   "source": [
    "model_output_location = f\"{m.output_path}{m.latest_training_job.job_name}/output/model.tar.gz\""
   ]
  },
  {
   "cell_type": "code",
   "execution_count": 18,
   "metadata": {},
   "outputs": [],
   "source": [
    "model_cpu = MXNetModel(model_data=model_output_location, entry_point='../hotdog-not-hotdog-mxnet.py', role=role,\n",
    "                      py_version='py3', framework_version='1.4.1')"
   ]
  },
  {
   "cell_type": "code",
   "execution_count": 19,
   "metadata": {},
   "outputs": [],
   "source": [
    "model_p2 = MXNetModel(model_data=model_output_location, entry_point='../hotdog-not-hotdog-mxnet.py', role=role,\n",
    "                      py_version='py3', framework_version='1.4.1')"
   ]
  },
  {
   "cell_type": "code",
   "execution_count": 66,
   "metadata": {},
   "outputs": [],
   "source": [
    "model_p3 = MXNetModel(model_data=model_output_location, entry_point='../hotdog-not-hotdog-mxnet.py', role=role,\n",
    "                      py_version='py3', framework_version='1.4.1')"
   ]
  },
  {
   "cell_type": "code",
   "execution_count": 20,
   "metadata": {},
   "outputs": [],
   "source": [
    "model_g4 = MXNetModel(model_data=model_output_location, entry_point='../hotdog-not-hotdog-mxnet.py', role=role,\n",
    "                      py_version='py3', framework_version='1.4.1')"
   ]
  },
  {
   "cell_type": "code",
   "execution_count": 21,
   "metadata": {},
   "outputs": [],
   "source": [
    "model_eia = MXNetModel(model_data=model_output_location, entry_point='../hotdog-not-hotdog-mxnet.py', role=role,\n",
    "                      py_version='py3', framework_version='1.4.1')"
   ]
  },
  {
   "cell_type": "markdown",
   "metadata": {},
   "source": [
    "# Model Inference Code\n",
    "\n",
    "* Our files need to be normalized to ImageNet values for mean and standard deviations and cropped to be 224x224\n",
    "* We define this code and a selection of images for use with our models\n",
    "* Requires opencv package\n",
    "* If this is not installed run the following code in a notebook cell\n",
    "\n",
    "`import sys\n",
    "!{sys.executable} -m pip install opencv-python`"
   ]
  },
  {
   "cell_type": "code",
   "execution_count": 22,
   "metadata": {},
   "outputs": [],
   "source": [
    "filenames = glob('../hotdog_not_hotdog/test/*/*')"
   ]
  },
  {
   "cell_type": "code",
   "execution_count": 62,
   "metadata": {},
   "outputs": [],
   "source": [
    "random_selection = [filenames[random.randint(0,499)] for x in range(0,50)]"
   ]
  },
  {
   "cell_type": "code",
   "execution_count": 24,
   "metadata": {},
   "outputs": [],
   "source": [
    "import io\n",
    "import cv2 \n",
    "\n",
    "def predict_hotdog(endpoint, filenames):\n",
    "    '''\n",
    "    Function to preprocess and predict a list of images\n",
    "    endpoint, str, Sagemaker endpoint\n",
    "    filenames, list, list of images (local file locations)\n",
    "    '''\n",
    "    resps = []\n",
    "    for img in filenames:\n",
    "        img_np = cv2.imread(img)\n",
    "        img_np = cv2.resize(img_np,(512,512))\n",
    "        img_np = img_np.transpose(2, 0, 1)\n",
    "        output_img = np.expand_dims(img_np, axis=0)\n",
    "        resp = endpoint.predict(output_img)\n",
    "        resps.append(resp)\n",
    "    return resps\n",
    "\n",
    "def numpy_bytes_serializer(data):\n",
    "    '''\n",
    "    function to serialize data for sagemaker neo endpoints\n",
    "    '''\n",
    "    f = io.BytesIO()\n",
    "    np.save(f, data)\n",
    "    f.seek(0)\n",
    "    return f.read()"
   ]
  },
  {
   "cell_type": "markdown",
   "metadata": {},
   "source": [
    "# Evaluating Inference on A Variety of Sagemaker Deployments\n",
    "\n",
    "* We showcase how regular EI, Neo, and different ML ec2 types can impact endpoint latency"
   ]
  },
  {
   "cell_type": "markdown",
   "metadata": {},
   "source": [
    "## P2 Instances\n",
    "\n",
    "P2 instances are intended for general-purpose GPU compute applications."
   ]
  },
  {
   "cell_type": "code",
   "execution_count": 25,
   "metadata": {},
   "outputs": [
    {
     "name": "stdout",
     "output_type": "stream",
     "text": [
      "---------------------------------------------------------------------------------------------------------------------------!"
     ]
    }
   ],
   "source": [
    "predictor_p2 = model_p2.deploy(initial_instance_count=1,\n",
    "                        instance_type='ml.p2.xlarge')"
   ]
  },
  {
   "cell_type": "code",
   "execution_count": 26,
   "metadata": {},
   "outputs": [
    {
     "data": {
      "text/plain": [
       "[{'predicted_class': 'not_hot_dog', 'confidence': '0.8860937'}]"
      ]
     },
     "execution_count": 26,
     "metadata": {},
     "output_type": "execute_result"
    }
   ],
   "source": [
    "# load model onto instance\n",
    "predict_hotdog(predictor_p2, random_selection[:1])"
   ]
  },
  {
   "cell_type": "code",
   "execution_count": 27,
   "metadata": {},
   "outputs": [
    {
     "name": "stdout",
     "output_type": "stream",
     "text": [
      "20.1 s ± 305 ms per loop (mean ± std. dev. of 7 runs, 1 loop each)\n",
      "Total Time 2.345171244939168\n"
     ]
    }
   ],
   "source": [
    "import time\n",
    "\n",
    "t1 = time.time()\n",
    "%timeit -n 1 predict_hotdog(predictor_p2, random_selection)\n",
    "print(f\"Total Time {(time.time()-t1)/60}\")"
   ]
  },
  {
   "cell_type": "code",
   "execution_count": 28,
   "metadata": {},
   "outputs": [],
   "source": [
    "predictor_p2.delete_endpoint()"
   ]
  },
  {
   "cell_type": "markdown",
   "metadata": {},
   "source": [
    "## P3 Instances\n",
    "\n",
    "P3\n",
    "instances are the newest generation of ec2 intended for general-purpose GPU compute applications."
   ]
  },
  {
   "cell_type": "code",
   "execution_count": 67,
   "metadata": {},
   "outputs": [
    {
     "name": "stdout",
     "output_type": "stream",
     "text": [
      "---------------------------------------------------------------------------------------------------------------------------!"
     ]
    }
   ],
   "source": [
    "predictor_p3 = model_p3.deploy(initial_instance_count=1,\n",
    "                        instance_type='ml.p3.2xlarge')"
   ]
  },
  {
   "cell_type": "code",
   "execution_count": 68,
   "metadata": {},
   "outputs": [
    {
     "data": {
      "text/plain": [
       "[{'predicted_class': 'not_hot_dog', 'confidence': '0.704241'}]"
      ]
     },
     "execution_count": 68,
     "metadata": {},
     "output_type": "execute_result"
    }
   ],
   "source": [
    "# load model onto instance\n",
    "predict_hotdog(predictor_p3, random_selection[:1])"
   ]
  },
  {
   "cell_type": "code",
   "execution_count": 70,
   "metadata": {},
   "outputs": [
    {
     "name": "stdout",
     "output_type": "stream",
     "text": [
      "16.4 s ± 170 ms per loop (mean ± std. dev. of 7 runs, 1 loop each)\n",
      "Total Time 1.9120223760604858\n"
     ]
    }
   ],
   "source": [
    "import time\n",
    "\n",
    "t1 = time.time()\n",
    "%timeit -n 1 predict_hotdog(predictor_p3, random_selection)\n",
    "print(f\"Total Time {(time.time()-t1)/60}\")"
   ]
  },
  {
   "cell_type": "code",
   "execution_count": 71,
   "metadata": {},
   "outputs": [],
   "source": [
    "predictor_p3.delete_endpoint()"
   ]
  },
  {
   "cell_type": "markdown",
   "metadata": {},
   "source": [
    "## C5 Instances"
   ]
  },
  {
   "cell_type": "markdown",
   "metadata": {},
   "source": [
    "C5 instances are optimized for compute-intensive workloads and deliver cost-effective high performance at a low price per compute ratio."
   ]
  },
  {
   "cell_type": "code",
   "execution_count": 29,
   "metadata": {},
   "outputs": [
    {
     "name": "stdout",
     "output_type": "stream",
     "text": [
      "---------------------------------------------------------------------------------------!"
     ]
    }
   ],
   "source": [
    "predictor_c5 = model_cpu.deploy(initial_instance_count=1,\n",
    "                        instance_type='ml.c5.xlarge')"
   ]
  },
  {
   "cell_type": "code",
   "execution_count": 30,
   "metadata": {},
   "outputs": [
    {
     "data": {
      "text/plain": [
       "[{'predicted_class': 'not_hot_dog', 'confidence': '0.88609374'}]"
      ]
     },
     "execution_count": 30,
     "metadata": {},
     "output_type": "execute_result"
    }
   ],
   "source": [
    "# load model onto instance\n",
    "predict_hotdog(predictor_c5, random_selection[:1])"
   ]
  },
  {
   "cell_type": "code",
   "execution_count": 31,
   "metadata": {},
   "outputs": [
    {
     "name": "stdout",
     "output_type": "stream",
     "text": [
      "51.8 s ± 410 ms per loop (mean ± std. dev. of 7 runs, 1 loop each)\n",
      "Total Time 6.041615438461304\n"
     ]
    }
   ],
   "source": [
    "t1 = time.time()\n",
    "%timeit -n 1 predict_hotdog(predictor_c5, random_selection)\n",
    "print(f\"Total Time {(time.time()-t1)/60}\")"
   ]
  },
  {
   "cell_type": "code",
   "execution_count": 32,
   "metadata": {},
   "outputs": [],
   "source": [
    "predictor_c5.delete_endpoint()"
   ]
  },
  {
   "cell_type": "markdown",
   "metadata": {},
   "source": [
    "## G4 Instances \n",
    "\n",
    "G4 instances are designed to help accelerate machine learning inference and graphics-intensive workloads."
   ]
  },
  {
   "cell_type": "code",
   "execution_count": 33,
   "metadata": {},
   "outputs": [
    {
     "name": "stdout",
     "output_type": "stream",
     "text": [
      "---------------------------------------------------------------------------------------------------!"
     ]
    }
   ],
   "source": [
    "predictor_g4 = model_g4.deploy(initial_instance_count=1,\n",
    "                        instance_type='ml.g4dn.xlarge')"
   ]
  },
  {
   "cell_type": "code",
   "execution_count": 34,
   "metadata": {},
   "outputs": [
    {
     "data": {
      "text/plain": [
       "[{'predicted_class': 'not_hot_dog', 'confidence': '0.88609356'}]"
      ]
     },
     "execution_count": 34,
     "metadata": {},
     "output_type": "execute_result"
    }
   ],
   "source": [
    "# load model onto instance\n",
    "predict_hotdog(predictor_g4, random_selection[:1])"
   ]
  },
  {
   "cell_type": "code",
   "execution_count": 35,
   "metadata": {},
   "outputs": [
    {
     "name": "stdout",
     "output_type": "stream",
     "text": [
      "15.9 s ± 217 ms per loop (mean ± std. dev. of 7 runs, 1 loop each)\n",
      "Total Time 1.8551597436269125\n"
     ]
    }
   ],
   "source": [
    "t1 = time.time()\n",
    "%timeit -n 1 predict_hotdog(predictor_g4, random_selection)\n",
    "print(f\"Total Time {(time.time()-t1)/60}\")"
   ]
  },
  {
   "cell_type": "code",
   "execution_count": 36,
   "metadata": {},
   "outputs": [],
   "source": [
    "predictor_g4.delete_endpoint()"
   ]
  },
  {
   "cell_type": "markdown",
   "metadata": {},
   "source": [
    "## Elastic Inference\n",
    "\n",
    "Amazon Elastic Inference allows you to attach low-cost GPU-powered acceleration to Amazon EC2 and Amazon SageMaker instances or Amazon ECS tasks to reduce the cost of running deep learning inference by up to 75%."
   ]
  },
  {
   "cell_type": "code",
   "execution_count": 37,
   "metadata": {},
   "outputs": [
    {
     "name": "stdout",
     "output_type": "stream",
     "text": [
      "---------------------------------------------------------------------------------------------------------------!"
     ]
    }
   ],
   "source": [
    "predictor_ei = model_eia.deploy(initial_instance_count=1, \n",
    "                        instance_type='ml.c5.large',\n",
    "                            accelerator_type='ml.eia2.medium')"
   ]
  },
  {
   "cell_type": "code",
   "execution_count": 38,
   "metadata": {},
   "outputs": [
    {
     "data": {
      "text/plain": [
       "[{'predicted_class': 'not_hot_dog', 'confidence': '0.88609356'}]"
      ]
     },
     "execution_count": 38,
     "metadata": {},
     "output_type": "execute_result"
    }
   ],
   "source": [
    "predict_hotdog(predictor_ei, random_selection[:1])"
   ]
  },
  {
   "cell_type": "code",
   "execution_count": 39,
   "metadata": {},
   "outputs": [
    {
     "name": "stdout",
     "output_type": "stream",
     "text": [
      "20.8 s ± 620 ms per loop (mean ± std. dev. of 7 runs, 1 loop each)\n",
      "Total Time 2.4239836931228638\n"
     ]
    }
   ],
   "source": [
    "t1 = time.time()\n",
    "%timeit -n 1 predict_hotdog(predictor_ei, random_selection)\n",
    "print(f\"Total Time {(time.time()-t1)/60}\")"
   ]
  },
  {
   "cell_type": "code",
   "execution_count": 40,
   "metadata": {},
   "outputs": [],
   "source": [
    "predictor_ei.delete_endpoint()"
   ]
  },
  {
   "cell_type": "markdown",
   "metadata": {},
   "source": [
    "## Sagemaker Neo\n",
    "\n",
    "Amazon SageMaker Neo enables developers to train machine learning models once and run them anywhere in the cloud and at the edge. Amazon SageMaker Neo optimizes models to run up to twice as fast, with less than a tenth of the memory footprint, with no loss in accuracy."
   ]
  },
  {
   "cell_type": "markdown",
   "metadata": {},
   "source": [
    "## Neo Optimized C5"
   ]
  },
  {
   "cell_type": "code",
   "execution_count": 41,
   "metadata": {},
   "outputs": [
    {
     "name": "stdout",
     "output_type": "stream",
     "text": [
      "---------------------------------------------------------------------------------------!"
     ]
    }
   ],
   "source": [
    "compiled_predictor = compiled_model_cpu.deploy(initial_instance_count=1, \n",
    "                                               instance_type='ml.c5.xlarge')\n",
    "\n",
    "compiled_predictor.content_type = 'application/vnd+python.numpy+binary'\n",
    "compiled_predictor.serializer = numpy_bytes_serializer"
   ]
  },
  {
   "cell_type": "code",
   "execution_count": 42,
   "metadata": {},
   "outputs": [
    {
     "data": {
      "text/plain": [
       "[{'predicted_class': 'not_hot_dog', 'confidence': '0.8860937'}]"
      ]
     },
     "execution_count": 42,
     "metadata": {},
     "output_type": "execute_result"
    }
   ],
   "source": [
    "predict_hotdog(compiled_predictor, random_selection[:1])"
   ]
  },
  {
   "cell_type": "code",
   "execution_count": 43,
   "metadata": {},
   "outputs": [
    {
     "name": "stdout",
     "output_type": "stream",
     "text": [
      "21.7 s ± 1.97 s per loop (mean ± std. dev. of 7 runs, 1 loop each)\n",
      "Total Time 2.5276662866274515\n"
     ]
    }
   ],
   "source": [
    "t1 = time.time()\n",
    "%timeit -n 1 predict_hotdog(compiled_predictor, random_selection)\n",
    "print(f\"Total Time {(time.time()-t1)/60}\")"
   ]
  },
  {
   "cell_type": "code",
   "execution_count": 44,
   "metadata": {},
   "outputs": [],
   "source": [
    "compiled_predictor.delete_endpoint()"
   ]
  },
  {
   "cell_type": "markdown",
   "metadata": {},
   "source": [
    "## Neo Optimized G4"
   ]
  },
  {
   "cell_type": "code",
   "execution_count": 45,
   "metadata": {},
   "outputs": [
    {
     "name": "stdout",
     "output_type": "stream",
     "text": [
      "----------------------------------------------------------------------------------------------------------------!"
     ]
    }
   ],
   "source": [
    "from sagemaker.predictor import npy_serializer, json_deserializer, json_serializer\n",
    "compiled_predictor = compiled_model_gpu.deploy(initial_instance_count=1, \n",
    "                                               instance_type='ml.g4dn.xlarge')\n",
    "\n",
    "compiled_predictor.content_type = 'application/vnd+python.numpy+binary'\n",
    "compiled_predictor.serializer = numpy_bytes_serializer"
   ]
  },
  {
   "cell_type": "code",
   "execution_count": 46,
   "metadata": {},
   "outputs": [
    {
     "data": {
      "text/plain": [
       "[{'predicted_class': 'not_hot_dog', 'confidence': '0.8860937'}]"
      ]
     },
     "execution_count": 46,
     "metadata": {},
     "output_type": "execute_result"
    }
   ],
   "source": [
    "predict_hotdog(compiled_predictor, random_selection[:1])"
   ]
  },
  {
   "cell_type": "code",
   "execution_count": 47,
   "metadata": {},
   "outputs": [
    {
     "name": "stdout",
     "output_type": "stream",
     "text": [
      "2.67 s ± 127 ms per loop (mean ± std. dev. of 7 runs, 1 loop each)\n",
      "Total Time 0.3110075076421102\n"
     ]
    }
   ],
   "source": [
    "import time\n",
    "t1 = time.time()\n",
    "%timeit -n 1 predict_hotdog(compiled_predictor, random_selection)\n",
    "print(f\"Total Time {(time.time()-t1)/60}\")"
   ]
  },
  {
   "cell_type": "code",
   "execution_count": 48,
   "metadata": {},
   "outputs": [],
   "source": [
    "compiled_predictor.delete_endpoint()"
   ]
  },
  {
   "cell_type": "markdown",
   "metadata": {},
   "source": [
    "## Neo Optimized P2 "
   ]
  },
  {
   "cell_type": "code",
   "execution_count": 49,
   "metadata": {},
   "outputs": [
    {
     "name": "stdout",
     "output_type": "stream",
     "text": [
      "---------------------------------------------------------------------------------------------------------------------------------------------------!"
     ]
    }
   ],
   "source": [
    "from sagemaker.predictor import npy_serializer, json_deserializer, json_serializer\n",
    "compiled_predictor = compiled_model_gpu.deploy(initial_instance_count=1, \n",
    "                                               instance_type='ml.p2.xlarge')\n",
    "\n",
    "compiled_predictor.content_type = 'application/vnd+python.numpy+binary'\n",
    "compiled_predictor.serializer = numpy_bytes_serializer"
   ]
  },
  {
   "cell_type": "code",
   "execution_count": 50,
   "metadata": {},
   "outputs": [
    {
     "data": {
      "text/plain": [
       "[{'predicted_class': 'not_hot_dog', 'confidence': '0.8860937'}]"
      ]
     },
     "execution_count": 50,
     "metadata": {},
     "output_type": "execute_result"
    }
   ],
   "source": [
    "predict_hotdog(compiled_predictor, random_selection[:1])"
   ]
  },
  {
   "cell_type": "code",
   "execution_count": 51,
   "metadata": {},
   "outputs": [
    {
     "name": "stdout",
     "output_type": "stream",
     "text": [
      "5.19 s ± 149 ms per loop (mean ± std. dev. of 7 runs, 1 loop each)\n",
      "Total Time 0.6050745129585267\n"
     ]
    }
   ],
   "source": [
    "import time\n",
    "t1 = time.time()\n",
    "%timeit -n 1 predict_hotdog(compiled_predictor, random_selection)\n",
    "print(f\"Total Time {(time.time()-t1)/60}\")"
   ]
  },
  {
   "cell_type": "code",
   "execution_count": 52,
   "metadata": {},
   "outputs": [],
   "source": [
    "compiled_predictor.delete_endpoint()"
   ]
  },
  {
   "cell_type": "markdown",
   "metadata": {},
   "source": [
    "## Neo Compiled P3 Instances\n",
    "\n",
    "P2 instances are intended for general-purpose GPU compute applications."
   ]
  },
  {
   "cell_type": "code",
   "execution_count": 60,
   "metadata": {},
   "outputs": [
    {
     "name": "stdout",
     "output_type": "stream",
     "text": [
      "---------------------------------------------------------------------------------------------------------------------------------------!"
     ]
    }
   ],
   "source": [
    "from sagemaker.predictor import npy_serializer, json_deserializer, json_serializer\n",
    "compiled_predictor = compiled_model_p3.deploy(initial_instance_count=1, \n",
    "                                               instance_type='ml.p3.2xlarge')\n",
    "\n",
    "compiled_predictor.content_type = 'application/vnd+python.numpy+binary'\n",
    "compiled_predictor.serializer = numpy_bytes_serializer"
   ]
  },
  {
   "cell_type": "code",
   "execution_count": 63,
   "metadata": {},
   "outputs": [
    {
     "data": {
      "text/plain": [
       "[{'predicted_class': 'not_hot_dog', 'confidence': '0.70424116'}]"
      ]
     },
     "execution_count": 63,
     "metadata": {},
     "output_type": "execute_result"
    }
   ],
   "source": [
    "predict_hotdog(compiled_predictor, random_selection[:1])"
   ]
  },
  {
   "cell_type": "code",
   "execution_count": 64,
   "metadata": {},
   "outputs": [
    {
     "name": "stdout",
     "output_type": "stream",
     "text": [
      "2.24 s ± 35.1 ms per loop (mean ± std. dev. of 7 runs, 1 loop each)\n",
      "Total Time 0.2618632833162943\n"
     ]
    }
   ],
   "source": [
    "import time\n",
    "t1 = time.time()\n",
    "%timeit -n 1 predict_hotdog(compiled_predictor, random_selection)\n",
    "print(f\"Total Time {(time.time()-t1)/60}\")"
   ]
  },
  {
   "cell_type": "code",
   "execution_count": 65,
   "metadata": {},
   "outputs": [
    {
     "ename": "ClientError",
     "evalue": "An error occurred (ValidationException) when calling the DeleteEndpointConfig operation: Could not find endpoint configuration \"arn:aws:sagemaker:us-east-1:178197730631:endpoint-config/mxnet-inference-2019-12-14-03-52-58-645\".",
     "output_type": "error",
     "traceback": [
      "\u001b[0;31m---------------------------------------------------------------------------\u001b[0m",
      "\u001b[0;31mClientError\u001b[0m                               Traceback (most recent call last)",
      "\u001b[0;32m<ipython-input-65-e430d4a06528>\u001b[0m in \u001b[0;36m<module>\u001b[0;34m()\u001b[0m\n\u001b[0;32m----> 1\u001b[0;31m \u001b[0mpredictor_p3\u001b[0m\u001b[0;34m.\u001b[0m\u001b[0mdelete_endpoint\u001b[0m\u001b[0;34m(\u001b[0m\u001b[0;34m)\u001b[0m\u001b[0;34m\u001b[0m\u001b[0m\n\u001b[0m",
      "\u001b[0;32m~/anaconda3/envs/amazonei_mxnet_p36/lib/python3.6/site-packages/sagemaker/predictor.py\u001b[0m in \u001b[0;36mdelete_endpoint\u001b[0;34m(self, delete_endpoint_config)\u001b[0m\n\u001b[1;32m    160\u001b[0m         \"\"\"\n\u001b[1;32m    161\u001b[0m         \u001b[0;32mif\u001b[0m \u001b[0mdelete_endpoint_config\u001b[0m\u001b[0;34m:\u001b[0m\u001b[0;34m\u001b[0m\u001b[0m\n\u001b[0;32m--> 162\u001b[0;31m             \u001b[0mself\u001b[0m\u001b[0;34m.\u001b[0m\u001b[0m_delete_endpoint_config\u001b[0m\u001b[0;34m(\u001b[0m\u001b[0;34m)\u001b[0m\u001b[0;34m\u001b[0m\u001b[0m\n\u001b[0m\u001b[1;32m    163\u001b[0m \u001b[0;34m\u001b[0m\u001b[0m\n\u001b[1;32m    164\u001b[0m         \u001b[0mself\u001b[0m\u001b[0;34m.\u001b[0m\u001b[0msagemaker_session\u001b[0m\u001b[0;34m.\u001b[0m\u001b[0mdelete_endpoint\u001b[0m\u001b[0;34m(\u001b[0m\u001b[0mself\u001b[0m\u001b[0;34m.\u001b[0m\u001b[0mendpoint\u001b[0m\u001b[0;34m)\u001b[0m\u001b[0;34m\u001b[0m\u001b[0m\n",
      "\u001b[0;32m~/anaconda3/envs/amazonei_mxnet_p36/lib/python3.6/site-packages/sagemaker/predictor.py\u001b[0m in \u001b[0;36m_delete_endpoint_config\u001b[0;34m(self)\u001b[0m\n\u001b[1;32m    146\u001b[0m     \u001b[0;32mdef\u001b[0m \u001b[0m_delete_endpoint_config\u001b[0m\u001b[0;34m(\u001b[0m\u001b[0mself\u001b[0m\u001b[0;34m)\u001b[0m\u001b[0;34m:\u001b[0m\u001b[0;34m\u001b[0m\u001b[0m\n\u001b[1;32m    147\u001b[0m         \u001b[0;34m\"\"\"Delete the Amazon SageMaker endpoint configuration\"\"\"\u001b[0m\u001b[0;34m\u001b[0m\u001b[0m\n\u001b[0;32m--> 148\u001b[0;31m         \u001b[0mself\u001b[0m\u001b[0;34m.\u001b[0m\u001b[0msagemaker_session\u001b[0m\u001b[0;34m.\u001b[0m\u001b[0mdelete_endpoint_config\u001b[0m\u001b[0;34m(\u001b[0m\u001b[0mself\u001b[0m\u001b[0;34m.\u001b[0m\u001b[0m_endpoint_config_name\u001b[0m\u001b[0;34m)\u001b[0m\u001b[0;34m\u001b[0m\u001b[0m\n\u001b[0m\u001b[1;32m    149\u001b[0m \u001b[0;34m\u001b[0m\u001b[0m\n\u001b[1;32m    150\u001b[0m     \u001b[0;32mdef\u001b[0m \u001b[0mdelete_endpoint\u001b[0m\u001b[0;34m(\u001b[0m\u001b[0mself\u001b[0m\u001b[0;34m,\u001b[0m \u001b[0mdelete_endpoint_config\u001b[0m\u001b[0;34m=\u001b[0m\u001b[0;32mTrue\u001b[0m\u001b[0;34m)\u001b[0m\u001b[0;34m:\u001b[0m\u001b[0;34m\u001b[0m\u001b[0m\n",
      "\u001b[0;32m~/anaconda3/envs/amazonei_mxnet_p36/lib/python3.6/site-packages/sagemaker/session.py\u001b[0m in \u001b[0;36mdelete_endpoint_config\u001b[0;34m(self, endpoint_config_name)\u001b[0m\n\u001b[1;32m   2387\u001b[0m         \"\"\"\n\u001b[1;32m   2388\u001b[0m         \u001b[0mLOGGER\u001b[0m\u001b[0;34m.\u001b[0m\u001b[0minfo\u001b[0m\u001b[0;34m(\u001b[0m\u001b[0;34m\"Deleting endpoint configuration with name: %s\"\u001b[0m\u001b[0;34m,\u001b[0m \u001b[0mendpoint_config_name\u001b[0m\u001b[0;34m)\u001b[0m\u001b[0;34m\u001b[0m\u001b[0m\n\u001b[0;32m-> 2389\u001b[0;31m         \u001b[0mself\u001b[0m\u001b[0;34m.\u001b[0m\u001b[0msagemaker_client\u001b[0m\u001b[0;34m.\u001b[0m\u001b[0mdelete_endpoint_config\u001b[0m\u001b[0;34m(\u001b[0m\u001b[0mEndpointConfigName\u001b[0m\u001b[0;34m=\u001b[0m\u001b[0mendpoint_config_name\u001b[0m\u001b[0;34m)\u001b[0m\u001b[0;34m\u001b[0m\u001b[0m\n\u001b[0m\u001b[1;32m   2390\u001b[0m \u001b[0;34m\u001b[0m\u001b[0m\n\u001b[1;32m   2391\u001b[0m     \u001b[0;32mdef\u001b[0m \u001b[0mdelete_model\u001b[0m\u001b[0;34m(\u001b[0m\u001b[0mself\u001b[0m\u001b[0;34m,\u001b[0m \u001b[0mmodel_name\u001b[0m\u001b[0;34m)\u001b[0m\u001b[0;34m:\u001b[0m\u001b[0;34m\u001b[0m\u001b[0m\n",
      "\u001b[0;32m~/anaconda3/envs/amazonei_mxnet_p36/lib/python3.6/site-packages/botocore/client.py\u001b[0m in \u001b[0;36m_api_call\u001b[0;34m(self, *args, **kwargs)\u001b[0m\n\u001b[1;32m    355\u001b[0m                     \"%s() only accepts keyword arguments.\" % py_operation_name)\n\u001b[1;32m    356\u001b[0m             \u001b[0;31m# The \"self\" in this scope is referring to the BaseClient.\u001b[0m\u001b[0;34m\u001b[0m\u001b[0;34m\u001b[0m\u001b[0m\n\u001b[0;32m--> 357\u001b[0;31m             \u001b[0;32mreturn\u001b[0m \u001b[0mself\u001b[0m\u001b[0;34m.\u001b[0m\u001b[0m_make_api_call\u001b[0m\u001b[0;34m(\u001b[0m\u001b[0moperation_name\u001b[0m\u001b[0;34m,\u001b[0m \u001b[0mkwargs\u001b[0m\u001b[0;34m)\u001b[0m\u001b[0;34m\u001b[0m\u001b[0m\n\u001b[0m\u001b[1;32m    358\u001b[0m \u001b[0;34m\u001b[0m\u001b[0m\n\u001b[1;32m    359\u001b[0m         \u001b[0m_api_call\u001b[0m\u001b[0;34m.\u001b[0m\u001b[0m__name__\u001b[0m \u001b[0;34m=\u001b[0m \u001b[0mstr\u001b[0m\u001b[0;34m(\u001b[0m\u001b[0mpy_operation_name\u001b[0m\u001b[0;34m)\u001b[0m\u001b[0;34m\u001b[0m\u001b[0m\n",
      "\u001b[0;32m~/anaconda3/envs/amazonei_mxnet_p36/lib/python3.6/site-packages/botocore/client.py\u001b[0m in \u001b[0;36m_make_api_call\u001b[0;34m(self, operation_name, api_params)\u001b[0m\n\u001b[1;32m    659\u001b[0m             \u001b[0merror_code\u001b[0m \u001b[0;34m=\u001b[0m \u001b[0mparsed_response\u001b[0m\u001b[0;34m.\u001b[0m\u001b[0mget\u001b[0m\u001b[0;34m(\u001b[0m\u001b[0;34m\"Error\"\u001b[0m\u001b[0;34m,\u001b[0m \u001b[0;34m{\u001b[0m\u001b[0;34m}\u001b[0m\u001b[0;34m)\u001b[0m\u001b[0;34m.\u001b[0m\u001b[0mget\u001b[0m\u001b[0;34m(\u001b[0m\u001b[0;34m\"Code\"\u001b[0m\u001b[0;34m)\u001b[0m\u001b[0;34m\u001b[0m\u001b[0m\n\u001b[1;32m    660\u001b[0m             \u001b[0merror_class\u001b[0m \u001b[0;34m=\u001b[0m \u001b[0mself\u001b[0m\u001b[0;34m.\u001b[0m\u001b[0mexceptions\u001b[0m\u001b[0;34m.\u001b[0m\u001b[0mfrom_code\u001b[0m\u001b[0;34m(\u001b[0m\u001b[0merror_code\u001b[0m\u001b[0;34m)\u001b[0m\u001b[0;34m\u001b[0m\u001b[0m\n\u001b[0;32m--> 661\u001b[0;31m             \u001b[0;32mraise\u001b[0m \u001b[0merror_class\u001b[0m\u001b[0;34m(\u001b[0m\u001b[0mparsed_response\u001b[0m\u001b[0;34m,\u001b[0m \u001b[0moperation_name\u001b[0m\u001b[0;34m)\u001b[0m\u001b[0;34m\u001b[0m\u001b[0m\n\u001b[0m\u001b[1;32m    662\u001b[0m         \u001b[0;32melse\u001b[0m\u001b[0;34m:\u001b[0m\u001b[0;34m\u001b[0m\u001b[0m\n\u001b[1;32m    663\u001b[0m             \u001b[0;32mreturn\u001b[0m \u001b[0mparsed_response\u001b[0m\u001b[0;34m\u001b[0m\u001b[0m\n",
      "\u001b[0;31mClientError\u001b[0m: An error occurred (ValidationException) when calling the DeleteEndpointConfig operation: Could not find endpoint configuration \"arn:aws:sagemaker:us-east-1:178197730631:endpoint-config/mxnet-inference-2019-12-14-03-52-58-645\"."
     ]
    }
   ],
   "source": [
    "predictor_p3.delete_endpoint()"
   ]
  },
  {
   "cell_type": "code",
   "execution_count": null,
   "metadata": {},
   "outputs": [],
   "source": []
  }
 ],
 "metadata": {
  "kernelspec": {
   "display_name": "conda_amazonei_mxnet_p36",
   "language": "python",
   "name": "conda_amazonei_mxnet_p36"
  },
  "language_info": {
   "codemirror_mode": {
    "name": "ipython",
    "version": 3
   },
   "file_extension": ".py",
   "mimetype": "text/x-python",
   "name": "python",
   "nbconvert_exporter": "python",
   "pygments_lexer": "ipython3",
   "version": "3.6.5"
  }
 },
 "nbformat": 4,
 "nbformat_minor": 4
}
